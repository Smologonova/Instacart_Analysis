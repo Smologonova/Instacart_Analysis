{
 "cells": [
  {
   "cell_type": "markdown",
   "id": "0043a58a",
   "metadata": {},
   "source": [
    "## Table of contents"
   ]
  },
  {
   "cell_type": "markdown",
   "id": "b0ce1764",
   "metadata": {},
   "source": [
    "# 01. Importing Libraries"
   ]
  },
  {
   "cell_type": "markdown",
   "id": "03a6cffe",
   "metadata": {},
   "source": [
    "# 02. Python Data Types"
   ]
  },
  {
   "cell_type": "code",
   "execution_count": null,
   "id": "f1402948",
   "metadata": {},
   "outputs": [],
   "source": []
  },
  {
   "cell_type": "markdown",
   "id": "3a76265b",
   "metadata": {},
   "source": [
    "# 01. Importing Libraries"
   ]
  },
  {
   "cell_type": "code",
   "execution_count": 1,
   "id": "cda33831",
   "metadata": {},
   "outputs": [],
   "source": [
    "# Import libraries\n",
    "import pandas as pd\n",
    "import numpy as np\n",
    "import os"
   ]
  },
  {
   "cell_type": "markdown",
   "id": "4b28b3a4",
   "metadata": {},
   "source": [
    "# 02. Python Data Types"
   ]
  },
  {
   "cell_type": "code",
   "execution_count": 2,
   "id": "4180298e",
   "metadata": {},
   "outputs": [],
   "source": [
    "#1. result of 100\n",
    "x=300"
   ]
  },
  {
   "cell_type": "code",
   "execution_count": 3,
   "id": "876d8b9a",
   "metadata": {},
   "outputs": [],
   "source": [
    "y=3"
   ]
  },
  {
   "cell_type": "code",
   "execution_count": 4,
   "id": "dbbbbc96",
   "metadata": {},
   "outputs": [
    {
     "data": {
      "text/plain": [
       "100.0"
      ]
     },
     "execution_count": 4,
     "metadata": {},
     "output_type": "execute_result"
    }
   ],
   "source": [
    "x/y"
   ]
  },
  {
   "cell_type": "code",
   "execution_count": 5,
   "id": "98b13444",
   "metadata": {},
   "outputs": [],
   "source": [
    "#2. result of 100\n",
    "z=20"
   ]
  },
  {
   "cell_type": "code",
   "execution_count": 6,
   "id": "5173dfa5",
   "metadata": {},
   "outputs": [
    {
     "data": {
      "text/plain": [
       "100"
      ]
     },
     "execution_count": 6,
     "metadata": {},
     "output_type": "execute_result"
    }
   ],
   "source": [
    "z*5"
   ]
  },
  {
   "cell_type": "code",
   "execution_count": 7,
   "id": "e1f6f598",
   "metadata": {},
   "outputs": [
    {
     "data": {
      "text/plain": [
       "100"
      ]
     },
     "execution_count": 7,
     "metadata": {},
     "output_type": "execute_result"
    }
   ],
   "source": [
    "#3. result of 100\n",
    "x-(z*10)"
   ]
  },
  {
   "cell_type": "code",
   "execution_count": 8,
   "id": "8d488d5e",
   "metadata": {},
   "outputs": [],
   "source": [
    "# floating-point variavles\n",
    "a=17.245\n",
    "b=6.387"
   ]
  },
  {
   "cell_type": "code",
   "execution_count": 9,
   "id": "301984c0",
   "metadata": {},
   "outputs": [
    {
     "data": {
      "text/plain": [
       "2.700015656802881"
      ]
     },
     "execution_count": 9,
     "metadata": {},
     "output_type": "execute_result"
    }
   ],
   "source": [
    "a/b"
   ]
  },
  {
   "cell_type": "code",
   "execution_count": 10,
   "id": "eb745087",
   "metadata": {},
   "outputs": [],
   "source": [
    "#shortword\n",
    "c='friend'\n",
    "d='ship'"
   ]
  },
  {
   "cell_type": "code",
   "execution_count": 11,
   "id": "2b8e33af",
   "metadata": {},
   "outputs": [
    {
     "data": {
      "text/plain": [
       "'friendship'"
      ]
     },
     "execution_count": 11,
     "metadata": {},
     "output_type": "execute_result"
    }
   ],
   "source": [
    "c+d"
   ]
  },
  {
   "cell_type": "code",
   "execution_count": 12,
   "id": "46bbd59e",
   "metadata": {},
   "outputs": [],
   "source": [
    "#1.short sentence\n",
    "e='What '\n",
    "f='a '\n",
    "g='beautiful '\n",
    "h='day!'"
   ]
  },
  {
   "cell_type": "code",
   "execution_count": 13,
   "id": "615cfc4a",
   "metadata": {},
   "outputs": [
    {
     "data": {
      "text/plain": [
       "'What a beautiful day!'"
      ]
     },
     "execution_count": 13,
     "metadata": {},
     "output_type": "execute_result"
    }
   ],
   "source": [
    "e+f+g+h"
   ]
  },
  {
   "cell_type": "code",
   "execution_count": 14,
   "id": "a02abf4c",
   "metadata": {},
   "outputs": [],
   "source": [
    "#2. short sentences\n",
    "i='\"Attitude is a little thing '\n",
    "j='that makes a big difference.\"'\n",
    "k='Winston Churchill'"
   ]
  },
  {
   "cell_type": "code",
   "execution_count": 15,
   "id": "0a4a2aa3",
   "metadata": {},
   "outputs": [
    {
     "data": {
      "text/plain": [
       "'\"Attitude is a little thing that makes a big difference.\"Winston Churchill'"
      ]
     },
     "execution_count": 15,
     "metadata": {},
     "output_type": "execute_result"
    }
   ],
   "source": [
    "i+j+k"
   ]
  },
  {
   "cell_type": "code",
   "execution_count": 16,
   "id": "b81c2fcb",
   "metadata": {},
   "outputs": [
    {
     "data": {
      "text/plain": [
       "'What a beautiful day!What a beautiful day!What a beautiful day!What a beautiful day!What a beautiful day!What a beautiful day!What a beautiful day!What a beautiful day!What a beautiful day!What a beautiful day!What a beautiful day!What a beautiful day!What a beautiful day!What a beautiful day!What a beautiful day!What a beautiful day!What a beautiful day!What a beautiful day!What a beautiful day!What a beautiful day!What a beautiful day!What a beautiful day!What a beautiful day!What a beautiful day!What a beautiful day!What a beautiful day!What a beautiful day!What a beautiful day!What a beautiful day!What a beautiful day!What a beautiful day!What a beautiful day!What a beautiful day!What a beautiful day!What a beautiful day!What a beautiful day!What a beautiful day!What a beautiful day!What a beautiful day!What a beautiful day!What a beautiful day!What a beautiful day!What a beautiful day!What a beautiful day!What a beautiful day!What a beautiful day!What a beautiful day!What a beautiful day!What a beautiful day!What a beautiful day!What a beautiful day!What a beautiful day!What a beautiful day!What a beautiful day!What a beautiful day!What a beautiful day!What a beautiful day!What a beautiful day!What a beautiful day!What a beautiful day!What a beautiful day!What a beautiful day!What a beautiful day!What a beautiful day!What a beautiful day!What a beautiful day!What a beautiful day!What a beautiful day!What a beautiful day!What a beautiful day!What a beautiful day!What a beautiful day!What a beautiful day!What a beautiful day!What a beautiful day!What a beautiful day!What a beautiful day!What a beautiful day!What a beautiful day!What a beautiful day!What a beautiful day!What a beautiful day!What a beautiful day!What a beautiful day!What a beautiful day!What a beautiful day!What a beautiful day!What a beautiful day!What a beautiful day!What a beautiful day!What a beautiful day!What a beautiful day!What a beautiful day!What a beautiful day!What a beautiful day!What a beautiful day!What a beautiful day!What a beautiful day!What a beautiful day!What a beautiful day!'"
      ]
     },
     "execution_count": 16,
     "metadata": {},
     "output_type": "execute_result"
    }
   ],
   "source": [
    "#bonus task\n",
    "(e+f+g+h)*100"
   ]
  },
  {
   "cell_type": "code",
   "execution_count": null,
   "id": "93ec17ea",
   "metadata": {},
   "outputs": [],
   "source": []
  }
 ],
 "metadata": {
  "kernelspec": {
   "display_name": "Python 3 (ipykernel)",
   "language": "python",
   "name": "python3"
  },
  "language_info": {
   "codemirror_mode": {
    "name": "ipython",
    "version": 3
   },
   "file_extension": ".py",
   "mimetype": "text/x-python",
   "name": "python",
   "nbconvert_exporter": "python",
   "pygments_lexer": "ipython3",
   "version": "3.9.12"
  }
 },
 "nbformat": 4,
 "nbformat_minor": 5
}
