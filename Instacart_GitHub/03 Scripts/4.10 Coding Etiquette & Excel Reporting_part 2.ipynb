{
 "cells": [
  {
   "cell_type": "markdown",
   "id": "95a6c1e3",
   "metadata": {},
   "source": [
    "### Table of contents\n"
   ]
  },
  {
   "cell_type": "markdown",
   "id": "8a3ff0c6",
   "metadata": {},
   "source": [
    "### 01. Import Data and Libraries"
   ]
  },
  {
   "cell_type": "markdown",
   "id": "1868abd1",
   "metadata": {},
   "source": [
    "### 02. Key questions"
   ]
  },
  {
   "cell_type": "markdown",
   "id": "0937dff2",
   "metadata": {},
   "source": [
    "#### 1. The sales team needs to know what the busiest days of the week and hours of the day are (i.e., the days and times with the most orders) in order to schedule ads at times when there are fewer orders."
   ]
  },
  {
   "cell_type": "markdown",
   "id": "e7d3ea60",
   "metadata": {},
   "source": [
    "#### 2.The sales team also wants to know whether there are particular times of the day when people spend the most money, as this might inform the type of products they advertise at these times."
   ]
  },
  {
   "cell_type": "markdown",
   "id": "be497afe",
   "metadata": {},
   "source": [
    "#### 3.Instacart has a lot of products with different price tags. Marketing and sales want to use simpler price range groupings to help direct their efforts."
   ]
  },
  {
   "cell_type": "markdown",
   "id": "863def92",
   "metadata": {},
   "source": [
    "#### 4. Are there certain types of products that are more popular than others? The marketing and sales teams want to know which departments have the highest frequency of product orders."
   ]
  },
  {
   "cell_type": "markdown",
   "id": "f93ec016",
   "metadata": {},
   "source": [
    "#### 5. What’s the distribution among users in regards to their brand loyalty (i.e., how often do they return to Instacart)?"
   ]
  },
  {
   "cell_type": "markdown",
   "id": "24a79323",
   "metadata": {},
   "source": [
    "#### 6. Are there differences in ordering habits based on a customer’s loyalty status?"
   ]
  },
  {
   "cell_type": "markdown",
   "id": "cd2a3fbb",
   "metadata": {},
   "source": [
    "#### 7. Are there differences in ordering habits based on a customer’s region?"
   ]
  },
  {
   "cell_type": "markdown",
   "id": "ce556d4a",
   "metadata": {},
   "source": [
    "#### 8.  Is there a connection between age and family status in terms of ordering habits?"
   ]
  },
  {
   "cell_type": "markdown",
   "id": "bb34609d",
   "metadata": {},
   "source": [
    "#### 9. What different classifications does the demographic information suggest? Age? Income? Certain types of goods? Family status?"
   ]
  },
  {
   "cell_type": "markdown",
   "id": "3ad7d276",
   "metadata": {},
   "source": [
    "#### 10. What differences can you find in ordering habits of different customer profiles?Consider the price of orders, the frequency of orders, the products customers areordering, and anything else you can think of."
   ]
  },
  {
   "cell_type": "markdown",
   "id": "18b3a196",
   "metadata": {},
   "source": [
    "### 01. Import Data and Libraries"
   ]
  },
  {
   "cell_type": "code",
   "execution_count": 3,
   "id": "06089c24",
   "metadata": {},
   "outputs": [],
   "source": [
    "# Import libraries\n",
    "import pandas as pd\n",
    "import numpy as np\n",
    "import os\n",
    "import matplotlib.pyplot as plt\n",
    "import seaborn as sns\n",
    "import scipy"
   ]
  },
  {
   "cell_type": "code",
   "execution_count": 4,
   "id": "88e4a18b",
   "metadata": {},
   "outputs": [],
   "source": [
    "# Define path\n",
    "path = r'C:\\Users\\iryna\\Documents\\Data analytics\\Career foundry\\4. Python\\06-2022 Instacart Basket Analysis'"
   ]
  },
  {
   "cell_type": "code",
   "execution_count": 5,
   "id": "d985549d",
   "metadata": {},
   "outputs": [],
   "source": [
    "# Import Data\n",
    "ords_prods = pd.read_pickle(os.path.join(path, '02 Data', 'Prepared Data', 'ords_prods_regions_final.pkl'))"
   ]
  },
  {
   "cell_type": "code",
   "execution_count": 6,
   "id": "fa489798",
   "metadata": {},
   "outputs": [
    {
     "data": {
      "text/plain": [
       "(32404859, 35)"
      ]
     },
     "execution_count": 6,
     "metadata": {},
     "output_type": "execute_result"
    }
   ],
   "source": [
    "#Checking the output\n",
    "ords_prods.shape"
   ]
  },
  {
   "cell_type": "code",
   "execution_count": 7,
   "id": "f51d4fdc",
   "metadata": {},
   "outputs": [],
   "source": [
    "pd.options.display.max_columns = None"
   ]
  },
  {
   "cell_type": "code",
   "execution_count": 8,
   "id": "189f689a",
   "metadata": {
    "scrolled": true
   },
   "outputs": [
    {
     "data": {
      "text/html": [
       "<div>\n",
       "<style scoped>\n",
       "    .dataframe tbody tr th:only-of-type {\n",
       "        vertical-align: middle;\n",
       "    }\n",
       "\n",
       "    .dataframe tbody tr th {\n",
       "        vertical-align: top;\n",
       "    }\n",
       "\n",
       "    .dataframe thead th {\n",
       "        text-align: right;\n",
       "    }\n",
       "</style>\n",
       "<table border=\"1\" class=\"dataframe\">\n",
       "  <thead>\n",
       "    <tr style=\"text-align: right;\">\n",
       "      <th></th>\n",
       "      <th>order_id</th>\n",
       "      <th>user_id</th>\n",
       "      <th>order_number</th>\n",
       "      <th>order_day_of_week</th>\n",
       "      <th>order_time_of_day</th>\n",
       "      <th>days_since_prior_order</th>\n",
       "      <th>product_id</th>\n",
       "      <th>add_to_cart_order</th>\n",
       "      <th>reordered</th>\n",
       "      <th>product_name</th>\n",
       "      <th>aisle_id</th>\n",
       "      <th>department_id</th>\n",
       "      <th>prices</th>\n",
       "      <th>_merge</th>\n",
       "      <th>price_range_loc</th>\n",
       "      <th>busiest day</th>\n",
       "      <th>busiest days</th>\n",
       "      <th>busiest_period_of_day</th>\n",
       "      <th>max_order</th>\n",
       "      <th>loyalty_flag</th>\n",
       "      <th>avg_price_spent</th>\n",
       "      <th>spender_flag</th>\n",
       "      <th>median_days_since_prior_order</th>\n",
       "      <th>order_frequency_flag</th>\n",
       "      <th>gender_identity</th>\n",
       "      <th>state</th>\n",
       "      <th>age</th>\n",
       "      <th>date_joined</th>\n",
       "      <th>dependants_#</th>\n",
       "      <th>marital_status</th>\n",
       "      <th>income</th>\n",
       "      <th>age_group</th>\n",
       "      <th>income_level</th>\n",
       "      <th>profile</th>\n",
       "      <th>region</th>\n",
       "    </tr>\n",
       "  </thead>\n",
       "  <tbody>\n",
       "    <tr>\n",
       "      <th>0</th>\n",
       "      <td>2539329</td>\n",
       "      <td>1</td>\n",
       "      <td>1</td>\n",
       "      <td>2</td>\n",
       "      <td>8</td>\n",
       "      <td>NaN</td>\n",
       "      <td>196.0</td>\n",
       "      <td>1.0</td>\n",
       "      <td>0.0</td>\n",
       "      <td>Soda</td>\n",
       "      <td>77</td>\n",
       "      <td>7</td>\n",
       "      <td>9.0</td>\n",
       "      <td>both</td>\n",
       "      <td>Mid-range product</td>\n",
       "      <td>Regularly busy</td>\n",
       "      <td>Regularly busy</td>\n",
       "      <td>Average orders</td>\n",
       "      <td>10</td>\n",
       "      <td>New customer</td>\n",
       "      <td>6.367188</td>\n",
       "      <td>Low spender</td>\n",
       "      <td>20.5</td>\n",
       "      <td>Non-frequent customer</td>\n",
       "      <td>Female</td>\n",
       "      <td>Alabama</td>\n",
       "      <td>31</td>\n",
       "      <td>2/17/2019</td>\n",
       "      <td>3</td>\n",
       "      <td>married</td>\n",
       "      <td>40423</td>\n",
       "      <td>Young</td>\n",
       "      <td>Middle</td>\n",
       "      <td>Single parent</td>\n",
       "      <td>South</td>\n",
       "    </tr>\n",
       "    <tr>\n",
       "      <th>1</th>\n",
       "      <td>2398795</td>\n",
       "      <td>1</td>\n",
       "      <td>2</td>\n",
       "      <td>3</td>\n",
       "      <td>7</td>\n",
       "      <td>15.0</td>\n",
       "      <td>196.0</td>\n",
       "      <td>1.0</td>\n",
       "      <td>1.0</td>\n",
       "      <td>Soda</td>\n",
       "      <td>77</td>\n",
       "      <td>7</td>\n",
       "      <td>9.0</td>\n",
       "      <td>both</td>\n",
       "      <td>Mid-range product</td>\n",
       "      <td>Regularly busy</td>\n",
       "      <td>Least busy</td>\n",
       "      <td>Average orders</td>\n",
       "      <td>10</td>\n",
       "      <td>New customer</td>\n",
       "      <td>6.367188</td>\n",
       "      <td>Low spender</td>\n",
       "      <td>20.5</td>\n",
       "      <td>Non-frequent customer</td>\n",
       "      <td>Female</td>\n",
       "      <td>Alabama</td>\n",
       "      <td>31</td>\n",
       "      <td>2/17/2019</td>\n",
       "      <td>3</td>\n",
       "      <td>married</td>\n",
       "      <td>40423</td>\n",
       "      <td>Young</td>\n",
       "      <td>Middle</td>\n",
       "      <td>Single parent</td>\n",
       "      <td>South</td>\n",
       "    </tr>\n",
       "    <tr>\n",
       "      <th>2</th>\n",
       "      <td>473747</td>\n",
       "      <td>1</td>\n",
       "      <td>3</td>\n",
       "      <td>3</td>\n",
       "      <td>12</td>\n",
       "      <td>21.0</td>\n",
       "      <td>196.0</td>\n",
       "      <td>1.0</td>\n",
       "      <td>1.0</td>\n",
       "      <td>Soda</td>\n",
       "      <td>77</td>\n",
       "      <td>7</td>\n",
       "      <td>9.0</td>\n",
       "      <td>both</td>\n",
       "      <td>Mid-range product</td>\n",
       "      <td>Regularly busy</td>\n",
       "      <td>Least busy</td>\n",
       "      <td>Most orders</td>\n",
       "      <td>10</td>\n",
       "      <td>New customer</td>\n",
       "      <td>6.367188</td>\n",
       "      <td>Low spender</td>\n",
       "      <td>20.5</td>\n",
       "      <td>Non-frequent customer</td>\n",
       "      <td>Female</td>\n",
       "      <td>Alabama</td>\n",
       "      <td>31</td>\n",
       "      <td>2/17/2019</td>\n",
       "      <td>3</td>\n",
       "      <td>married</td>\n",
       "      <td>40423</td>\n",
       "      <td>Young</td>\n",
       "      <td>Middle</td>\n",
       "      <td>Single parent</td>\n",
       "      <td>South</td>\n",
       "    </tr>\n",
       "    <tr>\n",
       "      <th>3</th>\n",
       "      <td>2254736</td>\n",
       "      <td>1</td>\n",
       "      <td>4</td>\n",
       "      <td>4</td>\n",
       "      <td>7</td>\n",
       "      <td>29.0</td>\n",
       "      <td>196.0</td>\n",
       "      <td>1.0</td>\n",
       "      <td>1.0</td>\n",
       "      <td>Soda</td>\n",
       "      <td>77</td>\n",
       "      <td>7</td>\n",
       "      <td>9.0</td>\n",
       "      <td>both</td>\n",
       "      <td>Mid-range product</td>\n",
       "      <td>Least busy</td>\n",
       "      <td>Least busy</td>\n",
       "      <td>Average orders</td>\n",
       "      <td>10</td>\n",
       "      <td>New customer</td>\n",
       "      <td>6.367188</td>\n",
       "      <td>Low spender</td>\n",
       "      <td>20.5</td>\n",
       "      <td>Non-frequent customer</td>\n",
       "      <td>Female</td>\n",
       "      <td>Alabama</td>\n",
       "      <td>31</td>\n",
       "      <td>2/17/2019</td>\n",
       "      <td>3</td>\n",
       "      <td>married</td>\n",
       "      <td>40423</td>\n",
       "      <td>Young</td>\n",
       "      <td>Middle</td>\n",
       "      <td>Single parent</td>\n",
       "      <td>South</td>\n",
       "    </tr>\n",
       "    <tr>\n",
       "      <th>4</th>\n",
       "      <td>431534</td>\n",
       "      <td>1</td>\n",
       "      <td>5</td>\n",
       "      <td>4</td>\n",
       "      <td>15</td>\n",
       "      <td>28.0</td>\n",
       "      <td>196.0</td>\n",
       "      <td>1.0</td>\n",
       "      <td>1.0</td>\n",
       "      <td>Soda</td>\n",
       "      <td>77</td>\n",
       "      <td>7</td>\n",
       "      <td>9.0</td>\n",
       "      <td>both</td>\n",
       "      <td>Mid-range product</td>\n",
       "      <td>Least busy</td>\n",
       "      <td>Least busy</td>\n",
       "      <td>Most orders</td>\n",
       "      <td>10</td>\n",
       "      <td>New customer</td>\n",
       "      <td>6.367188</td>\n",
       "      <td>Low spender</td>\n",
       "      <td>20.5</td>\n",
       "      <td>Non-frequent customer</td>\n",
       "      <td>Female</td>\n",
       "      <td>Alabama</td>\n",
       "      <td>31</td>\n",
       "      <td>2/17/2019</td>\n",
       "      <td>3</td>\n",
       "      <td>married</td>\n",
       "      <td>40423</td>\n",
       "      <td>Young</td>\n",
       "      <td>Middle</td>\n",
       "      <td>Single parent</td>\n",
       "      <td>South</td>\n",
       "    </tr>\n",
       "  </tbody>\n",
       "</table>\n",
       "</div>"
      ],
      "text/plain": [
       "   order_id  user_id  order_number  order_day_of_week  order_time_of_day  \\\n",
       "0   2539329        1             1                  2                  8   \n",
       "1   2398795        1             2                  3                  7   \n",
       "2    473747        1             3                  3                 12   \n",
       "3   2254736        1             4                  4                  7   \n",
       "4    431534        1             5                  4                 15   \n",
       "\n",
       "   days_since_prior_order  product_id  add_to_cart_order  reordered  \\\n",
       "0                     NaN       196.0                1.0        0.0   \n",
       "1                    15.0       196.0                1.0        1.0   \n",
       "2                    21.0       196.0                1.0        1.0   \n",
       "3                    29.0       196.0                1.0        1.0   \n",
       "4                    28.0       196.0                1.0        1.0   \n",
       "\n",
       "  product_name  aisle_id  department_id  prices _merge    price_range_loc  \\\n",
       "0         Soda        77              7     9.0   both  Mid-range product   \n",
       "1         Soda        77              7     9.0   both  Mid-range product   \n",
       "2         Soda        77              7     9.0   both  Mid-range product   \n",
       "3         Soda        77              7     9.0   both  Mid-range product   \n",
       "4         Soda        77              7     9.0   both  Mid-range product   \n",
       "\n",
       "      busiest day    busiest days busiest_period_of_day  max_order  \\\n",
       "0  Regularly busy  Regularly busy        Average orders         10   \n",
       "1  Regularly busy      Least busy        Average orders         10   \n",
       "2  Regularly busy      Least busy           Most orders         10   \n",
       "3      Least busy      Least busy        Average orders         10   \n",
       "4      Least busy      Least busy           Most orders         10   \n",
       "\n",
       "   loyalty_flag  avg_price_spent spender_flag  median_days_since_prior_order  \\\n",
       "0  New customer         6.367188  Low spender                           20.5   \n",
       "1  New customer         6.367188  Low spender                           20.5   \n",
       "2  New customer         6.367188  Low spender                           20.5   \n",
       "3  New customer         6.367188  Low spender                           20.5   \n",
       "4  New customer         6.367188  Low spender                           20.5   \n",
       "\n",
       "    order_frequency_flag gender_identity    state  age date_joined  \\\n",
       "0  Non-frequent customer          Female  Alabama   31   2/17/2019   \n",
       "1  Non-frequent customer          Female  Alabama   31   2/17/2019   \n",
       "2  Non-frequent customer          Female  Alabama   31   2/17/2019   \n",
       "3  Non-frequent customer          Female  Alabama   31   2/17/2019   \n",
       "4  Non-frequent customer          Female  Alabama   31   2/17/2019   \n",
       "\n",
       "   dependants_# marital_status  income age_group income_level        profile  \\\n",
       "0             3        married   40423     Young       Middle  Single parent   \n",
       "1             3        married   40423     Young       Middle  Single parent   \n",
       "2             3        married   40423     Young       Middle  Single parent   \n",
       "3             3        married   40423     Young       Middle  Single parent   \n",
       "4             3        married   40423     Young       Middle  Single parent   \n",
       "\n",
       "  region  \n",
       "0  South  \n",
       "1  South  \n",
       "2  South  \n",
       "3  South  \n",
       "4  South  "
      ]
     },
     "execution_count": 8,
     "metadata": {},
     "output_type": "execute_result"
    }
   ],
   "source": [
    "ords_prods.head()"
   ]
  },
  {
   "cell_type": "markdown",
   "id": "7086f26b",
   "metadata": {},
   "source": [
    "### 02. Key questions"
   ]
  },
  {
   "cell_type": "markdown",
   "id": "d83d1b96",
   "metadata": {},
   "source": [
    "#### 1. The sales team needs to know what the busiest days of the week and hours of the day are (i.e., the days and times with the most orders) in order to schedule ads at times when there are fewer orders."
   ]
  },
  {
   "cell_type": "code",
   "execution_count": 9,
   "id": "ff17b3b6",
   "metadata": {},
   "outputs": [],
   "source": [
    "#Creating crosstab order_dow and flag 'busiest day'\n",
    "crosstab_dow = pd.crosstab(ords_prods['order_day_of_week'], ords_prods['busiest days'], dropna = False )"
   ]
  },
  {
   "cell_type": "code",
   "execution_count": 10,
   "id": "41cece5d",
   "metadata": {},
   "outputs": [
    {
     "data": {
      "text/html": [
       "<div>\n",
       "<style scoped>\n",
       "    .dataframe tbody tr th:only-of-type {\n",
       "        vertical-align: middle;\n",
       "    }\n",
       "\n",
       "    .dataframe tbody tr th {\n",
       "        vertical-align: top;\n",
       "    }\n",
       "\n",
       "    .dataframe thead th {\n",
       "        text-align: right;\n",
       "    }\n",
       "</style>\n",
       "<table border=\"1\" class=\"dataframe\">\n",
       "  <thead>\n",
       "    <tr style=\"text-align: right;\">\n",
       "      <th>busiest days</th>\n",
       "      <th>Busiest day</th>\n",
       "      <th>Least busy</th>\n",
       "      <th>Regularly busy</th>\n",
       "    </tr>\n",
       "    <tr>\n",
       "      <th>order_day_of_week</th>\n",
       "      <th></th>\n",
       "      <th></th>\n",
       "      <th></th>\n",
       "    </tr>\n",
       "  </thead>\n",
       "  <tbody>\n",
       "    <tr>\n",
       "      <th>0</th>\n",
       "      <td>6204182</td>\n",
       "      <td>0</td>\n",
       "      <td>0</td>\n",
       "    </tr>\n",
       "    <tr>\n",
       "      <th>1</th>\n",
       "      <td>5660230</td>\n",
       "      <td>0</td>\n",
       "      <td>0</td>\n",
       "    </tr>\n",
       "    <tr>\n",
       "      <th>2</th>\n",
       "      <td>0</td>\n",
       "      <td>0</td>\n",
       "      <td>4213830</td>\n",
       "    </tr>\n",
       "    <tr>\n",
       "      <th>3</th>\n",
       "      <td>0</td>\n",
       "      <td>3840534</td>\n",
       "      <td>0</td>\n",
       "    </tr>\n",
       "    <tr>\n",
       "      <th>4</th>\n",
       "      <td>0</td>\n",
       "      <td>3783802</td>\n",
       "      <td>0</td>\n",
       "    </tr>\n",
       "    <tr>\n",
       "      <th>5</th>\n",
       "      <td>0</td>\n",
       "      <td>0</td>\n",
       "      <td>4205791</td>\n",
       "    </tr>\n",
       "    <tr>\n",
       "      <th>6</th>\n",
       "      <td>0</td>\n",
       "      <td>0</td>\n",
       "      <td>4496490</td>\n",
       "    </tr>\n",
       "  </tbody>\n",
       "</table>\n",
       "</div>"
      ],
      "text/plain": [
       "busiest days       Busiest day  Least busy  Regularly busy\n",
       "order_day_of_week                                         \n",
       "0                      6204182           0               0\n",
       "1                      5660230           0               0\n",
       "2                            0           0         4213830\n",
       "3                            0     3840534               0\n",
       "4                            0     3783802               0\n",
       "5                            0           0         4205791\n",
       "6                            0           0         4496490"
      ]
     },
     "execution_count": 10,
     "metadata": {},
     "output_type": "execute_result"
    }
   ],
   "source": [
    "#Checking the output\n",
    "crosstab_dow"
   ]
  },
  {
   "cell_type": "code",
   "execution_count": 11,
   "id": "a99f63c8",
   "metadata": {},
   "outputs": [
    {
     "data": {
      "image/png": "[encoded data removed]",
      "text/plain": [
       "<Figure size 432x288 with 1 Axes>"
      ]
     },
     "metadata": {
      "needs_background": "light"
     },
     "output_type": "display_data"
    }
   ],
   "source": [
    "# Visualization\n",
    "crosstab_ddow = crosstab_dow.plot(kind = 'bar', stacked = True, title = 'Orders per day of the week')"
   ]
  },
  {
   "cell_type": "code",
   "execution_count": 12,
   "id": "aa5537f8",
   "metadata": {},
   "outputs": [],
   "source": [
    "# Exporting visualization\n",
    "crosstab_ddow.figure.savefig(os.path.join(path, '04 Analysis','Visualizations', 'crosstab_dow_busiest_days.png'))"
   ]
  },
  {
   "cell_type": "markdown",
   "id": "a1e39aa8",
   "metadata": {},
   "source": [
    "#### 2.The sales team also wants to know whether there are particular times of the day when people spend the most money, as this might inform the type of products they advertise at these times."
   ]
  },
  {
   "cell_type": "code",
   "execution_count": 11,
   "id": "7c580e8e",
   "metadata": {},
   "outputs": [],
   "source": [
    "#creating random samples with 70/30 split\n",
    "#the seed represents a random but reproducable pattern\n",
    "#dev stores boolean values for if value in array is less than or greater than 0.7\n",
    "#random created random numbers and rand ensures uniform distribution is followed\n",
    "np.random.seed(4)\n",
    "dev = np.random.rand(len(ords_prods)) <= 0.7"
   ]
  },
  {
   "cell_type": "code",
   "execution_count": 12,
   "id": "8fb11f10",
   "metadata": {},
   "outputs": [],
   "source": [
    "# Sampling: store 70% of the sample in the dataframe big and 30% in the dataframe small\n",
    "big = ords_prods[dev]\n",
    "small = ords_prods[~dev]"
   ]
  },
  {
   "cell_type": "code",
   "execution_count": 13,
   "id": "e36442f3",
   "metadata": {},
   "outputs": [
    {
     "data": {
      "text/plain": [
       "(22683761, 35)"
      ]
     },
     "execution_count": 13,
     "metadata": {},
     "output_type": "execute_result"
    }
   ],
   "source": [
    "# Checking the output\n",
    "big.shape"
   ]
  },
  {
   "cell_type": "code",
   "execution_count": 14,
   "id": "698daafe",
   "metadata": {},
   "outputs": [
    {
     "data": {
      "text/plain": [
       "(9721098, 35)"
      ]
     },
     "execution_count": 14,
     "metadata": {},
     "output_type": "execute_result"
    }
   ],
   "source": [
    "small.shape"
   ]
  },
  {
   "cell_type": "code",
   "execution_count": 15,
   "id": "a63a3c28",
   "metadata": {},
   "outputs": [],
   "source": [
    "#reducing dataframe into only necessary columns for faster processing\n",
    "hrs_prices = small[['order_time_of_day','prices']]"
   ]
  },
  {
   "cell_type": "code",
   "execution_count": 17,
   "id": "4165d27f",
   "metadata": {},
   "outputs": [
    {
     "data": {
      "image/png": "[encoded data removed]",
      "text/plain": [
       "<Figure size 1152x432 with 1 Axes>"
      ]
     },
     "metadata": {},
     "output_type": "display_data"
    }
   ],
   "source": [
    "#creating line chart from small hrs_prices dataframe\n",
    "#setting chart size\n",
    "sns.set(rc = {'figure.figsize':(16,6)})\n",
    "line_hrs_prices= sns.lineplot(data = hrs_prices, x = 'order_time_of_day',y = 'prices', color = '#27445C')"
   ]
  },
  {
   "cell_type": "code",
   "execution_count": 18,
   "id": "0b22037e",
   "metadata": {},
   "outputs": [],
   "source": [
    "#exporting hourly prices line chart\n",
    "line_hrs_prices.figure.savefig(os.path.join(path, '04 Analysis','Visualizations', 'line_hourly_prices.png'))"
   ]
  },
  {
   "cell_type": "code",
   "execution_count": 13,
   "id": "adc85ced",
   "metadata": {},
   "outputs": [],
   "source": [
    "# Creating a crosstab\n",
    "crosstab_day_spending = pd.crosstab(ords_prods['order_day_of_week'], ords_prods['spender_flag'], dropna = False )"
   ]
  },
  {
   "cell_type": "code",
   "execution_count": 14,
   "id": "e8940455",
   "metadata": {},
   "outputs": [
    {
     "data": {
      "image/png": "[encoded data removed]",
      "text/plain": [
       "<Figure size 432x288 with 1 Axes>"
      ]
     },
     "metadata": {
      "needs_background": "light"
     },
     "output_type": "display_data"
    }
   ],
   "source": [
    "#Visualization spending by day\n",
    "crosstab_day_spending = crosstab_day_spending.plot(kind = 'line', stacked = True, title = 'Spending by day')"
   ]
  },
  {
   "cell_type": "code",
   "execution_count": 15,
   "id": "24597320",
   "metadata": {},
   "outputs": [],
   "source": [
    "#Exporting the visualization\n",
    "crosstab_day_spending.figure.savefig(os.path.join(path, '04 Analysis','Visualizations', 'crosstab_day_spending.png'))"
   ]
  },
  {
   "cell_type": "markdown",
   "id": "0e635064",
   "metadata": {},
   "source": [
    "#### 3.Instacart has a lot of products with different price tags. Marketing and sales want to use simpler price range groupings to help direct their efforts."
   ]
  },
  {
   "cell_type": "code",
   "execution_count": 16,
   "id": "dfaec098",
   "metadata": {},
   "outputs": [
    {
     "data": {
      "text/plain": [
       "Mid-range product     21860860\n",
       "Low-range product     10126321\n",
       "High-range product      417678\n",
       "Name: price_range_loc, dtype: int64"
      ]
     },
     "execution_count": 16,
     "metadata": {},
     "output_type": "execute_result"
    }
   ],
   "source": [
    "#price range value counts\n",
    "ords_prods['price_range_loc'].value_counts()"
   ]
  },
  {
   "cell_type": "code",
   "execution_count": 41,
   "id": "8a6d5a49",
   "metadata": {},
   "outputs": [
    {
     "data": {
      "image/png": "[encoded data removed]",
      "text/plain": [
       "<Figure size 432x288 with 1 Axes>"
      ]
     },
     "metadata": {},
     "output_type": "display_data"
    }
   ],
   "source": [
    "#pie chart for price range distribution\n",
    "labels = 'Mid-range product', 'Low-range product', 'High-range product'\n",
    "sizes = ords_prods['price_range_loc'].value_counts()\n",
    "colors = ['#9494FF','#6666FF','#0B0BFF']\n",
    "textprops = {\"fontsize\":8}\n",
    "\n",
    "fig, ax = plt.subplots()\n",
    "ax.pie(sizes,labels=labels,colors=colors,autopct='%1.1f%%', startangle=180, textprops=textprops)\n",
    "ax.axis('equal')\n",
    "ax.set_title('Price range distribution', fontsize=20)\n",
    "\n",
    "plt.legend(loc=\"lower left\", fontsize=8)\n",
    "plt.show()"
   ]
  },
  {
   "cell_type": "code",
   "execution_count": 42,
   "id": "5c7fdf15",
   "metadata": {},
   "outputs": [],
   "source": [
    "#exporting price range pie chart\n",
    "fig.figure.savefig(os.path.join(path, '04 Analysis','Visualizations', 'price_pie.png'))"
   ]
  },
  {
   "cell_type": "markdown",
   "id": "419894c1",
   "metadata": {},
   "source": [
    "#### 4. Are there certain types of products that are more popular than others? The marketing and sales teams want to know which departments have the highest frequency of product orders."
   ]
  },
  {
   "cell_type": "code",
   "execution_count": 44,
   "id": "f599cc4f",
   "metadata": {},
   "outputs": [],
   "source": [
    "#importing departments dataset\n",
    "departments=pd.read_csv(os.path.join(path, '02 Data', 'Prepared Data', 'departments_wrangled.csv'),index_col=False)"
   ]
  },
  {
   "cell_type": "code",
   "execution_count": 45,
   "id": "fa85a179",
   "metadata": {},
   "outputs": [
    {
     "data": {
      "text/plain": [
       "{1: 'frozen',\n",
       " 2: 'other',\n",
       " 3: 'bakery',\n",
       " 4: 'produce',\n",
       " 5: 'alcohol',\n",
       " 6: 'international',\n",
       " 7: 'beverages',\n",
       " 8: 'pets',\n",
       " 9: 'dry goods pasta',\n",
       " 10: 'bulk',\n",
       " 11: 'personal care',\n",
       " 12: 'meat seafood',\n",
       " 13: 'pantry',\n",
       " 14: 'breakfast',\n",
       " 15: 'canned goods',\n",
       " 16: 'dairy eggs',\n",
       " 17: 'household',\n",
       " 18: 'babies',\n",
       " 19: 'snacks',\n",
       " 20: 'deli',\n",
       " 21: 'missing'}"
      ]
     },
     "execution_count": 45,
     "metadata": {},
     "output_type": "execute_result"
    }
   ],
   "source": [
    "#creating data dictionary for department id\n",
    "zipped=zip(departments['Unnamed: 0'], departments['department'])\n",
    "data_dict=dict(zipped)\n",
    "data_dict"
   ]
  },
  {
   "cell_type": "code",
   "execution_count": 46,
   "id": "d18f71f9",
   "metadata": {},
   "outputs": [
    {
     "data": {
      "text/html": [
       "<div>\n",
       "<style scoped>\n",
       "    .dataframe tbody tr th:only-of-type {\n",
       "        vertical-align: middle;\n",
       "    }\n",
       "\n",
       "    .dataframe tbody tr th {\n",
       "        vertical-align: top;\n",
       "    }\n",
       "\n",
       "    .dataframe thead th {\n",
       "        text-align: right;\n",
       "    }\n",
       "</style>\n",
       "<table border=\"1\" class=\"dataframe\">\n",
       "  <thead>\n",
       "    <tr style=\"text-align: right;\">\n",
       "      <th></th>\n",
       "      <th>order_id</th>\n",
       "      <th>user_id</th>\n",
       "      <th>order_number</th>\n",
       "      <th>order_day_of_week</th>\n",
       "      <th>order_time_of_day</th>\n",
       "      <th>days_since_prior_order</th>\n",
       "      <th>product_id</th>\n",
       "      <th>add_to_cart_order</th>\n",
       "      <th>reordered</th>\n",
       "      <th>product_name</th>\n",
       "      <th>aisle_id</th>\n",
       "      <th>department_id</th>\n",
       "      <th>prices</th>\n",
       "      <th>_merge</th>\n",
       "      <th>price_range_loc</th>\n",
       "      <th>busiest day</th>\n",
       "      <th>busiest days</th>\n",
       "      <th>busiest_period_of_day</th>\n",
       "      <th>max_order</th>\n",
       "      <th>loyalty_flag</th>\n",
       "      <th>avg_price_spent</th>\n",
       "      <th>spender_flag</th>\n",
       "      <th>median_days_since_prior_order</th>\n",
       "      <th>order_frequency_flag</th>\n",
       "      <th>gender_identity</th>\n",
       "      <th>state</th>\n",
       "      <th>age</th>\n",
       "      <th>date_joined</th>\n",
       "      <th>dependants_#</th>\n",
       "      <th>marital_status</th>\n",
       "      <th>income</th>\n",
       "      <th>age_group</th>\n",
       "      <th>income_level</th>\n",
       "      <th>profile</th>\n",
       "      <th>region</th>\n",
       "      <th>department</th>\n",
       "    </tr>\n",
       "  </thead>\n",
       "  <tbody>\n",
       "    <tr>\n",
       "      <th>0</th>\n",
       "      <td>2539329</td>\n",
       "      <td>1</td>\n",
       "      <td>1</td>\n",
       "      <td>2</td>\n",
       "      <td>8</td>\n",
       "      <td>NaN</td>\n",
       "      <td>196.0</td>\n",
       "      <td>1.0</td>\n",
       "      <td>0.0</td>\n",
       "      <td>Soda</td>\n",
       "      <td>77</td>\n",
       "      <td>7</td>\n",
       "      <td>9.0</td>\n",
       "      <td>both</td>\n",
       "      <td>Mid-range product</td>\n",
       "      <td>Regularly busy</td>\n",
       "      <td>Regularly busy</td>\n",
       "      <td>Average orders</td>\n",
       "      <td>10</td>\n",
       "      <td>New customer</td>\n",
       "      <td>6.367188</td>\n",
       "      <td>Low spender</td>\n",
       "      <td>20.5</td>\n",
       "      <td>Non-frequent customer</td>\n",
       "      <td>Female</td>\n",
       "      <td>Alabama</td>\n",
       "      <td>31</td>\n",
       "      <td>2/17/2019</td>\n",
       "      <td>3</td>\n",
       "      <td>married</td>\n",
       "      <td>40423</td>\n",
       "      <td>Young</td>\n",
       "      <td>Middle</td>\n",
       "      <td>Single parent</td>\n",
       "      <td>South</td>\n",
       "      <td>beverages</td>\n",
       "    </tr>\n",
       "    <tr>\n",
       "      <th>1</th>\n",
       "      <td>2398795</td>\n",
       "      <td>1</td>\n",
       "      <td>2</td>\n",
       "      <td>3</td>\n",
       "      <td>7</td>\n",
       "      <td>15.0</td>\n",
       "      <td>196.0</td>\n",
       "      <td>1.0</td>\n",
       "      <td>1.0</td>\n",
       "      <td>Soda</td>\n",
       "      <td>77</td>\n",
       "      <td>7</td>\n",
       "      <td>9.0</td>\n",
       "      <td>both</td>\n",
       "      <td>Mid-range product</td>\n",
       "      <td>Regularly busy</td>\n",
       "      <td>Least busy</td>\n",
       "      <td>Average orders</td>\n",
       "      <td>10</td>\n",
       "      <td>New customer</td>\n",
       "      <td>6.367188</td>\n",
       "      <td>Low spender</td>\n",
       "      <td>20.5</td>\n",
       "      <td>Non-frequent customer</td>\n",
       "      <td>Female</td>\n",
       "      <td>Alabama</td>\n",
       "      <td>31</td>\n",
       "      <td>2/17/2019</td>\n",
       "      <td>3</td>\n",
       "      <td>married</td>\n",
       "      <td>40423</td>\n",
       "      <td>Young</td>\n",
       "      <td>Middle</td>\n",
       "      <td>Single parent</td>\n",
       "      <td>South</td>\n",
       "      <td>beverages</td>\n",
       "    </tr>\n",
       "    <tr>\n",
       "      <th>2</th>\n",
       "      <td>473747</td>\n",
       "      <td>1</td>\n",
       "      <td>3</td>\n",
       "      <td>3</td>\n",
       "      <td>12</td>\n",
       "      <td>21.0</td>\n",
       "      <td>196.0</td>\n",
       "      <td>1.0</td>\n",
       "      <td>1.0</td>\n",
       "      <td>Soda</td>\n",
       "      <td>77</td>\n",
       "      <td>7</td>\n",
       "      <td>9.0</td>\n",
       "      <td>both</td>\n",
       "      <td>Mid-range product</td>\n",
       "      <td>Regularly busy</td>\n",
       "      <td>Least busy</td>\n",
       "      <td>Most orders</td>\n",
       "      <td>10</td>\n",
       "      <td>New customer</td>\n",
       "      <td>6.367188</td>\n",
       "      <td>Low spender</td>\n",
       "      <td>20.5</td>\n",
       "      <td>Non-frequent customer</td>\n",
       "      <td>Female</td>\n",
       "      <td>Alabama</td>\n",
       "      <td>31</td>\n",
       "      <td>2/17/2019</td>\n",
       "      <td>3</td>\n",
       "      <td>married</td>\n",
       "      <td>40423</td>\n",
       "      <td>Young</td>\n",
       "      <td>Middle</td>\n",
       "      <td>Single parent</td>\n",
       "      <td>South</td>\n",
       "      <td>beverages</td>\n",
       "    </tr>\n",
       "    <tr>\n",
       "      <th>3</th>\n",
       "      <td>2254736</td>\n",
       "      <td>1</td>\n",
       "      <td>4</td>\n",
       "      <td>4</td>\n",
       "      <td>7</td>\n",
       "      <td>29.0</td>\n",
       "      <td>196.0</td>\n",
       "      <td>1.0</td>\n",
       "      <td>1.0</td>\n",
       "      <td>Soda</td>\n",
       "      <td>77</td>\n",
       "      <td>7</td>\n",
       "      <td>9.0</td>\n",
       "      <td>both</td>\n",
       "      <td>Mid-range product</td>\n",
       "      <td>Least busy</td>\n",
       "      <td>Least busy</td>\n",
       "      <td>Average orders</td>\n",
       "      <td>10</td>\n",
       "      <td>New customer</td>\n",
       "      <td>6.367188</td>\n",
       "      <td>Low spender</td>\n",
       "      <td>20.5</td>\n",
       "      <td>Non-frequent customer</td>\n",
       "      <td>Female</td>\n",
       "      <td>Alabama</td>\n",
       "      <td>31</td>\n",
       "      <td>2/17/2019</td>\n",
       "      <td>3</td>\n",
       "      <td>married</td>\n",
       "      <td>40423</td>\n",
       "      <td>Young</td>\n",
       "      <td>Middle</td>\n",
       "      <td>Single parent</td>\n",
       "      <td>South</td>\n",
       "      <td>beverages</td>\n",
       "    </tr>\n",
       "    <tr>\n",
       "      <th>4</th>\n",
       "      <td>431534</td>\n",
       "      <td>1</td>\n",
       "      <td>5</td>\n",
       "      <td>4</td>\n",
       "      <td>15</td>\n",
       "      <td>28.0</td>\n",
       "      <td>196.0</td>\n",
       "      <td>1.0</td>\n",
       "      <td>1.0</td>\n",
       "      <td>Soda</td>\n",
       "      <td>77</td>\n",
       "      <td>7</td>\n",
       "      <td>9.0</td>\n",
       "      <td>both</td>\n",
       "      <td>Mid-range product</td>\n",
       "      <td>Least busy</td>\n",
       "      <td>Least busy</td>\n",
       "      <td>Most orders</td>\n",
       "      <td>10</td>\n",
       "      <td>New customer</td>\n",
       "      <td>6.367188</td>\n",
       "      <td>Low spender</td>\n",
       "      <td>20.5</td>\n",
       "      <td>Non-frequent customer</td>\n",
       "      <td>Female</td>\n",
       "      <td>Alabama</td>\n",
       "      <td>31</td>\n",
       "      <td>2/17/2019</td>\n",
       "      <td>3</td>\n",
       "      <td>married</td>\n",
       "      <td>40423</td>\n",
       "      <td>Young</td>\n",
       "      <td>Middle</td>\n",
       "      <td>Single parent</td>\n",
       "      <td>South</td>\n",
       "      <td>beverages</td>\n",
       "    </tr>\n",
       "  </tbody>\n",
       "</table>\n",
       "</div>"
      ],
      "text/plain": [
       "   order_id  user_id  order_number  order_day_of_week  order_time_of_day  \\\n",
       "0   2539329        1             1                  2                  8   \n",
       "1   2398795        1             2                  3                  7   \n",
       "2    473747        1             3                  3                 12   \n",
       "3   2254736        1             4                  4                  7   \n",
       "4    431534        1             5                  4                 15   \n",
       "\n",
       "   days_since_prior_order  product_id  add_to_cart_order  reordered  \\\n",
       "0                     NaN       196.0                1.0        0.0   \n",
       "1                    15.0       196.0                1.0        1.0   \n",
       "2                    21.0       196.0                1.0        1.0   \n",
       "3                    29.0       196.0                1.0        1.0   \n",
       "4                    28.0       196.0                1.0        1.0   \n",
       "\n",
       "  product_name  aisle_id  department_id  prices _merge    price_range_loc  \\\n",
       "0         Soda        77              7     9.0   both  Mid-range product   \n",
       "1         Soda        77              7     9.0   both  Mid-range product   \n",
       "2         Soda        77              7     9.0   both  Mid-range product   \n",
       "3         Soda        77              7     9.0   both  Mid-range product   \n",
       "4         Soda        77              7     9.0   both  Mid-range product   \n",
       "\n",
       "      busiest day    busiest days busiest_period_of_day  max_order  \\\n",
       "0  Regularly busy  Regularly busy        Average orders         10   \n",
       "1  Regularly busy      Least busy        Average orders         10   \n",
       "2  Regularly busy      Least busy           Most orders         10   \n",
       "3      Least busy      Least busy        Average orders         10   \n",
       "4      Least busy      Least busy           Most orders         10   \n",
       "\n",
       "   loyalty_flag  avg_price_spent spender_flag  median_days_since_prior_order  \\\n",
       "0  New customer         6.367188  Low spender                           20.5   \n",
       "1  New customer         6.367188  Low spender                           20.5   \n",
       "2  New customer         6.367188  Low spender                           20.5   \n",
       "3  New customer         6.367188  Low spender                           20.5   \n",
       "4  New customer         6.367188  Low spender                           20.5   \n",
       "\n",
       "    order_frequency_flag gender_identity    state  age date_joined  \\\n",
       "0  Non-frequent customer          Female  Alabama   31   2/17/2019   \n",
       "1  Non-frequent customer          Female  Alabama   31   2/17/2019   \n",
       "2  Non-frequent customer          Female  Alabama   31   2/17/2019   \n",
       "3  Non-frequent customer          Female  Alabama   31   2/17/2019   \n",
       "4  Non-frequent customer          Female  Alabama   31   2/17/2019   \n",
       "\n",
       "   dependants_# marital_status  income age_group income_level        profile  \\\n",
       "0             3        married   40423     Young       Middle  Single parent   \n",
       "1             3        married   40423     Young       Middle  Single parent   \n",
       "2             3        married   40423     Young       Middle  Single parent   \n",
       "3             3        married   40423     Young       Middle  Single parent   \n",
       "4             3        married   40423     Young       Middle  Single parent   \n",
       "\n",
       "  region department  \n",
       "0  South  beverages  \n",
       "1  South  beverages  \n",
       "2  South  beverages  \n",
       "3  South  beverages  \n",
       "4  South  beverages  "
      ]
     },
     "execution_count": 46,
     "metadata": {},
     "output_type": "execute_result"
    }
   ],
   "source": [
    "# mapping  department names to department id in dataframe\n",
    "ords_prods['department'] = ords_prods['department_id'].map(data_dict)\n",
    "ords_prods.head()"
   ]
  },
  {
   "cell_type": "code",
   "execution_count": 51,
   "id": "87d1d462",
   "metadata": {},
   "outputs": [
    {
     "data": {
      "image/png": "[encoded data removed]",
      "text/plain": [
       "<Figure size 432x288 with 1 Axes>"
      ]
     },
     "metadata": {
      "needs_background": "light"
     },
     "output_type": "display_data"
    }
   ],
   "source": [
    "# bar chart showing the orders made for each department\n",
    "order_by_department = ords_prods['department'].value_counts().sort_values().plot.barh(color = '#6666FF', title = 'Order by Department')"
   ]
  },
  {
   "cell_type": "code",
   "execution_count": 52,
   "id": "0802f979",
   "metadata": {},
   "outputs": [],
   "source": [
    "#Exporting the visualization\n",
    "order_by_department.figure.savefig(os.path.join(path, '04 Analysis','Visualizations', 'order_by_department.png'))"
   ]
  },
  {
   "cell_type": "markdown",
   "id": "52f76c13",
   "metadata": {},
   "source": [
    "#### 5. What’s the distribution among users in regards to their brand loyalty (i.e., how often do they return to Instacart)?"
   ]
  },
  {
   "cell_type": "code",
   "execution_count": 76,
   "id": "52a971e0",
   "metadata": {},
   "outputs": [
    {
     "data": {
      "text/plain": [
       "Regular customer    15876776\n",
       "Loyal customer      10284093\n",
       "New customer         6243990\n",
       "Name: loyalty_flag, dtype: int64"
      ]
     },
     "execution_count": 76,
     "metadata": {},
     "output_type": "execute_result"
    }
   ],
   "source": [
    "# loyalty flag value counts\n",
    "ords_prods['loyalty_flag'].value_counts()"
   ]
  },
  {
   "cell_type": "code",
   "execution_count": 87,
   "id": "a8d3acfc",
   "metadata": {},
   "outputs": [
    {
     "data": {
      "image/png": "[encoded data removed]",
      "text/plain": [
       "<Figure size 432x288 with 1 Axes>"
      ]
     },
     "metadata": {},
     "output_type": "display_data"
    }
   ],
   "source": [
    "#pie chart for loyalty_flag\n",
    "labels = 'Regular customer', 'Loyal customer', 'New customer'\n",
    "sizes = ords_prods['loyalty_flag'].value_counts()\n",
    "colors = ['#9494FF','#0B0BFF','#6666FF']\n",
    "textprops = {\"fontsize\":8}\n",
    "\n",
    "loyal, ax = plt.subplots()\n",
    "ax.pie(sizes,labels=labels, colors=colors, autopct='%1.1f%%', startangle=90, textprops=textprops)\n",
    "ax.axis('equal')\n",
    "ax.set_title('Loyal customer distribution', fontsize=20)\n",
    "\n",
    "plt.legend(loc=\"lower left\", fontsize=8)\n",
    "plt.show()"
   ]
  },
  {
   "cell_type": "code",
   "execution_count": 92,
   "id": "e32074f5",
   "metadata": {},
   "outputs": [],
   "source": [
    "#exporting loyal customer pie chart\n",
    "loyal.figure.savefig(os.path.join(path, '04 Analysis','Visualizations', 'loyal_pie.png'))"
   ]
  },
  {
   "cell_type": "code",
   "execution_count": 103,
   "id": "df05d614",
   "metadata": {},
   "outputs": [],
   "source": [
    "# creating crosstab to display day_since_prior_order and loyal customers\n",
    "crosstab_return_customer = pd.crosstab(ords_prods['days_since_prior_order'], ords_prods['loyalty_flag'], dropna = False )"
   ]
  },
  {
   "cell_type": "code",
   "execution_count": 104,
   "id": "3c75ce71",
   "metadata": {},
   "outputs": [
    {
     "data": {
      "image/png": "[encoded data removed]",
      "text/plain": [
       "<Figure size 432x288 with 1 Axes>"
      ]
     },
     "metadata": {
      "needs_background": "light"
     },
     "output_type": "display_data"
    }
   ],
   "source": [
    "crosstab_return_customer = crosstab_return_customer.plot(kind = 'bar', stacked = True, title = 'Number of days for repeating order', color = ['#0B0BFF','#6666FF','#9494FF'])"
   ]
  },
  {
   "cell_type": "code",
   "execution_count": 105,
   "id": "82ba0a7e",
   "metadata": {},
   "outputs": [],
   "source": [
    "#exporting the bar chart\n",
    "crosstab_return_customer.figure.savefig(os.path.join(path, '04 Analysis','Visualizations', 'repeating_order.png'))"
   ]
  },
  {
   "cell_type": "markdown",
   "id": "2ee541e8",
   "metadata": {},
   "source": [
    "#### 6. Are there differences in ordering habits based on a customer’s loyalty status?"
   ]
  },
  {
   "cell_type": "code",
   "execution_count": 110,
   "id": "d89038c6",
   "metadata": {},
   "outputs": [],
   "source": [
    "crosstab_loy_spend = pd.crosstab(ords_prods['loyalty_flag'], ords_prods['spender_flag'], dropna = False )"
   ]
  },
  {
   "cell_type": "code",
   "execution_count": 111,
   "id": "52121ed2",
   "metadata": {},
   "outputs": [
    {
     "data": {
      "image/png": "[encoded data removed]",
      "text/plain": [
       "<Figure size 432x288 with 1 Axes>"
      ]
     },
     "metadata": {
      "needs_background": "light"
     },
     "output_type": "display_data"
    }
   ],
   "source": [
    "crosstab_loy_spend = crosstab_loy_spend.plot(kind = 'bar', stacked = True, color = ['#0B0BFF','#6666FF'])"
   ]
  },
  {
   "cell_type": "code",
   "execution_count": 112,
   "id": "bb702a94",
   "metadata": {},
   "outputs": [],
   "source": [
    "#exporting the bar chart\n",
    "crosstab_loy_spend.figure.savefig(os.path.join(path, '04 Analysis','Visualizations', 'loyal_spend.png'))"
   ]
  },
  {
   "cell_type": "markdown",
   "id": "9c126fbd",
   "metadata": {},
   "source": [
    "#### 7. Are there differences in ordering habits based on a customer’s region?"
   ]
  },
  {
   "cell_type": "code",
   "execution_count": 113,
   "id": "a6adf75d",
   "metadata": {},
   "outputs": [
    {
     "data": {
      "image/png": "[encoded data removed]",
      "text/plain": [
       "<Figure size 432x288 with 1 Axes>"
      ]
     },
     "metadata": {
      "needs_background": "light"
     },
     "output_type": "display_data"
    }
   ],
   "source": [
    "order_by_region = ords_prods['region'].value_counts().sort_values().plot.barh(color = '#6666FF', title = 'Order by Region')"
   ]
  },
  {
   "cell_type": "code",
   "execution_count": 114,
   "id": "e673e68a",
   "metadata": {},
   "outputs": [],
   "source": [
    "#exporting the bar chart\n",
    "order_by_region.figure.savefig(os.path.join(path, '04 Analysis','Visualizations', 'region_order.png'))"
   ]
  },
  {
   "cell_type": "code",
   "execution_count": 115,
   "id": "17bcd72c",
   "metadata": {},
   "outputs": [],
   "source": [
    "#creating crosstab spender_flag and region\n",
    "crosstab_reg_spend = pd.crosstab(ords_prods['region'], ords_prods['spender_flag'], dropna = False )"
   ]
  },
  {
   "cell_type": "code",
   "execution_count": 116,
   "id": "2262397a",
   "metadata": {},
   "outputs": [
    {
     "data": {
      "image/png": "[encoded data removed]",
      "text/plain": [
       "<Figure size 432x288 with 1 Axes>"
      ]
     },
     "metadata": {
      "needs_background": "light"
     },
     "output_type": "display_data"
    }
   ],
   "source": [
    "crosstab_reg_spend = crosstab_reg_spend.plot(kind = 'barh', stacked = True, color = ['#0B0BFF','#6666FF'])"
   ]
  },
  {
   "cell_type": "code",
   "execution_count": 126,
   "id": "1ce233b7",
   "metadata": {},
   "outputs": [],
   "source": [
    "#creating crosstab frequency flag and region\n",
    "crosstab_freq_spend = pd.crosstab(ords_prods['region'], ords_prods['order_frequency_flag'], dropna = False )"
   ]
  },
  {
   "cell_type": "code",
   "execution_count": 127,
   "id": "d35e464c",
   "metadata": {},
   "outputs": [
    {
     "data": {
      "image/png": "[encoded data removed]",
      "text/plain": [
       "<Figure size 432x288 with 1 Axes>"
      ]
     },
     "metadata": {
      "needs_background": "light"
     },
     "output_type": "display_data"
    }
   ],
   "source": [
    "crosstab_freq_spend = crosstab_freq_spend.plot(kind = 'barh', stacked = True, color = ['#0B0BFF','#6666FF','#9494FF'], title = 'Frequency by Region')"
   ]
  },
  {
   "cell_type": "code",
   "execution_count": 128,
   "id": "4226bd13",
   "metadata": {},
   "outputs": [],
   "source": [
    "#exporting the bar charts\n",
    "crosstab_reg_spend.figure.savefig(os.path.join(path, '04 Analysis','Visualizations', 'region_spender.png'))\n",
    "crosstab_freq_spend.figure.savefig(os.path.join(path, '04 Analysis','Visualizations', 'region_frequency.png'))"
   ]
  },
  {
   "cell_type": "markdown",
   "id": "2aaf99e5",
   "metadata": {},
   "source": [
    "#### 8.  Is there a connection between age and family status in terms of ordering habits?"
   ]
  },
  {
   "cell_type": "code",
   "execution_count": 139,
   "id": "51dbee7c",
   "metadata": {},
   "outputs": [],
   "source": [
    "#creating crosstab spender flag and age group\n",
    "crosstab_age_spend = pd.crosstab(ords_prods['age_group'], ords_prods['spender_flag'], dropna = False )"
   ]
  },
  {
   "cell_type": "code",
   "execution_count": 140,
   "id": "84269c24",
   "metadata": {},
   "outputs": [
    {
     "data": {
      "image/png": "[encoded data removed]",
      "text/plain": [
       "<Figure size 432x288 with 1 Axes>"
      ]
     },
     "metadata": {
      "needs_background": "light"
     },
     "output_type": "display_data"
    }
   ],
   "source": [
    "crosstab_age_spend = crosstab_age_spend.plot(kind = 'bar', stacked = True, color = ['#0B0BFF','#6666FF'])"
   ]
  },
  {
   "cell_type": "code",
   "execution_count": 141,
   "id": "c5449f49",
   "metadata": {},
   "outputs": [],
   "source": [
    "#creating crosstab income level and marital status\n",
    "crosstab_mar_income = pd.crosstab(ords_prods['marital_status'], ords_prods['income_level'], dropna = False )"
   ]
  },
  {
   "cell_type": "code",
   "execution_count": 142,
   "id": "631aac74",
   "metadata": {},
   "outputs": [
    {
     "data": {
      "image/png": "[encoded data removed]",
      "text/plain": [
       "<Figure size 432x288 with 1 Axes>"
      ]
     },
     "metadata": {
      "needs_background": "light"
     },
     "output_type": "display_data"
    }
   ],
   "source": [
    "crosstab_mar_income = crosstab_mar_income.plot(kind = 'bar', stacked = True, color = ['#000080', '#0000DC', '#3939FF','#6666FF'])"
   ]
  },
  {
   "cell_type": "code",
   "execution_count": 143,
   "id": "249cf8d8",
   "metadata": {},
   "outputs": [],
   "source": [
    "#exporting the bar charts\n",
    "crosstab_age_spend.figure.savefig(os.path.join(path, '04 Analysis','Visualizations', 'age_spender.png'))\n",
    "crosstab_mar_income.figure.savefig(os.path.join(path, '04 Analysis','Visualizations', 'marrital_income.png'))"
   ]
  },
  {
   "cell_type": "markdown",
   "id": "ad327785",
   "metadata": {},
   "source": [
    "#### 9. What different classifications does the demographic information suggest? Age? Income? Certain types of goods? Family status?"
   ]
  },
  {
   "cell_type": "code",
   "execution_count": 144,
   "id": "a1f2846c",
   "metadata": {},
   "outputs": [
    {
     "data": {
      "image/png": "[encoded data removed]",
      "text/plain": [
       "<Figure size 432x288 with 1 Axes>"
      ]
     },
     "metadata": {
      "needs_background": "light"
     },
     "output_type": "display_data"
    }
   ],
   "source": [
    "#creating bar chart for orders made by age group\n",
    "age_bar=ords_prods['age_group'].value_counts().plot.bar(color='#6666FF',fontsize=10)"
   ]
  },
  {
   "cell_type": "code",
   "execution_count": 145,
   "id": "ac0fc12c",
   "metadata": {},
   "outputs": [
    {
     "data": {
      "image/png": "[encoded data removed]",
      "text/plain": [
       "<Figure size 432x288 with 1 Axes>"
      ]
     },
     "metadata": {
      "needs_background": "light"
     },
     "output_type": "display_data"
    }
   ],
   "source": [
    "#creating bar chart for orders made by income level\n",
    "income_bar=ords_prods['income_level'].value_counts().plot.bar(color='#000080',fontsize=10)"
   ]
  },
  {
   "cell_type": "code",
   "execution_count": 146,
   "id": "352a1445",
   "metadata": {},
   "outputs": [],
   "source": [
    "#creating crosstab income level and age group\n",
    "crosstab_age_income = pd.crosstab(ords_prods['age_group'], ords_prods['income_level'], dropna = False )"
   ]
  },
  {
   "cell_type": "code",
   "execution_count": 147,
   "id": "baa13a26",
   "metadata": {},
   "outputs": [
    {
     "data": {
      "image/png": "[encoded data removed]",
      "text/plain": [
       "<Figure size 432x288 with 1 Axes>"
      ]
     },
     "metadata": {
      "needs_background": "light"
     },
     "output_type": "display_data"
    }
   ],
   "source": [
    "crosstab_age_income = crosstab_age_income.plot(kind = 'bar', stacked = True, color = ['#000080', '#0000DC', '#3939FF','#6666FF'])"
   ]
  },
  {
   "cell_type": "code",
   "execution_count": 148,
   "id": "59e30676",
   "metadata": {},
   "outputs": [],
   "source": [
    "#creating crosstab income level and profile\n",
    "crosstab_profile_income = pd.crosstab(ords_prods['profile'], ords_prods['income_level'], dropna = False )"
   ]
  },
  {
   "cell_type": "code",
   "execution_count": 149,
   "id": "ccaa10d2",
   "metadata": {},
   "outputs": [
    {
     "data": {
      "image/png": "[encoded data removed]",
      "text/plain": [
       "<Figure size 432x288 with 1 Axes>"
      ]
     },
     "metadata": {
      "needs_background": "light"
     },
     "output_type": "display_data"
    }
   ],
   "source": [
    "crosstab_profile_income = crosstab_profile_income.plot(kind = 'bar', stacked = True, color = ['#000080', '#0000DC', '#3939FF','#6666FF'])"
   ]
  },
  {
   "cell_type": "code",
   "execution_count": 150,
   "id": "7b300b17",
   "metadata": {},
   "outputs": [],
   "source": [
    "#exporting the bar charts\n",
    "age_bar.figure.savefig(os.path.join(path, '04 Analysis','Visualizations', 'age_bar.png'))\n",
    "income_bar.figure.savefig(os.path.join(path, '04 Analysis','Visualizations', 'income_bar.png'))\n",
    "crosstab_age_income.figure.savefig(os.path.join(path, '04 Analysis','Visualizations', 'age_income.png'))\n",
    "crosstab_profile_income.figure.savefig(os.path.join(path, '04 Analysis','Visualizations', 'income_profile.png'))"
   ]
  },
  {
   "cell_type": "markdown",
   "id": "17e23813",
   "metadata": {},
   "source": [
    "#### 10. What differences can you find in ordering habits of different customer profiles?Consider the price of orders, the frequency of orders, the products customers areordering, and anything else you can think of."
   ]
  },
  {
   "cell_type": "code",
   "execution_count": 152,
   "id": "b583d3c5",
   "metadata": {},
   "outputs": [],
   "source": [
    "#creating crosstab income level and department\n",
    "crosstab_dep_income = pd.crosstab(ords_prods['department'], ords_prods['income_level'], dropna = False )"
   ]
  },
  {
   "cell_type": "code",
   "execution_count": 153,
   "id": "ba57464e",
   "metadata": {},
   "outputs": [
    {
     "data": {
      "image/png": "[encoded data removed]",
      "text/plain": [
       "<Figure size 432x288 with 1 Axes>"
      ]
     },
     "metadata": {
      "needs_background": "light"
     },
     "output_type": "display_data"
    }
   ],
   "source": [
    "crosstab_dep_income = crosstab_dep_income.plot(kind = 'bar', stacked = True, color = ['#000080', '#0000DC', '#3939FF','#6666FF'])"
   ]
  },
  {
   "cell_type": "code",
   "execution_count": 154,
   "id": "592477b8",
   "metadata": {},
   "outputs": [],
   "source": [
    "#exporting the bar chart\n",
    "crosstab_dep_income.figure.savefig(os.path.join(path, '04 Analysis','Visualizations', 'income_department.png'))"
   ]
  },
  {
   "cell_type": "code",
   "execution_count": null,
   "id": "9ebd8f0b",
   "metadata": {},
   "outputs": [],
   "source": []
  }
 ],
 "metadata": {
  "kernelspec": {
   "display_name": "Python 3 (ipykernel)",
   "language": "python",
   "name": "python3"
  },
  "language_info": {
   "codemirror_mode": {
    "name": "ipython",
    "version": 3
   },
   "file_extension": ".py",
   "mimetype": "text/x-python",
   "name": "python",
   "nbconvert_exporter": "python",
   "pygments_lexer": "ipython3",
   "version": "3.9.12"
  }
 },
 "nbformat": 4,
 "nbformat_minor": 5
}
