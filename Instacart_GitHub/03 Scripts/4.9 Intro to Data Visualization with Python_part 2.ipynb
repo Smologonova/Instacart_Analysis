{
 "cells": [
  {
   "cell_type": "markdown",
   "id": "7485fa91",
   "metadata": {},
   "source": [
    "## Table of contents"
   ]
  },
  {
   "cell_type": "markdown",
   "id": "6d338757",
   "metadata": {},
   "source": [
    "### 01. Import Data and Libraries"
   ]
  },
  {
   "cell_type": "markdown",
   "id": "a5838db3",
   "metadata": {},
   "source": [
    "### #2 Please see the file \"4.9 Intro to Data Visualization with Python\""
   ]
  },
  {
   "cell_type": "markdown",
   "id": "318b5f5e",
   "metadata": {},
   "source": [
    "### #3 Descriptive findings about sales"
   ]
  },
  {
   "cell_type": "markdown",
   "id": "16de0557",
   "metadata": {},
   "source": [
    "### #4 The distribution of orders among customers in terms of loyalty"
   ]
  },
  {
   "cell_type": "markdown",
   "id": "553909e5",
   "metadata": {},
   "source": [
    "### #5 Check whether there’s a difference in expenditure (the “prices” column) depending on the hour of the day"
   ]
  },
  {
   "cell_type": "markdown",
   "id": "e2877e0a",
   "metadata": {},
   "source": [
    "### #6 Exploratory analysis of customer demographics to inform the targeted marketing campaigns"
   ]
  },
  {
   "cell_type": "markdown",
   "id": "5190d52b",
   "metadata": {},
   "source": [
    "### #7  Explore whether there’s a connection between age and spending power (income)"
   ]
  },
  {
   "cell_type": "code",
   "execution_count": null,
   "id": "a97edd1d",
   "metadata": {},
   "outputs": [],
   "source": []
  },
  {
   "cell_type": "markdown",
   "id": "20c1abb3",
   "metadata": {},
   "source": [
    "### 01. Import Data and Libraries"
   ]
  },
  {
   "cell_type": "code",
   "execution_count": 2,
   "id": "0a6e81a8",
   "metadata": {},
   "outputs": [],
   "source": [
    "# Import libraries\n",
    "import pandas as pd\n",
    "import numpy as np\n",
    "import os\n",
    "import matplotlib.pyplot as plt\n",
    "import seaborn as sns\n",
    "import scipy"
   ]
  },
  {
   "cell_type": "code",
   "execution_count": 3,
   "id": "e33f57e5",
   "metadata": {},
   "outputs": [],
   "source": [
    "# Define path\n",
    "path = r'C:\\Users\\iryna\\Documents\\Data analytics\\Career foundry\\4. Python\\06-2022 Instacart Basket Analysis'"
   ]
  },
  {
   "cell_type": "code",
   "execution_count": 4,
   "id": "3dca2202",
   "metadata": {},
   "outputs": [],
   "source": [
    "# Import Data\n",
    "ords_prods = pd.read_pickle(os.path.join(path, '02 Data', 'Prepared Data', 'ords_prods_custs_merged.pkl'))"
   ]
  },
  {
   "cell_type": "code",
   "execution_count": 5,
   "id": "b48695dd",
   "metadata": {},
   "outputs": [
    {
     "data": {
      "text/plain": [
       "(32404859, 33)"
      ]
     },
     "execution_count": 5,
     "metadata": {},
     "output_type": "execute_result"
    }
   ],
   "source": [
    "# Checking the output\n",
    "ords_prods.shape"
   ]
  },
  {
   "cell_type": "code",
   "execution_count": 9,
   "id": "ca7ab4e4",
   "metadata": {},
   "outputs": [
    {
     "name": "stdout",
     "output_type": "stream",
     "text": [
      "<class 'pandas.core.frame.DataFrame'>\n",
      "Int64Index: 32404859 entries, 0 to 32404858\n",
      "Data columns (total 33 columns):\n",
      " #   Column                         Dtype   \n",
      "---  ------                         -----   \n",
      " 0   order_id                       int32   \n",
      " 1   user_id                        int32   \n",
      " 2   order_number                   int8    \n",
      " 3   order_day_of_week              int8    \n",
      " 4   order_time_of_day              int8    \n",
      " 5   days_since_prior_order         float16 \n",
      " 6   product_id                     float64 \n",
      " 7   add_to_cart_order              float64 \n",
      " 8   reordered                      float64 \n",
      " 9   product_name                   object  \n",
      " 10  aisle_id                       int64   \n",
      " 11  department_id                  int64   \n",
      " 12  prices                         float64 \n",
      " 13  _merge                         category\n",
      " 14  price_range_loc                object  \n",
      " 15  busiest day                    object  \n",
      " 16  busiest days                   object  \n",
      " 17  busiest_period_of_day          object  \n",
      " 18  max_order                      int8    \n",
      " 19  loyalty_flag                   object  \n",
      " 20  avg_price_spent                float64 \n",
      " 21  spender_flag                   object  \n",
      " 22  median_days_since_prior_order  float16 \n",
      " 23  order_frequency_flag           object  \n",
      " 24  first_name                     object  \n",
      " 25  last_name                      object  \n",
      " 26  gender_identity                object  \n",
      " 27  state                          object  \n",
      " 28  age                            int64   \n",
      " 29  date_joined                    object  \n",
      " 30  dependants_#                   int64   \n",
      " 31  marital_status                 object  \n",
      " 32  income                         int64   \n",
      "dtypes: category(1), float16(2), float64(5), int32(2), int64(5), int8(4), object(14)\n",
      "memory usage: 6.5+ GB\n"
     ]
    }
   ],
   "source": [
    "# Checking the data type\n",
    "ords_prods.info()"
   ]
  },
  {
   "cell_type": "code",
   "execution_count": 10,
   "id": "03b76409",
   "metadata": {},
   "outputs": [],
   "source": [
    "# Changing data type into int32 to reduce the file size\n",
    "ords_prods['aisle_id'] = ords_prods['aisle_id'].astype('int32')\n",
    "ords_prods['department_id'] = ords_prods['department_id'].astype('int32')\n",
    "ords_prods['age'] = ords_prods['age'].astype('int32')\n",
    "ords_prods['dependants_#'] = ords_prods['dependants_#'].astype('int32')\n",
    "ords_prods['income'] = ords_prods['income'].astype('int32')"
   ]
  },
  {
   "cell_type": "code",
   "execution_count": 11,
   "id": "0a2c5f46",
   "metadata": {},
   "outputs": [
    {
     "name": "stdout",
     "output_type": "stream",
     "text": [
      "<class 'pandas.core.frame.DataFrame'>\n",
      "Int64Index: 32404859 entries, 0 to 32404858\n",
      "Data columns (total 33 columns):\n",
      " #   Column                         Dtype   \n",
      "---  ------                         -----   \n",
      " 0   order_id                       int32   \n",
      " 1   user_id                        int32   \n",
      " 2   order_number                   int8    \n",
      " 3   order_day_of_week              int8    \n",
      " 4   order_time_of_day              int8    \n",
      " 5   days_since_prior_order         float16 \n",
      " 6   product_id                     float64 \n",
      " 7   add_to_cart_order              float64 \n",
      " 8   reordered                      float64 \n",
      " 9   product_name                   object  \n",
      " 10  aisle_id                       int32   \n",
      " 11  department_id                  int32   \n",
      " 12  prices                         float64 \n",
      " 13  _merge                         category\n",
      " 14  price_range_loc                object  \n",
      " 15  busiest day                    object  \n",
      " 16  busiest days                   object  \n",
      " 17  busiest_period_of_day          object  \n",
      " 18  max_order                      int8    \n",
      " 19  loyalty_flag                   object  \n",
      " 20  avg_price_spent                float64 \n",
      " 21  spender_flag                   object  \n",
      " 22  median_days_since_prior_order  float16 \n",
      " 23  order_frequency_flag           object  \n",
      " 24  first_name                     object  \n",
      " 25  last_name                      object  \n",
      " 26  gender_identity                object  \n",
      " 27  state                          object  \n",
      " 28  age                            int32   \n",
      " 29  date_joined                    object  \n",
      " 30  dependants_#                   int32   \n",
      " 31  marital_status                 object  \n",
      " 32  income                         int32   \n",
      "dtypes: category(1), float16(2), float64(5), int32(7), int8(4), object(14)\n",
      "memory usage: 5.9+ GB\n"
     ]
    }
   ],
   "source": [
    "ords_prods.info()"
   ]
  },
  {
   "cell_type": "code",
   "execution_count": 13,
   "id": "4de1a7cb",
   "metadata": {},
   "outputs": [],
   "source": [
    "# Exporting reduced file size\n",
    "ords_prods.to_pickle(os.path.join(path, '02 Data', 'Prepared Data', 'ords_prods_custs_merged_s.pkl'))"
   ]
  },
  {
   "cell_type": "markdown",
   "id": "4f8758da",
   "metadata": {},
   "source": [
    "### #2 Please see the file \"4.9 Intro to Data Visualization with Python\""
   ]
  },
  {
   "cell_type": "markdown",
   "id": "6cb1f934",
   "metadata": {},
   "source": [
    "### #3 Descriptive findings about sales"
   ]
  },
  {
   "cell_type": "code",
   "execution_count": 23,
   "id": "df319833",
   "metadata": {},
   "outputs": [
    {
     "data": {
      "image/png": "[encoded data removed]",
      "text/plain": [
       "<Figure size 432x288 with 1 Axes>"
      ]
     },
     "metadata": {
      "needs_background": "light"
     },
     "output_type": "display_data"
    }
   ],
   "source": [
    "# Create a histogram of the “order_hour_of_day” column\n",
    "hist = ords_prods['order_time_of_day'].plot.hist(bins = 22)"
   ]
  },
  {
   "cell_type": "markdown",
   "id": "c7aae6fb",
   "metadata": {},
   "source": [
    "#### The histogram depicts how often orders are placed within the day. The numbers of total order (M) is y-axis and the hour of the day is x-axis. The busiest hours are from 9am until 4pm."
   ]
  },
  {
   "cell_type": "code",
   "execution_count": 24,
   "id": "4fc8e89e",
   "metadata": {},
   "outputs": [
    {
     "data": {
      "text/plain": [
       "10    2761760\n",
       "11    2736140\n",
       "14    2689136\n",
       "15    2662144\n",
       "13    2660954\n",
       "12    2618532\n",
       "16    2535202\n",
       "9     2454203\n",
       "17    2087654\n",
       "8     1718118\n",
       "18    1636502\n",
       "19    1258305\n",
       "20     976156\n",
       "7      891054\n",
       "21     795637\n",
       "22     634225\n",
       "23     402316\n",
       "6      290493\n",
       "0      218769\n",
       "1      115700\n",
       "5       87961\n",
       "2       69375\n",
       "4       53242\n",
       "3       51281\n",
       "Name: order_time_of_day, dtype: int64"
      ]
     },
     "execution_count": 24,
     "metadata": {},
     "output_type": "execute_result"
    }
   ],
   "source": [
    "# Checking placed orders per hour \n",
    "ords_prods['order_time_of_day'].value_counts(dropna=False)"
   ]
  },
  {
   "cell_type": "code",
   "execution_count": 26,
   "id": "a7a245cf",
   "metadata": {},
   "outputs": [
    {
     "data": {
      "text/plain": [
       "0      218769\n",
       "1      115700\n",
       "2       69375\n",
       "3       51281\n",
       "4       53242\n",
       "5       87961\n",
       "6      290493\n",
       "7      891054\n",
       "8     1718118\n",
       "9     2454203\n",
       "10    2761760\n",
       "11    2736140\n",
       "12    2618532\n",
       "13    2660954\n",
       "14    2689136\n",
       "15    2662144\n",
       "16    2535202\n",
       "17    2087654\n",
       "18    1636502\n",
       "19    1258305\n",
       "20     976156\n",
       "21     795637\n",
       "22     634225\n",
       "23     402316\n",
       "Name: order_time_of_day, dtype: int64"
      ]
     },
     "execution_count": 26,
     "metadata": {},
     "output_type": "execute_result"
    }
   ],
   "source": [
    "ords_prods['order_time_of_day'].value_counts(dropna=False).sort_index()"
   ]
  },
  {
   "cell_type": "code",
   "execution_count": 27,
   "id": "52dbda4c",
   "metadata": {},
   "outputs": [],
   "source": [
    "# Exporting the histogram\n",
    "hist.figure.savefig(os.path.join(path, '04 Analysis','Visualizations', 'hist_order_time_of_day.png'))"
   ]
  },
  {
   "cell_type": "markdown",
   "id": "a9a92fc5",
   "metadata": {},
   "source": [
    "### #4 The distribution of orders among customers in terms of loyalty"
   ]
  },
  {
   "cell_type": "code",
   "execution_count": 28,
   "id": "d0d19d56",
   "metadata": {},
   "outputs": [
    {
     "data": {
      "text/plain": [
       "<AxesSubplot:>"
      ]
     },
     "execution_count": 28,
     "metadata": {},
     "output_type": "execute_result"
    },
    {
     "data": {
      "image/png": "[encoded data removed]",
      "text/plain": [
       "<Figure size 432x288 with 1 Axes>"
      ]
     },
     "metadata": {
      "needs_background": "light"
     },
     "output_type": "display_data"
    }
   ],
   "source": [
    "# Create a bar chart from the “loyalty_flag” column\n",
    "ords_prods['loyalty_flag'].value_counts().plot.bar()"
   ]
  },
  {
   "cell_type": "code",
   "execution_count": 29,
   "id": "97ab8365",
   "metadata": {},
   "outputs": [
    {
     "data": {
      "image/png": "[encoded data removed]",
      "text/plain": [
       "<Figure size 432x288 with 1 Axes>"
      ]
     },
     "metadata": {
      "needs_background": "light"
     },
     "output_type": "display_data"
    }
   ],
   "source": [
    "bar_loyalty_flag = ords_prods['loyalty_flag'].value_counts().plot.bar()"
   ]
  },
  {
   "cell_type": "code",
   "execution_count": 30,
   "id": "1dbdec6c",
   "metadata": {},
   "outputs": [
    {
     "data": {
      "text/html": [
       "<div>\n",
       "<style scoped>\n",
       "    .dataframe tbody tr th:only-of-type {\n",
       "        vertical-align: middle;\n",
       "    }\n",
       "\n",
       "    .dataframe tbody tr th {\n",
       "        vertical-align: top;\n",
       "    }\n",
       "\n",
       "    .dataframe thead tr th {\n",
       "        text-align: left;\n",
       "    }\n",
       "\n",
       "    .dataframe thead tr:last-of-type th {\n",
       "        text-align: right;\n",
       "    }\n",
       "</style>\n",
       "<table border=\"1\" class=\"dataframe\">\n",
       "  <thead>\n",
       "    <tr>\n",
       "      <th></th>\n",
       "      <th>order_number</th>\n",
       "    </tr>\n",
       "    <tr>\n",
       "      <th></th>\n",
       "      <th>count</th>\n",
       "    </tr>\n",
       "    <tr>\n",
       "      <th>loyalty_flag</th>\n",
       "      <th></th>\n",
       "    </tr>\n",
       "  </thead>\n",
       "  <tbody>\n",
       "    <tr>\n",
       "      <th>Loyal customer</th>\n",
       "      <td>10284093</td>\n",
       "    </tr>\n",
       "    <tr>\n",
       "      <th>New customer</th>\n",
       "      <td>6243990</td>\n",
       "    </tr>\n",
       "    <tr>\n",
       "      <th>Regular customer</th>\n",
       "      <td>15876776</td>\n",
       "    </tr>\n",
       "  </tbody>\n",
       "</table>\n",
       "</div>"
      ],
      "text/plain": [
       "                 order_number\n",
       "                        count\n",
       "loyalty_flag                 \n",
       "Loyal customer       10284093\n",
       "New customer          6243990\n",
       "Regular customer     15876776"
      ]
     },
     "execution_count": 30,
     "metadata": {},
     "output_type": "execute_result"
    }
   ],
   "source": [
    "# Checking the bar chart\n",
    "ords_prods.groupby('loyalty_flag').agg({'order_number': ['count']})"
   ]
  },
  {
   "cell_type": "code",
   "execution_count": 31,
   "id": "64a7c081",
   "metadata": {},
   "outputs": [],
   "source": [
    "# Exporting the bar chart\n",
    "bar_loyalty_flag.figure.savefig(os.path.join(path, '04 Analysis','Visualizations', 'bar_layalty_flag.png'))"
   ]
  },
  {
   "cell_type": "markdown",
   "id": "7e45ad1e",
   "metadata": {},
   "source": [
    "### #5 Check whether there’s a difference in expenditure (the “prices” column) depending on the hour of the day"
   ]
  },
  {
   "cell_type": "code",
   "execution_count": 33,
   "id": "03ff8338",
   "metadata": {},
   "outputs": [],
   "source": [
    "# Set the seed\n",
    "# Create a list holding True/False values to the test np.random.rand() <= 0.8\n",
    "np.random.seed(4)\n",
    "dev_prices = np.random.rand(len(ords_prods)) <= 0.8"
   ]
  },
  {
   "cell_type": "code",
   "execution_count": 35,
   "id": "f916b49a",
   "metadata": {},
   "outputs": [],
   "source": [
    "# Sampling: store 80% of the sample in the dataframe big and 20% in the dataframe small\n",
    "big = ords_prods[dev_prices]\n",
    "small = ords_prods[~dev_prices]"
   ]
  },
  {
   "cell_type": "code",
   "execution_count": 36,
   "id": "de83d289",
   "metadata": {},
   "outputs": [
    {
     "data": {
      "text/plain": [
       "32404859"
      ]
     },
     "execution_count": 36,
     "metadata": {},
     "output_type": "execute_result"
    }
   ],
   "source": [
    "# Checking the length\n",
    "len(ords_prods)"
   ]
  },
  {
   "cell_type": "code",
   "execution_count": 37,
   "id": "2120a680",
   "metadata": {},
   "outputs": [
    {
     "data": {
      "text/plain": [
       "32404859"
      ]
     },
     "execution_count": 37,
     "metadata": {},
     "output_type": "execute_result"
    }
   ],
   "source": [
    "len(big)+len(small)"
   ]
  },
  {
   "cell_type": "code",
   "execution_count": 38,
   "id": "f3a86b15",
   "metadata": {},
   "outputs": [],
   "source": [
    "# Reducing the samples to only those columns necessary for the chart\n",
    "ords_prods_time_hour = small[['order_time_of_day','prices']]"
   ]
  },
  {
   "cell_type": "code",
   "execution_count": 39,
   "id": "8dab2f16",
   "metadata": {},
   "outputs": [
    {
     "data": {
      "image/png": "[encoded data removed]",
      "text/plain": [
       "<Figure size 432x288 with 1 Axes>"
      ]
     },
     "metadata": {
      "needs_background": "light"
     },
     "output_type": "display_data"
    }
   ],
   "source": [
    "# Creating the line chart\n",
    "line = sns.lineplot(data = ords_prods_time_hour, x = 'order_time_of_day',y = 'prices')"
   ]
  },
  {
   "cell_type": "code",
   "execution_count": 40,
   "id": "841440dc",
   "metadata": {},
   "outputs": [],
   "source": [
    "# Exporting the line chart\n",
    "line.figure.savefig(os.path.join(path, '04 Analysis','Visualizations', 'line_daytime_price.png'))"
   ]
  },
  {
   "cell_type": "markdown",
   "id": "7fa8c8d1",
   "metadata": {},
   "source": [
    "### #6 Exploratory analysis of customer demographics to inform the targeted marketing campaigns"
   ]
  },
  {
   "cell_type": "code",
   "execution_count": 41,
   "id": "137c6665",
   "metadata": {},
   "outputs": [],
   "source": [
    "# Set the seed\n",
    "# Create a list holding True/False values to the test np.random.rand() <= 0.7\n",
    "np.random.seed(4)\n",
    "dev_age = np.random.rand(len(ords_prods)) <= 0.7"
   ]
  },
  {
   "cell_type": "code",
   "execution_count": 42,
   "id": "9202a9ca",
   "metadata": {},
   "outputs": [],
   "source": [
    "# Sampling: store 70% of the sample in the dataframe big and 30% in the dataframe small\n",
    "big_age = ords_prods[dev_age]\n",
    "small_age = ords_prods[~dev_age]"
   ]
  },
  {
   "cell_type": "code",
   "execution_count": 43,
   "id": "86552dff",
   "metadata": {},
   "outputs": [
    {
     "data": {
      "text/plain": [
       "32404859"
      ]
     },
     "execution_count": 43,
     "metadata": {},
     "output_type": "execute_result"
    }
   ],
   "source": [
    "# Checking the length\n",
    "len(ords_prods)"
   ]
  },
  {
   "cell_type": "code",
   "execution_count": 44,
   "id": "b82c1343",
   "metadata": {},
   "outputs": [
    {
     "data": {
      "text/plain": [
       "32404859"
      ]
     },
     "execution_count": 44,
     "metadata": {},
     "output_type": "execute_result"
    }
   ],
   "source": [
    "len(big_age)+len(small_age)"
   ]
  },
  {
   "cell_type": "code",
   "execution_count": 45,
   "id": "e3c327f0",
   "metadata": {},
   "outputs": [],
   "source": [
    "# Reducing the samples to only those columns necessary for the chart\n",
    "ords_prods_age_depend = small_age[['age','dependants_#']]"
   ]
  },
  {
   "cell_type": "code",
   "execution_count": 46,
   "id": "b2a4be82",
   "metadata": {},
   "outputs": [
    {
     "data": {
      "image/png": "[encoded data removed]",
      "text/plain": [
       "<Figure size 432x288 with 1 Axes>"
      ]
     },
     "metadata": {
      "needs_background": "light"
     },
     "output_type": "display_data"
    }
   ],
   "source": [
    "# Creating the line chart\n",
    "line_age_dep = sns.lineplot(data = ords_prods_age_depend, x = 'age',y = 'dependants_#')"
   ]
  },
  {
   "cell_type": "markdown",
   "id": "e63306ea",
   "metadata": {},
   "source": [
    "#### The line chart shows the number of dependants (y-axis) and the age of the Instacart customers (x-axis). The high volatility chart depicts that there is no relationship between age and # of dependants. "
   ]
  },
  {
   "cell_type": "code",
   "execution_count": 48,
   "id": "427b63b7",
   "metadata": {},
   "outputs": [],
   "source": [
    "# Exporting the line chart\n",
    "line_age_dep.figure.savefig(os.path.join(path, '04 Analysis','Visualizations', 'line_age_depend.png'))"
   ]
  },
  {
   "cell_type": "markdown",
   "id": "3603cfa0",
   "metadata": {},
   "source": [
    "### #7  Explore whether there’s a connection between age and spending power (income)"
   ]
  },
  {
   "cell_type": "code",
   "execution_count": 49,
   "id": "e5dead88",
   "metadata": {},
   "outputs": [],
   "source": [
    "# Seed and subset created in the step #6\n",
    "# New dataframes are created for the task\n",
    "big_age_income =  big_age\n",
    "small_age_income = small_age"
   ]
  },
  {
   "cell_type": "code",
   "execution_count": 50,
   "id": "7368ebdc",
   "metadata": {},
   "outputs": [
    {
     "data": {
      "text/plain": [
       "32404859"
      ]
     },
     "execution_count": 50,
     "metadata": {},
     "output_type": "execute_result"
    }
   ],
   "source": [
    "# Checking the length\n",
    "len(big_age_income)+len(small_age_income)"
   ]
  },
  {
   "cell_type": "code",
   "execution_count": 51,
   "id": "5a256011",
   "metadata": {},
   "outputs": [],
   "source": [
    "# Reducing the samples to only those columns necessary for the chart\n",
    "ords_prods_age_income = small_age_income[['age','income']]"
   ]
  },
  {
   "cell_type": "code",
   "execution_count": 53,
   "id": "35a96b06",
   "metadata": {},
   "outputs": [
    {
     "data": {
      "image/png": "[encoded data removed]",
      "text/plain": [
       "<Figure size 432x288 with 1 Axes>"
      ]
     },
     "metadata": {
      "needs_background": "light"
     },
     "output_type": "display_data"
    }
   ],
   "source": [
    "# Creating a Scatterplot\n",
    "scatter_age_income = sns.scatterplot(x = 'age', y = 'income',data = ords_prods_age_income)"
   ]
  },
  {
   "cell_type": "markdown",
   "id": "c9aaa276",
   "metadata": {},
   "source": [
    "#### The scatterplot depicts age of Instacart customers (x-axis) and their income (y axis). Peage younger 40 have income up to 200K in most cases with a max 400K, older than 40 the income increases up to 300K  and the maximum income is ~600K. Customers >40 years old have more income and they can spend potentially more."
   ]
  },
  {
   "cell_type": "code",
   "execution_count": 54,
   "id": "2827d639",
   "metadata": {},
   "outputs": [],
   "source": [
    "# Exporting the scatterplot\n",
    "scatter_age_income.figure.savefig(os.path.join(path, '04 Analysis','Visualizations', 'scatter_age_income.png'))"
   ]
  },
  {
   "cell_type": "code",
   "execution_count": null,
   "id": "2a448cc4",
   "metadata": {},
   "outputs": [],
   "source": []
  }
 ],
 "metadata": {
  "kernelspec": {
   "display_name": "Python 3 (ipykernel)",
   "language": "python",
   "name": "python3"
  },
  "language_info": {
   "codemirror_mode": {
    "name": "ipython",
    "version": 3
   },
   "file_extension": ".py",
   "mimetype": "text/x-python",
   "name": "python",
   "nbconvert_exporter": "python",
   "pygments_lexer": "ipython3",
   "version": "3.9.12"
  }
 },
 "nbformat": 4,
 "nbformat_minor": 5
}
