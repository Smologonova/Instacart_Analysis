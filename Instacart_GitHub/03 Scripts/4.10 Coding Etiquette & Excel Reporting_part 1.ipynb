{
 "cells": [
  {
   "cell_type": "markdown",
   "id": "d391e8f8",
   "metadata": {},
   "source": [
    "## Table of contents"
   ]
  },
  {
   "cell_type": "markdown",
   "id": "9905372a",
   "metadata": {},
   "source": [
    "### 01. Import Data and Libraries"
   ]
  },
  {
   "cell_type": "markdown",
   "id": "abe15764",
   "metadata": {},
   "source": [
    "### 02. Data Security"
   ]
  },
  {
   "cell_type": "markdown",
   "id": "0643ec1b",
   "metadata": {},
   "source": [
    "### 05. Customer profile"
   ]
  },
  {
   "cell_type": "markdown",
   "id": "0d5dbc39",
   "metadata": {},
   "source": [
    "#### 05.1 Age groups"
   ]
  },
  {
   "cell_type": "markdown",
   "id": "6f424fb9",
   "metadata": {},
   "source": [
    "#### 05.2 Income level"
   ]
  },
  {
   "cell_type": "markdown",
   "id": "050b5814",
   "metadata": {},
   "source": [
    "#### 05.3 Family status with/without dependants"
   ]
  },
  {
   "cell_type": "markdown",
   "id": "5ce0864f",
   "metadata": {},
   "source": [
    "### 06. Visualization to show the distribution of profiles"
   ]
  },
  {
   "cell_type": "markdown",
   "id": "5389d8b2",
   "metadata": {},
   "source": [
    "### 07. Aggregate the max, mean, and min variables on a customer-profile level for usage frequency and expenditure."
   ]
  },
  {
   "cell_type": "markdown",
   "id": "96de11fa",
   "metadata": {},
   "source": [
    "### 08.1 Customer profiles by regions"
   ]
  },
  {
   "cell_type": "markdown",
   "id": "13e819b1",
   "metadata": {},
   "source": [
    "### 08.2 Customer profiles by departments. "
   ]
  },
  {
   "cell_type": "code",
   "execution_count": null,
   "id": "8461dfa6",
   "metadata": {},
   "outputs": [],
   "source": []
  },
  {
   "cell_type": "markdown",
   "id": "535f3a94",
   "metadata": {},
   "source": [
    "### 01. Import Data and Libraries"
   ]
  },
  {
   "cell_type": "code",
   "execution_count": 1,
   "id": "aa308dbf",
   "metadata": {},
   "outputs": [],
   "source": [
    "# Import libraries\n",
    "import pandas as pd\n",
    "import numpy as np\n",
    "import os\n",
    "import matplotlib.pyplot as plt\n",
    "import seaborn as sns\n",
    "import scipy"
   ]
  },
  {
   "cell_type": "code",
   "execution_count": 2,
   "id": "d9a7d623",
   "metadata": {},
   "outputs": [],
   "source": [
    "# Define path\n",
    "path = r'C:\\Users\\iryna\\Documents\\Data analytics\\Career foundry\\4. Python\\06-2022 Instacart Basket Analysis'"
   ]
  },
  {
   "cell_type": "code",
   "execution_count": 3,
   "id": "ffedc055",
   "metadata": {},
   "outputs": [],
   "source": [
    "# Import Data\n",
    "ords_prods = pd.read_pickle(os.path.join(path, '02 Data', 'Prepared Data', 'ords_prods_custs_merged_s.pkl'))"
   ]
  },
  {
   "cell_type": "code",
   "execution_count": 4,
   "id": "9d29fd1e",
   "metadata": {},
   "outputs": [
    {
     "data": {
      "text/plain": [
       "(32404859, 33)"
      ]
     },
     "execution_count": 4,
     "metadata": {},
     "output_type": "execute_result"
    }
   ],
   "source": [
    "# Checking the output\n",
    "ords_prods.shape"
   ]
  },
  {
   "cell_type": "markdown",
   "id": "3f2d5188",
   "metadata": {},
   "source": [
    "### 02. Data Security"
   ]
  },
  {
   "cell_type": "markdown",
   "id": "dcd5c0fb",
   "metadata": {},
   "source": [
    "#### The dataset includes the first_name and the last_name that is PII."
   ]
  },
  {
   "cell_type": "code",
   "execution_count": 5,
   "id": "93c11eac",
   "metadata": {},
   "outputs": [],
   "source": [
    "# Addressing PII data \n",
    "ords_prods_sec = ords_prods.drop(columns = ['first_name', 'last_name'])"
   ]
  },
  {
   "cell_type": "code",
   "execution_count": 6,
   "id": "147b408f",
   "metadata": {},
   "outputs": [
    {
     "data": {
      "text/html": [
       "<div>\n",
       "<style scoped>\n",
       "    .dataframe tbody tr th:only-of-type {\n",
       "        vertical-align: middle;\n",
       "    }\n",
       "\n",
       "    .dataframe tbody tr th {\n",
       "        vertical-align: top;\n",
       "    }\n",
       "\n",
       "    .dataframe thead th {\n",
       "        text-align: right;\n",
       "    }\n",
       "</style>\n",
       "<table border=\"1\" class=\"dataframe\">\n",
       "  <thead>\n",
       "    <tr style=\"text-align: right;\">\n",
       "      <th></th>\n",
       "      <th>order_id</th>\n",
       "      <th>user_id</th>\n",
       "      <th>order_number</th>\n",
       "      <th>order_day_of_week</th>\n",
       "      <th>order_time_of_day</th>\n",
       "      <th>days_since_prior_order</th>\n",
       "      <th>product_id</th>\n",
       "      <th>add_to_cart_order</th>\n",
       "      <th>reordered</th>\n",
       "      <th>product_name</th>\n",
       "      <th>...</th>\n",
       "      <th>spender_flag</th>\n",
       "      <th>median_days_since_prior_order</th>\n",
       "      <th>order_frequency_flag</th>\n",
       "      <th>gender_identity</th>\n",
       "      <th>state</th>\n",
       "      <th>age</th>\n",
       "      <th>date_joined</th>\n",
       "      <th>dependants_#</th>\n",
       "      <th>marital_status</th>\n",
       "      <th>income</th>\n",
       "    </tr>\n",
       "  </thead>\n",
       "  <tbody>\n",
       "    <tr>\n",
       "      <th>0</th>\n",
       "      <td>2539329</td>\n",
       "      <td>1</td>\n",
       "      <td>1</td>\n",
       "      <td>2</td>\n",
       "      <td>8</td>\n",
       "      <td>NaN</td>\n",
       "      <td>196.0</td>\n",
       "      <td>1.0</td>\n",
       "      <td>0.0</td>\n",
       "      <td>Soda</td>\n",
       "      <td>...</td>\n",
       "      <td>Low spender</td>\n",
       "      <td>20.5</td>\n",
       "      <td>Non-frequent customer</td>\n",
       "      <td>Female</td>\n",
       "      <td>Alabama</td>\n",
       "      <td>31</td>\n",
       "      <td>2/17/2019</td>\n",
       "      <td>3</td>\n",
       "      <td>married</td>\n",
       "      <td>40423</td>\n",
       "    </tr>\n",
       "    <tr>\n",
       "      <th>1</th>\n",
       "      <td>2398795</td>\n",
       "      <td>1</td>\n",
       "      <td>2</td>\n",
       "      <td>3</td>\n",
       "      <td>7</td>\n",
       "      <td>15.0</td>\n",
       "      <td>196.0</td>\n",
       "      <td>1.0</td>\n",
       "      <td>1.0</td>\n",
       "      <td>Soda</td>\n",
       "      <td>...</td>\n",
       "      <td>Low spender</td>\n",
       "      <td>20.5</td>\n",
       "      <td>Non-frequent customer</td>\n",
       "      <td>Female</td>\n",
       "      <td>Alabama</td>\n",
       "      <td>31</td>\n",
       "      <td>2/17/2019</td>\n",
       "      <td>3</td>\n",
       "      <td>married</td>\n",
       "      <td>40423</td>\n",
       "    </tr>\n",
       "    <tr>\n",
       "      <th>2</th>\n",
       "      <td>473747</td>\n",
       "      <td>1</td>\n",
       "      <td>3</td>\n",
       "      <td>3</td>\n",
       "      <td>12</td>\n",
       "      <td>21.0</td>\n",
       "      <td>196.0</td>\n",
       "      <td>1.0</td>\n",
       "      <td>1.0</td>\n",
       "      <td>Soda</td>\n",
       "      <td>...</td>\n",
       "      <td>Low spender</td>\n",
       "      <td>20.5</td>\n",
       "      <td>Non-frequent customer</td>\n",
       "      <td>Female</td>\n",
       "      <td>Alabama</td>\n",
       "      <td>31</td>\n",
       "      <td>2/17/2019</td>\n",
       "      <td>3</td>\n",
       "      <td>married</td>\n",
       "      <td>40423</td>\n",
       "    </tr>\n",
       "    <tr>\n",
       "      <th>3</th>\n",
       "      <td>2254736</td>\n",
       "      <td>1</td>\n",
       "      <td>4</td>\n",
       "      <td>4</td>\n",
       "      <td>7</td>\n",
       "      <td>29.0</td>\n",
       "      <td>196.0</td>\n",
       "      <td>1.0</td>\n",
       "      <td>1.0</td>\n",
       "      <td>Soda</td>\n",
       "      <td>...</td>\n",
       "      <td>Low spender</td>\n",
       "      <td>20.5</td>\n",
       "      <td>Non-frequent customer</td>\n",
       "      <td>Female</td>\n",
       "      <td>Alabama</td>\n",
       "      <td>31</td>\n",
       "      <td>2/17/2019</td>\n",
       "      <td>3</td>\n",
       "      <td>married</td>\n",
       "      <td>40423</td>\n",
       "    </tr>\n",
       "    <tr>\n",
       "      <th>4</th>\n",
       "      <td>431534</td>\n",
       "      <td>1</td>\n",
       "      <td>5</td>\n",
       "      <td>4</td>\n",
       "      <td>15</td>\n",
       "      <td>28.0</td>\n",
       "      <td>196.0</td>\n",
       "      <td>1.0</td>\n",
       "      <td>1.0</td>\n",
       "      <td>Soda</td>\n",
       "      <td>...</td>\n",
       "      <td>Low spender</td>\n",
       "      <td>20.5</td>\n",
       "      <td>Non-frequent customer</td>\n",
       "      <td>Female</td>\n",
       "      <td>Alabama</td>\n",
       "      <td>31</td>\n",
       "      <td>2/17/2019</td>\n",
       "      <td>3</td>\n",
       "      <td>married</td>\n",
       "      <td>40423</td>\n",
       "    </tr>\n",
       "  </tbody>\n",
       "</table>\n",
       "<p>5 rows × 31 columns</p>\n",
       "</div>"
      ],
      "text/plain": [
       "   order_id  user_id  order_number  order_day_of_week  order_time_of_day  \\\n",
       "0   2539329        1             1                  2                  8   \n",
       "1   2398795        1             2                  3                  7   \n",
       "2    473747        1             3                  3                 12   \n",
       "3   2254736        1             4                  4                  7   \n",
       "4    431534        1             5                  4                 15   \n",
       "\n",
       "   days_since_prior_order  product_id  add_to_cart_order  reordered  \\\n",
       "0                     NaN       196.0                1.0        0.0   \n",
       "1                    15.0       196.0                1.0        1.0   \n",
       "2                    21.0       196.0                1.0        1.0   \n",
       "3                    29.0       196.0                1.0        1.0   \n",
       "4                    28.0       196.0                1.0        1.0   \n",
       "\n",
       "  product_name  ...  spender_flag  median_days_since_prior_order  \\\n",
       "0         Soda  ...   Low spender                           20.5   \n",
       "1         Soda  ...   Low spender                           20.5   \n",
       "2         Soda  ...   Low spender                           20.5   \n",
       "3         Soda  ...   Low spender                           20.5   \n",
       "4         Soda  ...   Low spender                           20.5   \n",
       "\n",
       "    order_frequency_flag gender_identity    state age date_joined  \\\n",
       "0  Non-frequent customer          Female  Alabama  31   2/17/2019   \n",
       "1  Non-frequent customer          Female  Alabama  31   2/17/2019   \n",
       "2  Non-frequent customer          Female  Alabama  31   2/17/2019   \n",
       "3  Non-frequent customer          Female  Alabama  31   2/17/2019   \n",
       "4  Non-frequent customer          Female  Alabama  31   2/17/2019   \n",
       "\n",
       "  dependants_#  marital_status income  \n",
       "0            3         married  40423  \n",
       "1            3         married  40423  \n",
       "2            3         married  40423  \n",
       "3            3         married  40423  \n",
       "4            3         married  40423  \n",
       "\n",
       "[5 rows x 31 columns]"
      ]
     },
     "execution_count": 6,
     "metadata": {},
     "output_type": "execute_result"
    }
   ],
   "source": [
    "# Checking the output\n",
    "ords_prods_sec.head()"
   ]
  },
  {
   "cell_type": "code",
   "execution_count": 7,
   "id": "1332595f",
   "metadata": {},
   "outputs": [
    {
     "data": {
      "text/plain": [
       "(32404859, 31)"
      ]
     },
     "execution_count": 7,
     "metadata": {},
     "output_type": "execute_result"
    }
   ],
   "source": [
    "ords_prods_sec.shape"
   ]
  },
  {
   "cell_type": "code",
   "execution_count": 8,
   "id": "41e22517",
   "metadata": {},
   "outputs": [],
   "source": [
    "# Exporting the dataset\n",
    "ords_prods_sec.to_pickle(os.path.join(path, '02 Data', 'Prepared Data', 'ords_prods_security.pkl'))"
   ]
  },
  {
   "cell_type": "markdown",
   "id": "b767f620",
   "metadata": {},
   "source": [
    "### 05. Customer profile"
   ]
  },
  {
   "cell_type": "code",
   "execution_count": 9,
   "id": "62645d33",
   "metadata": {},
   "outputs": [
    {
     "data": {
      "text/html": [
       "<div>\n",
       "<style scoped>\n",
       "    .dataframe tbody tr th:only-of-type {\n",
       "        vertical-align: middle;\n",
       "    }\n",
       "\n",
       "    .dataframe tbody tr th {\n",
       "        vertical-align: top;\n",
       "    }\n",
       "\n",
       "    .dataframe thead th {\n",
       "        text-align: right;\n",
       "    }\n",
       "</style>\n",
       "<table border=\"1\" class=\"dataframe\">\n",
       "  <thead>\n",
       "    <tr style=\"text-align: right;\">\n",
       "      <th></th>\n",
       "      <th>order_id</th>\n",
       "      <th>user_id</th>\n",
       "      <th>order_number</th>\n",
       "      <th>order_day_of_week</th>\n",
       "      <th>order_time_of_day</th>\n",
       "      <th>days_since_prior_order</th>\n",
       "      <th>product_id</th>\n",
       "      <th>add_to_cart_order</th>\n",
       "      <th>reordered</th>\n",
       "      <th>aisle_id</th>\n",
       "      <th>department_id</th>\n",
       "      <th>prices</th>\n",
       "      <th>max_order</th>\n",
       "      <th>avg_price_spent</th>\n",
       "      <th>median_days_since_prior_order</th>\n",
       "      <th>age</th>\n",
       "      <th>dependants_#</th>\n",
       "      <th>income</th>\n",
       "    </tr>\n",
       "  </thead>\n",
       "  <tbody>\n",
       "    <tr>\n",
       "      <th>count</th>\n",
       "      <td>3.240486e+07</td>\n",
       "      <td>3.240486e+07</td>\n",
       "      <td>3.240486e+07</td>\n",
       "      <td>3.240486e+07</td>\n",
       "      <td>3.240486e+07</td>\n",
       "      <td>30328763.0</td>\n",
       "      <td>3.240486e+07</td>\n",
       "      <td>3.240486e+07</td>\n",
       "      <td>3.240486e+07</td>\n",
       "      <td>3.240486e+07</td>\n",
       "      <td>3.240486e+07</td>\n",
       "      <td>3.239973e+07</td>\n",
       "      <td>3.240486e+07</td>\n",
       "      <td>3.240486e+07</td>\n",
       "      <td>32404854.0</td>\n",
       "      <td>3.240486e+07</td>\n",
       "      <td>3.240486e+07</td>\n",
       "      <td>3.240486e+07</td>\n",
       "    </tr>\n",
       "    <tr>\n",
       "      <th>mean</th>\n",
       "      <td>1.710745e+06</td>\n",
       "      <td>1.029372e+05</td>\n",
       "      <td>1.714230e+01</td>\n",
       "      <td>2.738867e+00</td>\n",
       "      <td>1.342515e+01</td>\n",
       "      <td>NaN</td>\n",
       "      <td>2.559866e+04</td>\n",
       "      <td>8.352547e+00</td>\n",
       "      <td>5.895873e-01</td>\n",
       "      <td>7.119612e+01</td>\n",
       "      <td>9.919792e+00</td>\n",
       "      <td>7.790994e+00</td>\n",
       "      <td>3.305217e+01</td>\n",
       "      <td>1.198023e+01</td>\n",
       "      <td>NaN</td>\n",
       "      <td>4.946527e+01</td>\n",
       "      <td>1.501896e+00</td>\n",
       "      <td>9.943773e+04</td>\n",
       "    </tr>\n",
       "    <tr>\n",
       "      <th>std</th>\n",
       "      <td>9.872988e+05</td>\n",
       "      <td>5.946610e+04</td>\n",
       "      <td>1.753532e+01</td>\n",
       "      <td>2.090077e+00</td>\n",
       "      <td>4.246380e+00</td>\n",
       "      <td>0.0</td>\n",
       "      <td>1.408400e+04</td>\n",
       "      <td>7.127071e+00</td>\n",
       "      <td>4.919087e-01</td>\n",
       "      <td>3.821139e+01</td>\n",
       "      <td>6.281485e+00</td>\n",
       "      <td>4.241809e+00</td>\n",
       "      <td>2.515525e+01</td>\n",
       "      <td>8.324227e+01</td>\n",
       "      <td>0.0</td>\n",
       "      <td>1.848558e+01</td>\n",
       "      <td>1.118865e+00</td>\n",
       "      <td>4.305727e+04</td>\n",
       "    </tr>\n",
       "    <tr>\n",
       "      <th>min</th>\n",
       "      <td>2.000000e+00</td>\n",
       "      <td>1.000000e+00</td>\n",
       "      <td>1.000000e+00</td>\n",
       "      <td>0.000000e+00</td>\n",
       "      <td>0.000000e+00</td>\n",
       "      <td>0.0</td>\n",
       "      <td>1.000000e+00</td>\n",
       "      <td>1.000000e+00</td>\n",
       "      <td>0.000000e+00</td>\n",
       "      <td>1.000000e+00</td>\n",
       "      <td>1.000000e+00</td>\n",
       "      <td>1.000000e+00</td>\n",
       "      <td>1.000000e+00</td>\n",
       "      <td>1.000000e+00</td>\n",
       "      <td>0.0</td>\n",
       "      <td>1.800000e+01</td>\n",
       "      <td>0.000000e+00</td>\n",
       "      <td>2.590300e+04</td>\n",
       "    </tr>\n",
       "    <tr>\n",
       "      <th>25%</th>\n",
       "      <td>8.559470e+05</td>\n",
       "      <td>5.142200e+04</td>\n",
       "      <td>5.000000e+00</td>\n",
       "      <td>1.000000e+00</td>\n",
       "      <td>1.000000e+01</td>\n",
       "      <td>5.0</td>\n",
       "      <td>1.354400e+04</td>\n",
       "      <td>3.000000e+00</td>\n",
       "      <td>0.000000e+00</td>\n",
       "      <td>3.100000e+01</td>\n",
       "      <td>4.000000e+00</td>\n",
       "      <td>4.200000e+00</td>\n",
       "      <td>1.300000e+01</td>\n",
       "      <td>7.387298e+00</td>\n",
       "      <td>6.0</td>\n",
       "      <td>3.300000e+01</td>\n",
       "      <td>1.000000e+00</td>\n",
       "      <td>6.700400e+04</td>\n",
       "    </tr>\n",
       "    <tr>\n",
       "      <th>50%</th>\n",
       "      <td>1.711049e+06</td>\n",
       "      <td>1.026160e+05</td>\n",
       "      <td>1.100000e+01</td>\n",
       "      <td>3.000000e+00</td>\n",
       "      <td>1.300000e+01</td>\n",
       "      <td>8.0</td>\n",
       "      <td>2.530200e+04</td>\n",
       "      <td>6.000000e+00</td>\n",
       "      <td>1.000000e+00</td>\n",
       "      <td>8.300000e+01</td>\n",
       "      <td>9.000000e+00</td>\n",
       "      <td>7.400000e+00</td>\n",
       "      <td>2.600000e+01</td>\n",
       "      <td>7.824786e+00</td>\n",
       "      <td>8.0</td>\n",
       "      <td>4.900000e+01</td>\n",
       "      <td>2.000000e+00</td>\n",
       "      <td>9.661800e+04</td>\n",
       "    </tr>\n",
       "    <tr>\n",
       "      <th>75%</th>\n",
       "      <td>2.565499e+06</td>\n",
       "      <td>1.543890e+05</td>\n",
       "      <td>2.400000e+01</td>\n",
       "      <td>5.000000e+00</td>\n",
       "      <td>1.600000e+01</td>\n",
       "      <td>15.0</td>\n",
       "      <td>3.794700e+04</td>\n",
       "      <td>1.100000e+01</td>\n",
       "      <td>1.000000e+00</td>\n",
       "      <td>1.070000e+02</td>\n",
       "      <td>1.600000e+01</td>\n",
       "      <td>1.130000e+01</td>\n",
       "      <td>4.700000e+01</td>\n",
       "      <td>8.254023e+00</td>\n",
       "      <td>13.0</td>\n",
       "      <td>6.500000e+01</td>\n",
       "      <td>3.000000e+00</td>\n",
       "      <td>1.279120e+05</td>\n",
       "    </tr>\n",
       "    <tr>\n",
       "      <th>max</th>\n",
       "      <td>3.421083e+06</td>\n",
       "      <td>2.062090e+05</td>\n",
       "      <td>9.900000e+01</td>\n",
       "      <td>6.000000e+00</td>\n",
       "      <td>2.300000e+01</td>\n",
       "      <td>30.0</td>\n",
       "      <td>4.968800e+04</td>\n",
       "      <td>1.450000e+02</td>\n",
       "      <td>1.000000e+00</td>\n",
       "      <td>1.340000e+02</td>\n",
       "      <td>2.100000e+01</td>\n",
       "      <td>2.500000e+01</td>\n",
       "      <td>9.900000e+01</td>\n",
       "      <td>2.500542e+04</td>\n",
       "      <td>30.0</td>\n",
       "      <td>8.100000e+01</td>\n",
       "      <td>3.000000e+00</td>\n",
       "      <td>5.939010e+05</td>\n",
       "    </tr>\n",
       "  </tbody>\n",
       "</table>\n",
       "</div>"
      ],
      "text/plain": [
       "           order_id       user_id  order_number  order_day_of_week  \\\n",
       "count  3.240486e+07  3.240486e+07  3.240486e+07       3.240486e+07   \n",
       "mean   1.710745e+06  1.029372e+05  1.714230e+01       2.738867e+00   \n",
       "std    9.872988e+05  5.946610e+04  1.753532e+01       2.090077e+00   \n",
       "min    2.000000e+00  1.000000e+00  1.000000e+00       0.000000e+00   \n",
       "25%    8.559470e+05  5.142200e+04  5.000000e+00       1.000000e+00   \n",
       "50%    1.711049e+06  1.026160e+05  1.100000e+01       3.000000e+00   \n",
       "75%    2.565499e+06  1.543890e+05  2.400000e+01       5.000000e+00   \n",
       "max    3.421083e+06  2.062090e+05  9.900000e+01       6.000000e+00   \n",
       "\n",
       "       order_time_of_day  days_since_prior_order    product_id  \\\n",
       "count       3.240486e+07              30328763.0  3.240486e+07   \n",
       "mean        1.342515e+01                     NaN  2.559866e+04   \n",
       "std         4.246380e+00                     0.0  1.408400e+04   \n",
       "min         0.000000e+00                     0.0  1.000000e+00   \n",
       "25%         1.000000e+01                     5.0  1.354400e+04   \n",
       "50%         1.300000e+01                     8.0  2.530200e+04   \n",
       "75%         1.600000e+01                    15.0  3.794700e+04   \n",
       "max         2.300000e+01                    30.0  4.968800e+04   \n",
       "\n",
       "       add_to_cart_order     reordered      aisle_id  department_id  \\\n",
       "count       3.240486e+07  3.240486e+07  3.240486e+07   3.240486e+07   \n",
       "mean        8.352547e+00  5.895873e-01  7.119612e+01   9.919792e+00   \n",
       "std         7.127071e+00  4.919087e-01  3.821139e+01   6.281485e+00   \n",
       "min         1.000000e+00  0.000000e+00  1.000000e+00   1.000000e+00   \n",
       "25%         3.000000e+00  0.000000e+00  3.100000e+01   4.000000e+00   \n",
       "50%         6.000000e+00  1.000000e+00  8.300000e+01   9.000000e+00   \n",
       "75%         1.100000e+01  1.000000e+00  1.070000e+02   1.600000e+01   \n",
       "max         1.450000e+02  1.000000e+00  1.340000e+02   2.100000e+01   \n",
       "\n",
       "             prices     max_order  avg_price_spent  \\\n",
       "count  3.239973e+07  3.240486e+07     3.240486e+07   \n",
       "mean   7.790994e+00  3.305217e+01     1.198023e+01   \n",
       "std    4.241809e+00  2.515525e+01     8.324227e+01   \n",
       "min    1.000000e+00  1.000000e+00     1.000000e+00   \n",
       "25%    4.200000e+00  1.300000e+01     7.387298e+00   \n",
       "50%    7.400000e+00  2.600000e+01     7.824786e+00   \n",
       "75%    1.130000e+01  4.700000e+01     8.254023e+00   \n",
       "max    2.500000e+01  9.900000e+01     2.500542e+04   \n",
       "\n",
       "       median_days_since_prior_order           age  dependants_#        income  \n",
       "count                     32404854.0  3.240486e+07  3.240486e+07  3.240486e+07  \n",
       "mean                             NaN  4.946527e+01  1.501896e+00  9.943773e+04  \n",
       "std                              0.0  1.848558e+01  1.118865e+00  4.305727e+04  \n",
       "min                              0.0  1.800000e+01  0.000000e+00  2.590300e+04  \n",
       "25%                              6.0  3.300000e+01  1.000000e+00  6.700400e+04  \n",
       "50%                              8.0  4.900000e+01  2.000000e+00  9.661800e+04  \n",
       "75%                             13.0  6.500000e+01  3.000000e+00  1.279120e+05  \n",
       "max                             30.0  8.100000e+01  3.000000e+00  5.939010e+05  "
      ]
     },
     "execution_count": 9,
     "metadata": {},
     "output_type": "execute_result"
    }
   ],
   "source": [
    "# Dataset statistics\n",
    "ords_prods_sec.describe()"
   ]
  },
  {
   "cell_type": "code",
   "execution_count": 10,
   "id": "c9497045",
   "metadata": {},
   "outputs": [],
   "source": [
    "#Disable scientific notation\n",
    "pd.set_option('display.float_format', lambda x: '%.3f' % x)"
   ]
  },
  {
   "cell_type": "code",
   "execution_count": 11,
   "id": "ffc1a01f",
   "metadata": {},
   "outputs": [
    {
     "data": {
      "text/html": [
       "<div>\n",
       "<style scoped>\n",
       "    .dataframe tbody tr th:only-of-type {\n",
       "        vertical-align: middle;\n",
       "    }\n",
       "\n",
       "    .dataframe tbody tr th {\n",
       "        vertical-align: top;\n",
       "    }\n",
       "\n",
       "    .dataframe thead th {\n",
       "        text-align: right;\n",
       "    }\n",
       "</style>\n",
       "<table border=\"1\" class=\"dataframe\">\n",
       "  <thead>\n",
       "    <tr style=\"text-align: right;\">\n",
       "      <th></th>\n",
       "      <th>order_id</th>\n",
       "      <th>user_id</th>\n",
       "      <th>order_number</th>\n",
       "      <th>order_day_of_week</th>\n",
       "      <th>order_time_of_day</th>\n",
       "      <th>days_since_prior_order</th>\n",
       "      <th>product_id</th>\n",
       "      <th>add_to_cart_order</th>\n",
       "      <th>reordered</th>\n",
       "      <th>aisle_id</th>\n",
       "      <th>department_id</th>\n",
       "      <th>prices</th>\n",
       "      <th>max_order</th>\n",
       "      <th>avg_price_spent</th>\n",
       "      <th>median_days_since_prior_order</th>\n",
       "      <th>age</th>\n",
       "      <th>dependants_#</th>\n",
       "      <th>income</th>\n",
       "    </tr>\n",
       "  </thead>\n",
       "  <tbody>\n",
       "    <tr>\n",
       "      <th>count</th>\n",
       "      <td>32404859.000</td>\n",
       "      <td>32404859.000</td>\n",
       "      <td>32404859.000</td>\n",
       "      <td>32404859.000</td>\n",
       "      <td>32404859.000</td>\n",
       "      <td>30328763.000</td>\n",
       "      <td>32404859.000</td>\n",
       "      <td>32404859.000</td>\n",
       "      <td>32404859.000</td>\n",
       "      <td>32404859.000</td>\n",
       "      <td>32404859.000</td>\n",
       "      <td>32399732.000</td>\n",
       "      <td>32404859.000</td>\n",
       "      <td>32404859.000</td>\n",
       "      <td>32404854.000</td>\n",
       "      <td>32404859.000</td>\n",
       "      <td>32404859.000</td>\n",
       "      <td>32404859.000</td>\n",
       "    </tr>\n",
       "    <tr>\n",
       "      <th>mean</th>\n",
       "      <td>1710745.497</td>\n",
       "      <td>102937.229</td>\n",
       "      <td>17.142</td>\n",
       "      <td>2.739</td>\n",
       "      <td>13.425</td>\n",
       "      <td>NaN</td>\n",
       "      <td>25598.662</td>\n",
       "      <td>8.353</td>\n",
       "      <td>0.590</td>\n",
       "      <td>71.196</td>\n",
       "      <td>9.920</td>\n",
       "      <td>7.791</td>\n",
       "      <td>33.052</td>\n",
       "      <td>11.980</td>\n",
       "      <td>NaN</td>\n",
       "      <td>49.465</td>\n",
       "      <td>1.502</td>\n",
       "      <td>99437.733</td>\n",
       "    </tr>\n",
       "    <tr>\n",
       "      <th>std</th>\n",
       "      <td>987298.834</td>\n",
       "      <td>59466.104</td>\n",
       "      <td>17.535</td>\n",
       "      <td>2.090</td>\n",
       "      <td>4.246</td>\n",
       "      <td>0.000</td>\n",
       "      <td>14083.996</td>\n",
       "      <td>7.127</td>\n",
       "      <td>0.492</td>\n",
       "      <td>38.211</td>\n",
       "      <td>6.281</td>\n",
       "      <td>4.242</td>\n",
       "      <td>25.155</td>\n",
       "      <td>83.242</td>\n",
       "      <td>0.000</td>\n",
       "      <td>18.486</td>\n",
       "      <td>1.119</td>\n",
       "      <td>43057.273</td>\n",
       "    </tr>\n",
       "    <tr>\n",
       "      <th>min</th>\n",
       "      <td>2.000</td>\n",
       "      <td>1.000</td>\n",
       "      <td>1.000</td>\n",
       "      <td>0.000</td>\n",
       "      <td>0.000</td>\n",
       "      <td>0.000</td>\n",
       "      <td>1.000</td>\n",
       "      <td>1.000</td>\n",
       "      <td>0.000</td>\n",
       "      <td>1.000</td>\n",
       "      <td>1.000</td>\n",
       "      <td>1.000</td>\n",
       "      <td>1.000</td>\n",
       "      <td>1.000</td>\n",
       "      <td>0.000</td>\n",
       "      <td>18.000</td>\n",
       "      <td>0.000</td>\n",
       "      <td>25903.000</td>\n",
       "    </tr>\n",
       "    <tr>\n",
       "      <th>25%</th>\n",
       "      <td>855947.000</td>\n",
       "      <td>51422.000</td>\n",
       "      <td>5.000</td>\n",
       "      <td>1.000</td>\n",
       "      <td>10.000</td>\n",
       "      <td>5.000</td>\n",
       "      <td>13544.000</td>\n",
       "      <td>3.000</td>\n",
       "      <td>0.000</td>\n",
       "      <td>31.000</td>\n",
       "      <td>4.000</td>\n",
       "      <td>4.200</td>\n",
       "      <td>13.000</td>\n",
       "      <td>7.387</td>\n",
       "      <td>6.000</td>\n",
       "      <td>33.000</td>\n",
       "      <td>1.000</td>\n",
       "      <td>67004.000</td>\n",
       "    </tr>\n",
       "    <tr>\n",
       "      <th>50%</th>\n",
       "      <td>1711049.000</td>\n",
       "      <td>102616.000</td>\n",
       "      <td>11.000</td>\n",
       "      <td>3.000</td>\n",
       "      <td>13.000</td>\n",
       "      <td>8.000</td>\n",
       "      <td>25302.000</td>\n",
       "      <td>6.000</td>\n",
       "      <td>1.000</td>\n",
       "      <td>83.000</td>\n",
       "      <td>9.000</td>\n",
       "      <td>7.400</td>\n",
       "      <td>26.000</td>\n",
       "      <td>7.825</td>\n",
       "      <td>8.000</td>\n",
       "      <td>49.000</td>\n",
       "      <td>2.000</td>\n",
       "      <td>96618.000</td>\n",
       "    </tr>\n",
       "    <tr>\n",
       "      <th>75%</th>\n",
       "      <td>2565499.000</td>\n",
       "      <td>154389.000</td>\n",
       "      <td>24.000</td>\n",
       "      <td>5.000</td>\n",
       "      <td>16.000</td>\n",
       "      <td>15.000</td>\n",
       "      <td>37947.000</td>\n",
       "      <td>11.000</td>\n",
       "      <td>1.000</td>\n",
       "      <td>107.000</td>\n",
       "      <td>16.000</td>\n",
       "      <td>11.300</td>\n",
       "      <td>47.000</td>\n",
       "      <td>8.254</td>\n",
       "      <td>13.000</td>\n",
       "      <td>65.000</td>\n",
       "      <td>3.000</td>\n",
       "      <td>127912.000</td>\n",
       "    </tr>\n",
       "    <tr>\n",
       "      <th>max</th>\n",
       "      <td>3421083.000</td>\n",
       "      <td>206209.000</td>\n",
       "      <td>99.000</td>\n",
       "      <td>6.000</td>\n",
       "      <td>23.000</td>\n",
       "      <td>30.000</td>\n",
       "      <td>49688.000</td>\n",
       "      <td>145.000</td>\n",
       "      <td>1.000</td>\n",
       "      <td>134.000</td>\n",
       "      <td>21.000</td>\n",
       "      <td>25.000</td>\n",
       "      <td>99.000</td>\n",
       "      <td>25005.425</td>\n",
       "      <td>30.000</td>\n",
       "      <td>81.000</td>\n",
       "      <td>3.000</td>\n",
       "      <td>593901.000</td>\n",
       "    </tr>\n",
       "  </tbody>\n",
       "</table>\n",
       "</div>"
      ],
      "text/plain": [
       "          order_id      user_id  order_number  order_day_of_week  \\\n",
       "count 32404859.000 32404859.000  32404859.000       32404859.000   \n",
       "mean   1710745.497   102937.229        17.142              2.739   \n",
       "std     987298.834    59466.104        17.535              2.090   \n",
       "min          2.000        1.000         1.000              0.000   \n",
       "25%     855947.000    51422.000         5.000              1.000   \n",
       "50%    1711049.000   102616.000        11.000              3.000   \n",
       "75%    2565499.000   154389.000        24.000              5.000   \n",
       "max    3421083.000   206209.000        99.000              6.000   \n",
       "\n",
       "       order_time_of_day  days_since_prior_order   product_id  \\\n",
       "count       32404859.000            30328763.000 32404859.000   \n",
       "mean              13.425                     NaN    25598.662   \n",
       "std                4.246                   0.000    14083.996   \n",
       "min                0.000                   0.000        1.000   \n",
       "25%               10.000                   5.000    13544.000   \n",
       "50%               13.000                   8.000    25302.000   \n",
       "75%               16.000                  15.000    37947.000   \n",
       "max               23.000                  30.000    49688.000   \n",
       "\n",
       "       add_to_cart_order    reordered     aisle_id  department_id  \\\n",
       "count       32404859.000 32404859.000 32404859.000   32404859.000   \n",
       "mean               8.353        0.590       71.196          9.920   \n",
       "std                7.127        0.492       38.211          6.281   \n",
       "min                1.000        0.000        1.000          1.000   \n",
       "25%                3.000        0.000       31.000          4.000   \n",
       "50%                6.000        1.000       83.000          9.000   \n",
       "75%               11.000        1.000      107.000         16.000   \n",
       "max              145.000        1.000      134.000         21.000   \n",
       "\n",
       "            prices    max_order  avg_price_spent  \\\n",
       "count 32399732.000 32404859.000     32404859.000   \n",
       "mean         7.791       33.052           11.980   \n",
       "std          4.242       25.155           83.242   \n",
       "min          1.000        1.000            1.000   \n",
       "25%          4.200       13.000            7.387   \n",
       "50%          7.400       26.000            7.825   \n",
       "75%         11.300       47.000            8.254   \n",
       "max         25.000       99.000        25005.425   \n",
       "\n",
       "       median_days_since_prior_order          age  dependants_#       income  \n",
       "count                   32404854.000 32404859.000  32404859.000 32404859.000  \n",
       "mean                             NaN       49.465         1.502    99437.733  \n",
       "std                            0.000       18.486         1.119    43057.273  \n",
       "min                            0.000       18.000         0.000    25903.000  \n",
       "25%                            6.000       33.000         1.000    67004.000  \n",
       "50%                            8.000       49.000         2.000    96618.000  \n",
       "75%                           13.000       65.000         3.000   127912.000  \n",
       "max                           30.000       81.000         3.000   593901.000  "
      ]
     },
     "execution_count": 11,
     "metadata": {},
     "output_type": "execute_result"
    }
   ],
   "source": [
    "#Checking the output\n",
    "ords_prods_sec.describe()"
   ]
  },
  {
   "cell_type": "markdown",
   "id": "f3870282",
   "metadata": {},
   "source": [
    "#### 05.1 Age groups"
   ]
  },
  {
   "cell_type": "code",
   "execution_count": 12,
   "id": "e87dcc48",
   "metadata": {},
   "outputs": [],
   "source": [
    "# Conditions for 'Age group'\n",
    "age_group = []\n",
    "  \n",
    "for value in ords_prods_sec ['age']:\n",
    "  if (value > 18) & (value <= 35 ):\n",
    "    age_group.append ('Young')\n",
    "  elif (value >= 36) &  (value <= 55):\n",
    "    age_group.append ('Middle-aged')\n",
    "  elif (value >= 56) & (value <= 70):\n",
    "     age_group.append ('Older')\n",
    "  else:\n",
    "     age_group.append ('Seniors')"
   ]
  },
  {
   "cell_type": "code",
   "execution_count": 13,
   "id": "7f7d0b4b",
   "metadata": {},
   "outputs": [],
   "source": [
    "# Creating a new column\n",
    "ords_prods_sec['age_group']=age_group"
   ]
  },
  {
   "cell_type": "code",
   "execution_count": 14,
   "id": "cea94f61",
   "metadata": {},
   "outputs": [
    {
     "data": {
      "text/plain": [
       "Middle-aged    10166280\n",
       "Young           8645945\n",
       "Older           7513990\n",
       "Seniors         6078644\n",
       "Name: age_group, dtype: int64"
      ]
     },
     "execution_count": 14,
     "metadata": {},
     "output_type": "execute_result"
    }
   ],
   "source": [
    "# Checking the output\n",
    "ords_prods_sec['age_group'].value_counts(dropna = False)"
   ]
  },
  {
   "cell_type": "code",
   "execution_count": 15,
   "id": "6ea78f56",
   "metadata": {},
   "outputs": [
    {
     "data": {
      "image/png": "[encoded data removed]",
      "text/plain": [
       "<Figure size 432x288 with 1 Axes>"
      ]
     },
     "metadata": {
      "needs_background": "light"
     },
     "output_type": "display_data"
    }
   ],
   "source": [
    "# Creating age group bar chart\n",
    "bar_age_group = ords_prods_sec['age_group'].value_counts().sort_index().plot.bar(ylabel = 'Count (Million)', title = 'Age groups')"
   ]
  },
  {
   "cell_type": "code",
   "execution_count": 16,
   "id": "598a5785",
   "metadata": {},
   "outputs": [],
   "source": [
    "# Export visualization Age groups\n",
    "bar_age_group = bar_age_group.figure.savefig(os.path.join(path, '04 Analysis', 'Visualizations', 'age_group.png'))"
   ]
  },
  {
   "cell_type": "code",
   "execution_count": 17,
   "id": "c3ee60be",
   "metadata": {},
   "outputs": [],
   "source": [
    "#Checking ordering depends on day of the week by age group\n",
    "crosstab_dow_order = pd.crosstab(ords_prods_sec['age_group'], ords_prods_sec['order_day_of_week'], dropna = False )"
   ]
  },
  {
   "cell_type": "code",
   "execution_count": 18,
   "id": "50749abb",
   "metadata": {},
   "outputs": [
    {
     "data": {
      "image/png": "[encoded data removed]",
      "text/plain": [
       "<Figure size 432x288 with 1 Axes>"
      ]
     },
     "metadata": {
      "needs_background": "light"
     },
     "output_type": "display_data"
    }
   ],
   "source": [
    "# Visualization Day of week order by age group\n",
    "crosstab_dow_order = crosstab_dow_order.plot(kind = 'bar', stacked = True, title = 'Day of week order by age group')"
   ]
  },
  {
   "cell_type": "code",
   "execution_count": 19,
   "id": "3c748426",
   "metadata": {},
   "outputs": [],
   "source": [
    "#Checking loyalty by age group\n",
    "crosstab_loyalty = pd.crosstab(ords_prods_sec['age_group'], ords_prods_sec['loyalty_flag'], dropna = False )"
   ]
  },
  {
   "cell_type": "code",
   "execution_count": 20,
   "id": "bb8baa22",
   "metadata": {},
   "outputs": [
    {
     "data": {
      "image/png": "[encoded data removed]",
      "text/plain": [
       "<Figure size 432x288 with 1 Axes>"
      ]
     },
     "metadata": {
      "needs_background": "light"
     },
     "output_type": "display_data"
    }
   ],
   "source": [
    "# Visualization loyalty by age group\n",
    "crosstab_loyalty = crosstab_loyalty.plot(kind = 'bar', stacked = False, title = 'Loyalty by age group')"
   ]
  },
  {
   "cell_type": "code",
   "execution_count": 21,
   "id": "88820cfb",
   "metadata": {},
   "outputs": [],
   "source": [
    "# Export visualizations Order in DOW and Loyalty be age group\n",
    "crosstab_dow_order = crosstab_dow_order.figure.savefig(os.path.join(path, '04 Analysis', 'Visualizations', 'DOW_age_group.png'))\n",
    "crosstab_loyalty = crosstab_loyalty.figure.savefig(os.path.join(path, '04 Analysis', 'Visualizations', 'Loyalty_age_group.png'))\n"
   ]
  },
  {
   "cell_type": "code",
   "execution_count": 23,
   "id": "495db89a",
   "metadata": {},
   "outputs": [],
   "source": [
    "# Exporting the dataset\n",
    "ords_prods_sec.to_pickle(os.path.join(path, '02 Data', 'Prepared Data', 'ords_prods_security_agegroup.pkl'))"
   ]
  },
  {
   "cell_type": "markdown",
   "id": "8654b5f3",
   "metadata": {},
   "source": [
    "#### 05.2 Income level"
   ]
  },
  {
   "cell_type": "code",
   "execution_count": 24,
   "id": "6c6cadf4",
   "metadata": {},
   "outputs": [],
   "source": [
    "# Conditions for 'Income level'\n",
    "income_level = []\n",
    "  \n",
    "for value in ords_prods_sec ['income']:\n",
    "  if (value <= 39999 ):\n",
    "    income_level.append ('Low')\n",
    "  elif (value >= 40000) &  (value <= 119999):\n",
    "    income_level.append ('Middle')\n",
    "  elif (value >= 120000) & (value <= 199999):\n",
    "     income_level.append ('Affluent')\n",
    "  else:\n",
    "     income_level.append ('High')"
   ]
  },
  {
   "cell_type": "code",
   "execution_count": 25,
   "id": "1bdc82fa",
   "metadata": {},
   "outputs": [],
   "source": [
    "# Creating a new column\n",
    "ords_prods_sec['income_level']=income_level"
   ]
  },
  {
   "cell_type": "code",
   "execution_count": 26,
   "id": "8f491eea",
   "metadata": {},
   "outputs": [
    {
     "data": {
      "text/plain": [
       "Middle      21106291\n",
       "Affluent     9312927\n",
       "Low          1727198\n",
       "High          258443\n",
       "Name: income_level, dtype: int64"
      ]
     },
     "execution_count": 26,
     "metadata": {},
     "output_type": "execute_result"
    }
   ],
   "source": [
    "# Checking the output\n",
    "ords_prods_sec['income_level'].value_counts(dropna = False)"
   ]
  },
  {
   "cell_type": "code",
   "execution_count": 27,
   "id": "69602ff5",
   "metadata": {},
   "outputs": [
    {
     "data": {
      "image/png": "[encoded data removed]",
      "text/plain": [
       "<Figure size 432x288 with 1 Axes>"
      ]
     },
     "metadata": {
      "needs_background": "light"
     },
     "output_type": "display_data"
    }
   ],
   "source": [
    "# income level visualization\n",
    "bar_income = ords_prods_sec['income_level'].value_counts().plot.bar(ylabel = 'Count (Millions)', title = 'Income level', color = 'navy')"
   ]
  },
  {
   "cell_type": "code",
   "execution_count": 28,
   "id": "11778a89",
   "metadata": {},
   "outputs": [],
   "source": [
    "# Checking customer profile income level by age group\n",
    "ct_income_age = pd.crosstab(ords_prods_sec['income_level'], ords_prods_sec['age_group'], dropna = False)"
   ]
  },
  {
   "cell_type": "code",
   "execution_count": 29,
   "id": "81f8bee1",
   "metadata": {},
   "outputs": [
    {
     "data": {
      "image/png": "[encoded data removed]",
      "text/plain": [
       "<Figure size 432x288 with 1 Axes>"
      ]
     },
     "metadata": {
      "needs_background": "light"
     },
     "output_type": "display_data"
    }
   ],
   "source": [
    "# Visualization income level by age group\n",
    "bar_ct_income_age = ct_income_age.plot(kind = 'bar', stacked = False, title = 'Income level by age group')"
   ]
  },
  {
   "cell_type": "code",
   "execution_count": 30,
   "id": "a65ab302",
   "metadata": {},
   "outputs": [],
   "source": [
    "# Export visualizations Order in DOW and Loyalty be age group\n",
    "bar_income = bar_income.figure.savefig(os.path.join(path, '04 Analysis', 'Visualizations', 'Income_level.png'))\n",
    "bar_ct_income_age = bar_ct_income_age.figure.savefig(os.path.join(path, '04 Analysis', 'Visualizations', 'Income_age.png'))\n"
   ]
  },
  {
   "cell_type": "code",
   "execution_count": 31,
   "id": "acf9ec31",
   "metadata": {},
   "outputs": [],
   "source": [
    "# Exporting the dataset\n",
    "ords_prods_sec.to_pickle(os.path.join(path, '02 Data', 'Prepared Data', 'ords_prods_sec_age_income.pkl'))"
   ]
  },
  {
   "cell_type": "markdown",
   "id": "57a8dd3d",
   "metadata": {},
   "source": [
    "#### 05.3 Family status with/without dependants"
   ]
  },
  {
   "cell_type": "code",
   "execution_count": 32,
   "id": "60bbe8bc",
   "metadata": {},
   "outputs": [
    {
     "data": {
      "text/plain": [
       "married                             22756753\n",
       "single                               5325691\n",
       "divorced/widowed                     2771812\n",
       "living with parents and siblings     1550603\n",
       "Name: marital_status, dtype: int64"
      ]
     },
     "execution_count": 32,
     "metadata": {},
     "output_type": "execute_result"
    }
   ],
   "source": [
    "# Checking the family status\n",
    "ords_prods_sec['marital_status'].value_counts(dropna = False)"
   ]
  },
  {
   "cell_type": "code",
   "execution_count": 33,
   "id": "65ee3aa2",
   "metadata": {},
   "outputs": [
    {
     "data": {
      "text/plain": [
       "Middle-aged    10166280\n",
       "Young           8645945\n",
       "Older           7513990\n",
       "Seniors         6078644\n",
       "Name: age_group, dtype: int64"
      ]
     },
     "execution_count": 33,
     "metadata": {},
     "output_type": "execute_result"
    }
   ],
   "source": [
    "#Checking age group\n",
    "ords_prods_sec['age_group'].value_counts(dropna=False)"
   ]
  },
  {
   "cell_type": "code",
   "execution_count": 34,
   "id": "8a8ae371",
   "metadata": {},
   "outputs": [
    {
     "data": {
      "text/plain": [
       "3    8135109\n",
       "0    8097503\n",
       "2    8091143\n",
       "1    8081104\n",
       "Name: dependants_#, dtype: int64"
      ]
     },
     "execution_count": 34,
     "metadata": {},
     "output_type": "execute_result"
    }
   ],
   "source": [
    "#Checking # of dependants\n",
    "ords_prods_sec['dependants_#'].value_counts(dropna=False)"
   ]
  },
  {
   "cell_type": "code",
   "execution_count": 35,
   "id": "8bdb6c38",
   "metadata": {},
   "outputs": [
    {
     "data": {
      "text/html": [
       "<div>\n",
       "<style scoped>\n",
       "    .dataframe tbody tr th:only-of-type {\n",
       "        vertical-align: middle;\n",
       "    }\n",
       "\n",
       "    .dataframe tbody tr th {\n",
       "        vertical-align: top;\n",
       "    }\n",
       "\n",
       "    .dataframe thead th {\n",
       "        text-align: right;\n",
       "    }\n",
       "</style>\n",
       "<table border=\"1\" class=\"dataframe\">\n",
       "  <thead>\n",
       "    <tr style=\"text-align: right;\">\n",
       "      <th></th>\n",
       "      <th>order_id</th>\n",
       "      <th>user_id</th>\n",
       "      <th>order_number</th>\n",
       "      <th>order_day_of_week</th>\n",
       "      <th>order_time_of_day</th>\n",
       "      <th>days_since_prior_order</th>\n",
       "      <th>product_id</th>\n",
       "      <th>add_to_cart_order</th>\n",
       "      <th>reordered</th>\n",
       "      <th>product_name</th>\n",
       "      <th>...</th>\n",
       "      <th>order_frequency_flag</th>\n",
       "      <th>gender_identity</th>\n",
       "      <th>state</th>\n",
       "      <th>age</th>\n",
       "      <th>date_joined</th>\n",
       "      <th>dependants_#</th>\n",
       "      <th>marital_status</th>\n",
       "      <th>income</th>\n",
       "      <th>age_group</th>\n",
       "      <th>income_level</th>\n",
       "    </tr>\n",
       "  </thead>\n",
       "  <tbody>\n",
       "    <tr>\n",
       "      <th>0</th>\n",
       "      <td>2539329</td>\n",
       "      <td>1</td>\n",
       "      <td>1</td>\n",
       "      <td>2</td>\n",
       "      <td>8</td>\n",
       "      <td>NaN</td>\n",
       "      <td>196.000</td>\n",
       "      <td>1.000</td>\n",
       "      <td>0.000</td>\n",
       "      <td>Soda</td>\n",
       "      <td>...</td>\n",
       "      <td>Non-frequent customer</td>\n",
       "      <td>Female</td>\n",
       "      <td>Alabama</td>\n",
       "      <td>31</td>\n",
       "      <td>2/17/2019</td>\n",
       "      <td>3</td>\n",
       "      <td>married</td>\n",
       "      <td>40423</td>\n",
       "      <td>Young</td>\n",
       "      <td>Middle</td>\n",
       "    </tr>\n",
       "    <tr>\n",
       "      <th>1</th>\n",
       "      <td>2398795</td>\n",
       "      <td>1</td>\n",
       "      <td>2</td>\n",
       "      <td>3</td>\n",
       "      <td>7</td>\n",
       "      <td>15.000</td>\n",
       "      <td>196.000</td>\n",
       "      <td>1.000</td>\n",
       "      <td>1.000</td>\n",
       "      <td>Soda</td>\n",
       "      <td>...</td>\n",
       "      <td>Non-frequent customer</td>\n",
       "      <td>Female</td>\n",
       "      <td>Alabama</td>\n",
       "      <td>31</td>\n",
       "      <td>2/17/2019</td>\n",
       "      <td>3</td>\n",
       "      <td>married</td>\n",
       "      <td>40423</td>\n",
       "      <td>Young</td>\n",
       "      <td>Middle</td>\n",
       "    </tr>\n",
       "    <tr>\n",
       "      <th>2</th>\n",
       "      <td>473747</td>\n",
       "      <td>1</td>\n",
       "      <td>3</td>\n",
       "      <td>3</td>\n",
       "      <td>12</td>\n",
       "      <td>21.000</td>\n",
       "      <td>196.000</td>\n",
       "      <td>1.000</td>\n",
       "      <td>1.000</td>\n",
       "      <td>Soda</td>\n",
       "      <td>...</td>\n",
       "      <td>Non-frequent customer</td>\n",
       "      <td>Female</td>\n",
       "      <td>Alabama</td>\n",
       "      <td>31</td>\n",
       "      <td>2/17/2019</td>\n",
       "      <td>3</td>\n",
       "      <td>married</td>\n",
       "      <td>40423</td>\n",
       "      <td>Young</td>\n",
       "      <td>Middle</td>\n",
       "    </tr>\n",
       "    <tr>\n",
       "      <th>3</th>\n",
       "      <td>2254736</td>\n",
       "      <td>1</td>\n",
       "      <td>4</td>\n",
       "      <td>4</td>\n",
       "      <td>7</td>\n",
       "      <td>29.000</td>\n",
       "      <td>196.000</td>\n",
       "      <td>1.000</td>\n",
       "      <td>1.000</td>\n",
       "      <td>Soda</td>\n",
       "      <td>...</td>\n",
       "      <td>Non-frequent customer</td>\n",
       "      <td>Female</td>\n",
       "      <td>Alabama</td>\n",
       "      <td>31</td>\n",
       "      <td>2/17/2019</td>\n",
       "      <td>3</td>\n",
       "      <td>married</td>\n",
       "      <td>40423</td>\n",
       "      <td>Young</td>\n",
       "      <td>Middle</td>\n",
       "    </tr>\n",
       "    <tr>\n",
       "      <th>4</th>\n",
       "      <td>431534</td>\n",
       "      <td>1</td>\n",
       "      <td>5</td>\n",
       "      <td>4</td>\n",
       "      <td>15</td>\n",
       "      <td>28.000</td>\n",
       "      <td>196.000</td>\n",
       "      <td>1.000</td>\n",
       "      <td>1.000</td>\n",
       "      <td>Soda</td>\n",
       "      <td>...</td>\n",
       "      <td>Non-frequent customer</td>\n",
       "      <td>Female</td>\n",
       "      <td>Alabama</td>\n",
       "      <td>31</td>\n",
       "      <td>2/17/2019</td>\n",
       "      <td>3</td>\n",
       "      <td>married</td>\n",
       "      <td>40423</td>\n",
       "      <td>Young</td>\n",
       "      <td>Middle</td>\n",
       "    </tr>\n",
       "  </tbody>\n",
       "</table>\n",
       "<p>5 rows × 33 columns</p>\n",
       "</div>"
      ],
      "text/plain": [
       "   order_id  user_id  order_number  order_day_of_week  order_time_of_day  \\\n",
       "0   2539329        1             1                  2                  8   \n",
       "1   2398795        1             2                  3                  7   \n",
       "2    473747        1             3                  3                 12   \n",
       "3   2254736        1             4                  4                  7   \n",
       "4    431534        1             5                  4                 15   \n",
       "\n",
       "   days_since_prior_order  product_id  add_to_cart_order  reordered  \\\n",
       "0                     NaN     196.000              1.000      0.000   \n",
       "1                  15.000     196.000              1.000      1.000   \n",
       "2                  21.000     196.000              1.000      1.000   \n",
       "3                  29.000     196.000              1.000      1.000   \n",
       "4                  28.000     196.000              1.000      1.000   \n",
       "\n",
       "  product_name  ...   order_frequency_flag  gender_identity    state age  \\\n",
       "0         Soda  ...  Non-frequent customer           Female  Alabama  31   \n",
       "1         Soda  ...  Non-frequent customer           Female  Alabama  31   \n",
       "2         Soda  ...  Non-frequent customer           Female  Alabama  31   \n",
       "3         Soda  ...  Non-frequent customer           Female  Alabama  31   \n",
       "4         Soda  ...  Non-frequent customer           Female  Alabama  31   \n",
       "\n",
       "  date_joined dependants_# marital_status income  age_group income_level  \n",
       "0   2/17/2019            3        married  40423      Young       Middle  \n",
       "1   2/17/2019            3        married  40423      Young       Middle  \n",
       "2   2/17/2019            3        married  40423      Young       Middle  \n",
       "3   2/17/2019            3        married  40423      Young       Middle  \n",
       "4   2/17/2019            3        married  40423      Young       Middle  \n",
       "\n",
       "[5 rows x 33 columns]"
      ]
     },
     "execution_count": 35,
     "metadata": {},
     "output_type": "execute_result"
    }
   ],
   "source": [
    "ords_prods_sec.head()"
   ]
  },
  {
   "cell_type": "code",
   "execution_count": 36,
   "id": "67e441ff",
   "metadata": {},
   "outputs": [],
   "source": [
    "# Young without/with dependants\n",
    "ords_prods_sec.loc[(ords_prods_sec['age_group'] == 'Young') & (ords_prods_sec['dependants_#'] == 0), 'profile'] = \"Young single\"\n",
    "ords_prods_sec.loc[(ords_prods_sec['age_group'] == 'Young') & (ords_prods_sec['dependants_#'] >= 1), 'profile'] = \"Single parent\""
   ]
  },
  {
   "cell_type": "code",
   "execution_count": 38,
   "id": "cc70f4ef",
   "metadata": {},
   "outputs": [],
   "source": [
    "# Middle-aged without/with dependants\n",
    "ords_prods_sec.loc[(ords_prods_sec['age_group'] == 'Middle-aged') & (ords_prods_sec['dependants_#'] == 0), 'profile'] = \"Middle-aged single\"\n",
    "ords_prods_sec.loc[(ords_prods_sec['age_group'] == 'Middle-aged') & (ords_prods_sec['dependants_#'] >= 1), 'profile'] = \"Middle-aged parent\""
   ]
  },
  {
   "cell_type": "code",
   "execution_count": 39,
   "id": "6554525a",
   "metadata": {},
   "outputs": [],
   "source": [
    "# Older without/with dependants\n",
    "ords_prods_sec.loc[(ords_prods_sec['age_group'] == 'Older') & (ords_prods_sec['dependants_#'] == 0), 'profile'] = \"Older single\"\n",
    "ords_prods_sec.loc[(ords_prods_sec['age_group'] == 'Older') & (ords_prods_sec['dependants_#'] >= 1), 'profile'] = \"Older with dependant\""
   ]
  },
  {
   "cell_type": "code",
   "execution_count": 40,
   "id": "d2463750",
   "metadata": {},
   "outputs": [],
   "source": [
    "# Seniors without/with dependants\n",
    "ords_prods_sec.loc[(ords_prods_sec['age_group'] == 'Seniors') & (ords_prods_sec['dependants_#'] == 0), 'profile'] = \"Senior single\"\n",
    "ords_prods_sec.loc[(ords_prods_sec['age_group'] == 'Seniors') & (ords_prods_sec['dependants_#'] >= 1), 'profile'] = \"Senior with dependant\""
   ]
  },
  {
   "cell_type": "code",
   "execution_count": 41,
   "id": "affbf0ef",
   "metadata": {},
   "outputs": [
    {
     "data": {
      "text/plain": [
       "Middle-aged parent       7639491\n",
       "Single parent            6495039\n",
       "Older with dependant     5606265\n",
       "Senior with dependant    4566561\n",
       "Middle-aged single       2526789\n",
       "Young single             2150906\n",
       "Older single             1907725\n",
       "Senior single            1512083\n",
       "Name: profile, dtype: int64"
      ]
     },
     "execution_count": 41,
     "metadata": {},
     "output_type": "execute_result"
    }
   ],
   "source": [
    "# Checking the output\n",
    "ords_prods_sec['profile'].value_counts(dropna = False)"
   ]
  },
  {
   "cell_type": "code",
   "execution_count": 48,
   "id": "dfa65682",
   "metadata": {},
   "outputs": [],
   "source": [
    "#Exploring income level by family status\n",
    "ct_fs_dep = pd.crosstab(ords_prods_sec['income_level'], ords_prods_sec['profile'], dropna = False )"
   ]
  },
  {
   "cell_type": "code",
   "execution_count": 49,
   "id": "d24fd003",
   "metadata": {},
   "outputs": [
    {
     "data": {
      "text/html": [
       "<div>\n",
       "<style scoped>\n",
       "    .dataframe tbody tr th:only-of-type {\n",
       "        vertical-align: middle;\n",
       "    }\n",
       "\n",
       "    .dataframe tbody tr th {\n",
       "        vertical-align: top;\n",
       "    }\n",
       "\n",
       "    .dataframe thead th {\n",
       "        text-align: right;\n",
       "    }\n",
       "</style>\n",
       "<table border=\"1\" class=\"dataframe\">\n",
       "  <thead>\n",
       "    <tr style=\"text-align: right;\">\n",
       "      <th>profile</th>\n",
       "      <th>Middle-aged parent</th>\n",
       "      <th>Middle-aged single</th>\n",
       "      <th>Older single</th>\n",
       "      <th>Older with dependant</th>\n",
       "      <th>Senior single</th>\n",
       "      <th>Senior with dependant</th>\n",
       "      <th>Single parent</th>\n",
       "      <th>Young single</th>\n",
       "    </tr>\n",
       "    <tr>\n",
       "      <th>income_level</th>\n",
       "      <th></th>\n",
       "      <th></th>\n",
       "      <th></th>\n",
       "      <th></th>\n",
       "      <th></th>\n",
       "      <th></th>\n",
       "      <th></th>\n",
       "      <th></th>\n",
       "    </tr>\n",
       "  </thead>\n",
       "  <tbody>\n",
       "    <tr>\n",
       "      <th>Affluent</th>\n",
       "      <td>2565276</td>\n",
       "      <td>855207</td>\n",
       "      <td>863491</td>\n",
       "      <td>2484286</td>\n",
       "      <td>620444</td>\n",
       "      <td>1854868</td>\n",
       "      <td>55249</td>\n",
       "      <td>14106</td>\n",
       "    </tr>\n",
       "    <tr>\n",
       "      <th>High</th>\n",
       "      <td>69359</td>\n",
       "      <td>25839</td>\n",
       "      <td>16066</td>\n",
       "      <td>58347</td>\n",
       "      <td>13692</td>\n",
       "      <td>44242</td>\n",
       "      <td>20964</td>\n",
       "      <td>9934</td>\n",
       "    </tr>\n",
       "    <tr>\n",
       "      <th>Low</th>\n",
       "      <td>377807</td>\n",
       "      <td>130791</td>\n",
       "      <td>85473</td>\n",
       "      <td>237094</td>\n",
       "      <td>63410</td>\n",
       "      <td>207675</td>\n",
       "      <td>469055</td>\n",
       "      <td>155893</td>\n",
       "    </tr>\n",
       "    <tr>\n",
       "      <th>Middle</th>\n",
       "      <td>4627049</td>\n",
       "      <td>1514952</td>\n",
       "      <td>942695</td>\n",
       "      <td>2826538</td>\n",
       "      <td>814537</td>\n",
       "      <td>2459776</td>\n",
       "      <td>5949771</td>\n",
       "      <td>1970973</td>\n",
       "    </tr>\n",
       "  </tbody>\n",
       "</table>\n",
       "</div>"
      ],
      "text/plain": [
       "profile       Middle-aged parent  Middle-aged single  Older single  \\\n",
       "income_level                                                         \n",
       "Affluent                 2565276              855207        863491   \n",
       "High                       69359               25839         16066   \n",
       "Low                       377807              130791         85473   \n",
       "Middle                   4627049             1514952        942695   \n",
       "\n",
       "profile       Older with dependant  Senior single  Senior with dependant  \\\n",
       "income_level                                                               \n",
       "Affluent                   2484286         620444                1854868   \n",
       "High                         58347          13692                  44242   \n",
       "Low                         237094          63410                 207675   \n",
       "Middle                     2826538         814537                2459776   \n",
       "\n",
       "profile       Single parent  Young single  \n",
       "income_level                               \n",
       "Affluent              55249         14106  \n",
       "High                  20964          9934  \n",
       "Low                  469055        155893  \n",
       "Middle              5949771       1970973  "
      ]
     },
     "execution_count": 49,
     "metadata": {},
     "output_type": "execute_result"
    }
   ],
   "source": [
    "# Checking the output\n",
    "ct_fs_dep.head()"
   ]
  },
  {
   "cell_type": "code",
   "execution_count": 50,
   "id": "22d90928",
   "metadata": {},
   "outputs": [
    {
     "data": {
      "image/png": "[encoded data removed]",
      "text/plain": [
       "<Figure size 432x288 with 1 Axes>"
      ]
     },
     "metadata": {
      "needs_background": "light"
     },
     "output_type": "display_data"
    }
   ],
   "source": [
    "# Visualization income level by family status\n",
    "bar_ct_fs_dep = ct_fs_dep.plot(kind = 'bar', stacked = True, title = 'Income level by family status')"
   ]
  },
  {
   "cell_type": "code",
   "execution_count": 52,
   "id": "808d77ac",
   "metadata": {},
   "outputs": [],
   "source": [
    "# Export visualizations Income level by family status\n",
    "bar_ct_fs_dep = bar_ct_fs_dep.figure.savefig(os.path.join(path, '04 Analysis', 'Visualizations', 'Income_family.png'))"
   ]
  },
  {
   "cell_type": "code",
   "execution_count": 53,
   "id": "f9e18711",
   "metadata": {},
   "outputs": [],
   "source": [
    "# Exporting the dataset\n",
    "ords_prods_sec.to_pickle(os.path.join(path, '02 Data', 'Prepared Data', 'ords_prods_sec_age_income_depend.pkl'))"
   ]
  },
  {
   "cell_type": "markdown",
   "id": "8e7ceabd",
   "metadata": {},
   "source": [
    "### 06. Visualization to show the distribution of profiles"
   ]
  },
  {
   "cell_type": "code",
   "execution_count": 54,
   "id": "1f6c081a",
   "metadata": {},
   "outputs": [
    {
     "data": {
      "image/png": "[encoded data removed]",
      "text/plain": [
       "<Figure size 432x288 with 1 Axes>"
      ]
     },
     "metadata": {
      "needs_background": "light"
     },
     "output_type": "display_data"
    }
   ],
   "source": [
    "# Creating the bar chart\n",
    "bar_profile = ords_prods_sec['profile'].value_counts().sort_index().plot.bar()"
   ]
  },
  {
   "cell_type": "code",
   "execution_count": 55,
   "id": "677bac7e",
   "metadata": {},
   "outputs": [],
   "source": [
    "# Export visualization of the profile\n",
    "bar_profile = bar_profile.figure.savefig(os.path.join(path, '04 Analysis', 'Visualizations', 'Profile_family.png'))"
   ]
  },
  {
   "cell_type": "markdown",
   "id": "22e51a7d",
   "metadata": {},
   "source": [
    "### 07. Aggregate the max, mean, and min variables on a customer-profile level for usage frequency and expenditure."
   ]
  },
  {
   "cell_type": "code",
   "execution_count": 56,
   "id": "29e7e88f",
   "metadata": {},
   "outputs": [
    {
     "name": "stdout",
     "output_type": "stream",
     "text": [
      "<class 'pandas.core.frame.DataFrame'>\n",
      "Int64Index: 32404859 entries, 0 to 32404858\n",
      "Data columns (total 34 columns):\n",
      " #   Column                         Dtype   \n",
      "---  ------                         -----   \n",
      " 0   order_id                       int32   \n",
      " 1   user_id                        int32   \n",
      " 2   order_number                   int8    \n",
      " 3   order_day_of_week              int8    \n",
      " 4   order_time_of_day              int8    \n",
      " 5   days_since_prior_order         float16 \n",
      " 6   product_id                     float64 \n",
      " 7   add_to_cart_order              float64 \n",
      " 8   reordered                      float64 \n",
      " 9   product_name                   object  \n",
      " 10  aisle_id                       int32   \n",
      " 11  department_id                  int32   \n",
      " 12  prices                         float64 \n",
      " 13  _merge                         category\n",
      " 14  price_range_loc                object  \n",
      " 15  busiest day                    object  \n",
      " 16  busiest days                   object  \n",
      " 17  busiest_period_of_day          object  \n",
      " 18  max_order                      int8    \n",
      " 19  loyalty_flag                   object  \n",
      " 20  avg_price_spent                float64 \n",
      " 21  spender_flag                   object  \n",
      " 22  median_days_since_prior_order  float16 \n",
      " 23  order_frequency_flag           object  \n",
      " 24  gender_identity                object  \n",
      " 25  state                          object  \n",
      " 26  age                            int32   \n",
      " 27  date_joined                    object  \n",
      " 28  dependants_#                   int32   \n",
      " 29  marital_status                 object  \n",
      " 30  income                         int32   \n",
      " 31  age_group                      object  \n",
      " 32  income_level                   object  \n",
      " 33  profile                        object  \n",
      "dtypes: category(1), float16(2), float64(5), int32(7), int8(4), object(15)\n",
      "memory usage: 6.2+ GB\n"
     ]
    }
   ],
   "source": [
    "ords_prods_sec.info()"
   ]
  },
  {
   "cell_type": "code",
   "execution_count": 57,
   "id": "607d469a",
   "metadata": {},
   "outputs": [
    {
     "data": {
      "text/html": [
       "<div>\n",
       "<style scoped>\n",
       "    .dataframe tbody tr th:only-of-type {\n",
       "        vertical-align: middle;\n",
       "    }\n",
       "\n",
       "    .dataframe tbody tr th {\n",
       "        vertical-align: top;\n",
       "    }\n",
       "\n",
       "    .dataframe thead tr th {\n",
       "        text-align: left;\n",
       "    }\n",
       "\n",
       "    .dataframe thead tr:last-of-type th {\n",
       "        text-align: right;\n",
       "    }\n",
       "</style>\n",
       "<table border=\"1\" class=\"dataframe\">\n",
       "  <thead>\n",
       "    <tr>\n",
       "      <th></th>\n",
       "      <th colspan=\"3\" halign=\"left\">avg_price_spent</th>\n",
       "    </tr>\n",
       "    <tr>\n",
       "      <th></th>\n",
       "      <th>mean</th>\n",
       "      <th>min</th>\n",
       "      <th>max</th>\n",
       "    </tr>\n",
       "    <tr>\n",
       "      <th>profile</th>\n",
       "      <th></th>\n",
       "      <th></th>\n",
       "      <th></th>\n",
       "    </tr>\n",
       "  </thead>\n",
       "  <tbody>\n",
       "    <tr>\n",
       "      <th>Middle-aged parent</th>\n",
       "      <td>11.550</td>\n",
       "      <td>1.100</td>\n",
       "      <td>11772.100</td>\n",
       "    </tr>\n",
       "    <tr>\n",
       "      <th>Middle-aged single</th>\n",
       "      <td>12.831</td>\n",
       "      <td>1.000</td>\n",
       "      <td>25005.425</td>\n",
       "    </tr>\n",
       "    <tr>\n",
       "      <th>Older single</th>\n",
       "      <td>10.722</td>\n",
       "      <td>1.308</td>\n",
       "      <td>3074.905</td>\n",
       "    </tr>\n",
       "    <tr>\n",
       "      <th>Older with dependant</th>\n",
       "      <td>12.587</td>\n",
       "      <td>1.100</td>\n",
       "      <td>8703.400</td>\n",
       "    </tr>\n",
       "    <tr>\n",
       "      <th>Senior single</th>\n",
       "      <td>12.638</td>\n",
       "      <td>1.200</td>\n",
       "      <td>14042.512</td>\n",
       "    </tr>\n",
       "    <tr>\n",
       "      <th>Senior with dependant</th>\n",
       "      <td>11.397</td>\n",
       "      <td>1.000</td>\n",
       "      <td>7414.485</td>\n",
       "    </tr>\n",
       "    <tr>\n",
       "      <th>Single parent</th>\n",
       "      <td>12.186</td>\n",
       "      <td>1.000</td>\n",
       "      <td>12506.925</td>\n",
       "    </tr>\n",
       "    <tr>\n",
       "      <th>Young single</th>\n",
       "      <td>12.195</td>\n",
       "      <td>1.000</td>\n",
       "      <td>8794.882</td>\n",
       "    </tr>\n",
       "  </tbody>\n",
       "</table>\n",
       "</div>"
      ],
      "text/plain": [
       "                      avg_price_spent                \n",
       "                                 mean   min       max\n",
       "profile                                              \n",
       "Middle-aged parent             11.550 1.100 11772.100\n",
       "Middle-aged single             12.831 1.000 25005.425\n",
       "Older single                   10.722 1.308  3074.905\n",
       "Older with dependant           12.587 1.100  8703.400\n",
       "Senior single                  12.638 1.200 14042.512\n",
       "Senior with dependant          11.397 1.000  7414.485\n",
       "Single parent                  12.186 1.000 12506.925\n",
       "Young single                   12.195 1.000  8794.882"
      ]
     },
     "execution_count": 57,
     "metadata": {},
     "output_type": "execute_result"
    }
   ],
   "source": [
    "# Spending by customer profile\n",
    "ords_prods_sec.groupby('profile').agg({'avg_price_spent': ['mean', 'min', 'max']})"
   ]
  },
  {
   "cell_type": "code",
   "execution_count": 58,
   "id": "9860df99",
   "metadata": {},
   "outputs": [
    {
     "data": {
      "text/html": [
       "<div>\n",
       "<style scoped>\n",
       "    .dataframe tbody tr th:only-of-type {\n",
       "        vertical-align: middle;\n",
       "    }\n",
       "\n",
       "    .dataframe tbody tr th {\n",
       "        vertical-align: top;\n",
       "    }\n",
       "\n",
       "    .dataframe thead tr th {\n",
       "        text-align: left;\n",
       "    }\n",
       "\n",
       "    .dataframe thead tr:last-of-type th {\n",
       "        text-align: right;\n",
       "    }\n",
       "</style>\n",
       "<table border=\"1\" class=\"dataframe\">\n",
       "  <thead>\n",
       "    <tr>\n",
       "      <th></th>\n",
       "      <th colspan=\"3\" halign=\"left\">avg_price_spent</th>\n",
       "    </tr>\n",
       "    <tr>\n",
       "      <th></th>\n",
       "      <th>mean</th>\n",
       "      <th>min</th>\n",
       "      <th>max</th>\n",
       "    </tr>\n",
       "    <tr>\n",
       "      <th>income_level</th>\n",
       "      <th></th>\n",
       "      <th></th>\n",
       "      <th></th>\n",
       "    </tr>\n",
       "  </thead>\n",
       "  <tbody>\n",
       "    <tr>\n",
       "      <th>Affluent</th>\n",
       "      <td>13.401</td>\n",
       "      <td>7.000</td>\n",
       "      <td>15006.940</td>\n",
       "    </tr>\n",
       "    <tr>\n",
       "      <th>High</th>\n",
       "      <td>264.710</td>\n",
       "      <td>24.103</td>\n",
       "      <td>25005.425</td>\n",
       "    </tr>\n",
       "    <tr>\n",
       "      <th>Low</th>\n",
       "      <td>6.495</td>\n",
       "      <td>1.000</td>\n",
       "      <td>7.000</td>\n",
       "    </tr>\n",
       "    <tr>\n",
       "      <th>Middle</th>\n",
       "      <td>8.708</td>\n",
       "      <td>1.000</td>\n",
       "      <td>12506.925</td>\n",
       "    </tr>\n",
       "  </tbody>\n",
       "</table>\n",
       "</div>"
      ],
      "text/plain": [
       "             avg_price_spent                 \n",
       "                        mean    min       max\n",
       "income_level                                 \n",
       "Affluent              13.401  7.000 15006.940\n",
       "High                 264.710 24.103 25005.425\n",
       "Low                    6.495  1.000     7.000\n",
       "Middle                 8.708  1.000 12506.925"
      ]
     },
     "execution_count": 58,
     "metadata": {},
     "output_type": "execute_result"
    }
   ],
   "source": [
    "# Spending by income level\n",
    "ords_prods_sec.groupby('income_level').agg({'avg_price_spent': ['mean', 'min', 'max']})"
   ]
  },
  {
   "cell_type": "code",
   "execution_count": 59,
   "id": "5c4e96e5",
   "metadata": {},
   "outputs": [
    {
     "data": {
      "text/html": [
       "<div>\n",
       "<style scoped>\n",
       "    .dataframe tbody tr th:only-of-type {\n",
       "        vertical-align: middle;\n",
       "    }\n",
       "\n",
       "    .dataframe tbody tr th {\n",
       "        vertical-align: top;\n",
       "    }\n",
       "\n",
       "    .dataframe thead tr th {\n",
       "        text-align: left;\n",
       "    }\n",
       "\n",
       "    .dataframe thead tr:last-of-type th {\n",
       "        text-align: right;\n",
       "    }\n",
       "</style>\n",
       "<table border=\"1\" class=\"dataframe\">\n",
       "  <thead>\n",
       "    <tr>\n",
       "      <th></th>\n",
       "      <th colspan=\"3\" halign=\"left\">order_number</th>\n",
       "    </tr>\n",
       "    <tr>\n",
       "      <th></th>\n",
       "      <th>mean</th>\n",
       "      <th>min</th>\n",
       "      <th>max</th>\n",
       "    </tr>\n",
       "    <tr>\n",
       "      <th>profile</th>\n",
       "      <th></th>\n",
       "      <th></th>\n",
       "      <th></th>\n",
       "    </tr>\n",
       "  </thead>\n",
       "  <tbody>\n",
       "    <tr>\n",
       "      <th>Middle-aged parent</th>\n",
       "      <td>17.156</td>\n",
       "      <td>1</td>\n",
       "      <td>99</td>\n",
       "    </tr>\n",
       "    <tr>\n",
       "      <th>Middle-aged single</th>\n",
       "      <td>17.176</td>\n",
       "      <td>1</td>\n",
       "      <td>99</td>\n",
       "    </tr>\n",
       "    <tr>\n",
       "      <th>Older single</th>\n",
       "      <td>17.700</td>\n",
       "      <td>1</td>\n",
       "      <td>99</td>\n",
       "    </tr>\n",
       "    <tr>\n",
       "      <th>Older with dependant</th>\n",
       "      <td>16.992</td>\n",
       "      <td>1</td>\n",
       "      <td>99</td>\n",
       "    </tr>\n",
       "    <tr>\n",
       "      <th>Senior single</th>\n",
       "      <td>17.155</td>\n",
       "      <td>1</td>\n",
       "      <td>99</td>\n",
       "    </tr>\n",
       "    <tr>\n",
       "      <th>Senior with dependant</th>\n",
       "      <td>17.108</td>\n",
       "      <td>1</td>\n",
       "      <td>99</td>\n",
       "    </tr>\n",
       "    <tr>\n",
       "      <th>Single parent</th>\n",
       "      <td>17.127</td>\n",
       "      <td>1</td>\n",
       "      <td>99</td>\n",
       "    </tr>\n",
       "    <tr>\n",
       "      <th>Young single</th>\n",
       "      <td>17.060</td>\n",
       "      <td>1</td>\n",
       "      <td>99</td>\n",
       "    </tr>\n",
       "  </tbody>\n",
       "</table>\n",
       "</div>"
      ],
      "text/plain": [
       "                      order_number        \n",
       "                              mean min max\n",
       "profile                                   \n",
       "Middle-aged parent          17.156   1  99\n",
       "Middle-aged single          17.176   1  99\n",
       "Older single                17.700   1  99\n",
       "Older with dependant        16.992   1  99\n",
       "Senior single               17.155   1  99\n",
       "Senior with dependant       17.108   1  99\n",
       "Single parent               17.127   1  99\n",
       "Young single                17.060   1  99"
      ]
     },
     "execution_count": 59,
     "metadata": {},
     "output_type": "execute_result"
    }
   ],
   "source": [
    "# Order number by customer profile\n",
    "ords_prods_sec.groupby('profile').agg({'order_number': ['mean', 'min', 'max']})"
   ]
  },
  {
   "cell_type": "code",
   "execution_count": 60,
   "id": "cfaf0ad5",
   "metadata": {},
   "outputs": [
    {
     "data": {
      "text/html": [
       "<div>\n",
       "<style scoped>\n",
       "    .dataframe tbody tr th:only-of-type {\n",
       "        vertical-align: middle;\n",
       "    }\n",
       "\n",
       "    .dataframe tbody tr th {\n",
       "        vertical-align: top;\n",
       "    }\n",
       "\n",
       "    .dataframe thead tr th {\n",
       "        text-align: left;\n",
       "    }\n",
       "\n",
       "    .dataframe thead tr:last-of-type th {\n",
       "        text-align: right;\n",
       "    }\n",
       "</style>\n",
       "<table border=\"1\" class=\"dataframe\">\n",
       "  <thead>\n",
       "    <tr>\n",
       "      <th></th>\n",
       "      <th colspan=\"3\" halign=\"left\">order_number</th>\n",
       "    </tr>\n",
       "    <tr>\n",
       "      <th></th>\n",
       "      <th>mean</th>\n",
       "      <th>min</th>\n",
       "      <th>max</th>\n",
       "    </tr>\n",
       "    <tr>\n",
       "      <th>income_level</th>\n",
       "      <th></th>\n",
       "      <th></th>\n",
       "      <th></th>\n",
       "    </tr>\n",
       "  </thead>\n",
       "  <tbody>\n",
       "    <tr>\n",
       "      <th>Affluent</th>\n",
       "      <td>17.238</td>\n",
       "      <td>1</td>\n",
       "      <td>99</td>\n",
       "    </tr>\n",
       "    <tr>\n",
       "      <th>High</th>\n",
       "      <td>19.731</td>\n",
       "      <td>1</td>\n",
       "      <td>99</td>\n",
       "    </tr>\n",
       "    <tr>\n",
       "      <th>Low</th>\n",
       "      <td>15.705</td>\n",
       "      <td>1</td>\n",
       "      <td>99</td>\n",
       "    </tr>\n",
       "    <tr>\n",
       "      <th>Middle</th>\n",
       "      <td>17.186</td>\n",
       "      <td>1</td>\n",
       "      <td>99</td>\n",
       "    </tr>\n",
       "  </tbody>\n",
       "</table>\n",
       "</div>"
      ],
      "text/plain": [
       "             order_number        \n",
       "                     mean min max\n",
       "income_level                     \n",
       "Affluent           17.238   1  99\n",
       "High               19.731   1  99\n",
       "Low                15.705   1  99\n",
       "Middle             17.186   1  99"
      ]
     },
     "execution_count": 60,
     "metadata": {},
     "output_type": "execute_result"
    }
   ],
   "source": [
    "# Order number by income level\n",
    "ords_prods_sec.groupby('income_level').agg({'order_number': ['mean', 'min', 'max']})"
   ]
  },
  {
   "cell_type": "markdown",
   "id": "64d927dd",
   "metadata": {},
   "source": [
    "### 08.1 Customer profiles by regions"
   ]
  },
  {
   "cell_type": "code",
   "execution_count": 61,
   "id": "1698933c",
   "metadata": {},
   "outputs": [],
   "source": [
    "# Conditions for 'Region'\n",
    "result_region = []\n",
    "\n",
    "for value in ords_prods_sec['state']:\n",
    " \n",
    "  if (value in ['Maine', 'New Hampshire', 'Vermont','Massachusetts', 'Rhode Island', 'Connecticut', 'New York', 'Pennsylvania', 'New Jersey']):\n",
    "    result_region.append ('Northeast')\n",
    "  elif (value in ['Wisconsin', 'Michigan', 'Illinois', 'Indiana','Ohio', 'North Dakota', 'South Dakota', 'Nebraska', 'Kansas', 'Minnesota', 'Iowa', 'Missouri']):\n",
    "    result_region.append ('Midwest')\n",
    "  elif (value in ['Delaware', 'Maryland', 'District of Columbia', 'Virginia', 'West Virginia', 'North Carolina', 'South Carolina', 'Georgia', 'Florida', 'Kentucky', 'Tennessee', 'Mississippi', 'Alabama']):\n",
    "    result_region.append ('South') \n",
    "  else: result_region.append ('West')"
   ]
  },
  {
   "cell_type": "code",
   "execution_count": 62,
   "id": "d2db997a",
   "metadata": {},
   "outputs": [],
   "source": [
    "# Creating a new column\n",
    "ords_prods_sec['region']=result_region"
   ]
  },
  {
   "cell_type": "code",
   "execution_count": 63,
   "id": "40c145a5",
   "metadata": {},
   "outputs": [
    {
     "data": {
      "text/plain": [
       "West         10858672\n",
       "South         8226126\n",
       "Midwest       7597325\n",
       "Northeast     5722736\n",
       "Name: region, dtype: int64"
      ]
     },
     "execution_count": 63,
     "metadata": {},
     "output_type": "execute_result"
    }
   ],
   "source": [
    "# Checking the output\n",
    "ords_prods_sec['region'].value_counts(dropna = False)"
   ]
  },
  {
   "cell_type": "code",
   "execution_count": 64,
   "id": "313d91f1",
   "metadata": {},
   "outputs": [],
   "source": [
    "# Customer profile by regions\n",
    "ct_region_profile= pd.crosstab(ords_prods_sec['region'], ords_prods_sec['profile'], dropna = False )"
   ]
  },
  {
   "cell_type": "code",
   "execution_count": 65,
   "id": "556864fa",
   "metadata": {},
   "outputs": [
    {
     "data": {
      "text/html": [
       "<div>\n",
       "<style scoped>\n",
       "    .dataframe tbody tr th:only-of-type {\n",
       "        vertical-align: middle;\n",
       "    }\n",
       "\n",
       "    .dataframe tbody tr th {\n",
       "        vertical-align: top;\n",
       "    }\n",
       "\n",
       "    .dataframe thead th {\n",
       "        text-align: right;\n",
       "    }\n",
       "</style>\n",
       "<table border=\"1\" class=\"dataframe\">\n",
       "  <thead>\n",
       "    <tr style=\"text-align: right;\">\n",
       "      <th>profile</th>\n",
       "      <th>Middle-aged parent</th>\n",
       "      <th>Middle-aged single</th>\n",
       "      <th>Older single</th>\n",
       "      <th>Older with dependant</th>\n",
       "      <th>Senior single</th>\n",
       "      <th>Senior with dependant</th>\n",
       "      <th>Single parent</th>\n",
       "      <th>Young single</th>\n",
       "    </tr>\n",
       "    <tr>\n",
       "      <th>region</th>\n",
       "      <th></th>\n",
       "      <th></th>\n",
       "      <th></th>\n",
       "      <th></th>\n",
       "      <th></th>\n",
       "      <th></th>\n",
       "      <th></th>\n",
       "      <th></th>\n",
       "    </tr>\n",
       "  </thead>\n",
       "  <tbody>\n",
       "    <tr>\n",
       "      <th>Midwest</th>\n",
       "      <td>1814043</td>\n",
       "      <td>619525</td>\n",
       "      <td>444203</td>\n",
       "      <td>1316483</td>\n",
       "      <td>351593</td>\n",
       "      <td>1045808</td>\n",
       "      <td>1515791</td>\n",
       "      <td>489879</td>\n",
       "    </tr>\n",
       "    <tr>\n",
       "      <th>Northeast</th>\n",
       "      <td>1344541</td>\n",
       "      <td>415237</td>\n",
       "      <td>334167</td>\n",
       "      <td>1012119</td>\n",
       "      <td>275601</td>\n",
       "      <td>802268</td>\n",
       "      <td>1145507</td>\n",
       "      <td>393296</td>\n",
       "    </tr>\n",
       "    <tr>\n",
       "      <th>South</th>\n",
       "      <td>1920210</td>\n",
       "      <td>633277</td>\n",
       "      <td>490541</td>\n",
       "      <td>1431464</td>\n",
       "      <td>373882</td>\n",
       "      <td>1165612</td>\n",
       "      <td>1659943</td>\n",
       "      <td>551197</td>\n",
       "    </tr>\n",
       "    <tr>\n",
       "      <th>West</th>\n",
       "      <td>2560697</td>\n",
       "      <td>858750</td>\n",
       "      <td>638814</td>\n",
       "      <td>1846199</td>\n",
       "      <td>511007</td>\n",
       "      <td>1552873</td>\n",
       "      <td>2173798</td>\n",
       "      <td>716534</td>\n",
       "    </tr>\n",
       "  </tbody>\n",
       "</table>\n",
       "</div>"
      ],
      "text/plain": [
       "profile    Middle-aged parent  Middle-aged single  Older single  \\\n",
       "region                                                            \n",
       "Midwest               1814043              619525        444203   \n",
       "Northeast             1344541              415237        334167   \n",
       "South                 1920210              633277        490541   \n",
       "West                  2560697              858750        638814   \n",
       "\n",
       "profile    Older with dependant  Senior single  Senior with dependant  \\\n",
       "region                                                                  \n",
       "Midwest                 1316483         351593                1045808   \n",
       "Northeast               1012119         275601                 802268   \n",
       "South                   1431464         373882                1165612   \n",
       "West                    1846199         511007                1552873   \n",
       "\n",
       "profile    Single parent  Young single  \n",
       "region                                  \n",
       "Midwest          1515791        489879  \n",
       "Northeast        1145507        393296  \n",
       "South            1659943        551197  \n",
       "West             2173798        716534  "
      ]
     },
     "execution_count": 65,
     "metadata": {},
     "output_type": "execute_result"
    }
   ],
   "source": [
    "#Checking the output\n",
    "ct_region_profile.head()"
   ]
  },
  {
   "cell_type": "code",
   "execution_count": 73,
   "id": "46817952",
   "metadata": {},
   "outputs": [
    {
     "data": {
      "image/png": "[encoded data removed]",
      "text/plain": [
       "<Figure size 432x288 with 1 Axes>"
      ]
     },
     "metadata": {
      "needs_background": "light"
     },
     "output_type": "display_data"
    }
   ],
   "source": [
    "# Visualization customer profile by region\n",
    "bar_region_profile=ct_region_profile.plot(kind = 'barh', stacked = True, title = 'Customer profile by region')"
   ]
  },
  {
   "cell_type": "code",
   "execution_count": 74,
   "id": "78fada33",
   "metadata": {},
   "outputs": [],
   "source": [
    "# Export visualization\n",
    "bar_region_profile = bar_region_profile.figure.savefig(os.path.join(path, '04 Analysis', 'Visualizations', 'Profile_region.png'))\n"
   ]
  },
  {
   "cell_type": "markdown",
   "id": "f861b4a3",
   "metadata": {},
   "source": [
    "### 08.2 Customer profiles by departments. "
   ]
  },
  {
   "cell_type": "code",
   "execution_count": 75,
   "id": "d6d527cf",
   "metadata": {},
   "outputs": [],
   "source": [
    "# Customer profile by departments\n",
    "ct_dep_profile = pd.crosstab(ords_prods_sec['department_id'], ords_prods_sec['profile'], dropna = False)"
   ]
  },
  {
   "cell_type": "code",
   "execution_count": 76,
   "id": "2b81b12c",
   "metadata": {},
   "outputs": [
    {
     "data": {
      "text/html": [
       "<div>\n",
       "<style scoped>\n",
       "    .dataframe tbody tr th:only-of-type {\n",
       "        vertical-align: middle;\n",
       "    }\n",
       "\n",
       "    .dataframe tbody tr th {\n",
       "        vertical-align: top;\n",
       "    }\n",
       "\n",
       "    .dataframe thead th {\n",
       "        text-align: right;\n",
       "    }\n",
       "</style>\n",
       "<table border=\"1\" class=\"dataframe\">\n",
       "  <thead>\n",
       "    <tr style=\"text-align: right;\">\n",
       "      <th>profile</th>\n",
       "      <th>Middle-aged parent</th>\n",
       "      <th>Middle-aged single</th>\n",
       "      <th>Older single</th>\n",
       "      <th>Older with dependant</th>\n",
       "      <th>Senior single</th>\n",
       "      <th>Senior with dependant</th>\n",
       "      <th>Single parent</th>\n",
       "      <th>Young single</th>\n",
       "    </tr>\n",
       "    <tr>\n",
       "      <th>department_id</th>\n",
       "      <th></th>\n",
       "      <th></th>\n",
       "      <th></th>\n",
       "      <th></th>\n",
       "      <th></th>\n",
       "      <th></th>\n",
       "      <th></th>\n",
       "      <th></th>\n",
       "    </tr>\n",
       "  </thead>\n",
       "  <tbody>\n",
       "    <tr>\n",
       "      <th>1</th>\n",
       "      <td>526088</td>\n",
       "      <td>173170</td>\n",
       "      <td>132108</td>\n",
       "      <td>388723</td>\n",
       "      <td>106153</td>\n",
       "      <td>314210</td>\n",
       "      <td>448562</td>\n",
       "      <td>145729</td>\n",
       "    </tr>\n",
       "    <tr>\n",
       "      <th>2</th>\n",
       "      <td>8483</td>\n",
       "      <td>2945</td>\n",
       "      <td>2099</td>\n",
       "      <td>6318</td>\n",
       "      <td>1644</td>\n",
       "      <td>4995</td>\n",
       "      <td>7320</td>\n",
       "      <td>2487</td>\n",
       "    </tr>\n",
       "    <tr>\n",
       "      <th>3</th>\n",
       "      <td>275749</td>\n",
       "      <td>91720</td>\n",
       "      <td>68399</td>\n",
       "      <td>202179</td>\n",
       "      <td>55300</td>\n",
       "      <td>165590</td>\n",
       "      <td>234505</td>\n",
       "      <td>78986</td>\n",
       "    </tr>\n",
       "    <tr>\n",
       "      <th>4</th>\n",
       "      <td>2235316</td>\n",
       "      <td>742284</td>\n",
       "      <td>561908</td>\n",
       "      <td>1642677</td>\n",
       "      <td>441849</td>\n",
       "      <td>1331404</td>\n",
       "      <td>1894449</td>\n",
       "      <td>629404</td>\n",
       "    </tr>\n",
       "    <tr>\n",
       "      <th>5</th>\n",
       "      <td>34755</td>\n",
       "      <td>13117</td>\n",
       "      <td>8357</td>\n",
       "      <td>26926</td>\n",
       "      <td>7439</td>\n",
       "      <td>21409</td>\n",
       "      <td>31488</td>\n",
       "      <td>10205</td>\n",
       "    </tr>\n",
       "  </tbody>\n",
       "</table>\n",
       "</div>"
      ],
      "text/plain": [
       "profile        Middle-aged parent  Middle-aged single  Older single  \\\n",
       "department_id                                                         \n",
       "1                          526088              173170        132108   \n",
       "2                            8483                2945          2099   \n",
       "3                          275749               91720         68399   \n",
       "4                         2235316              742284        561908   \n",
       "5                           34755               13117          8357   \n",
       "\n",
       "profile        Older with dependant  Senior single  Senior with dependant  \\\n",
       "department_id                                                               \n",
       "1                            388723         106153                 314210   \n",
       "2                              6318           1644                   4995   \n",
       "3                            202179          55300                 165590   \n",
       "4                           1642677         441849                1331404   \n",
       "5                             26926           7439                  21409   \n",
       "\n",
       "profile        Single parent  Young single  \n",
       "department_id                               \n",
       "1                     448562        145729  \n",
       "2                       7320          2487  \n",
       "3                     234505         78986  \n",
       "4                    1894449        629404  \n",
       "5                      31488         10205  "
      ]
     },
     "execution_count": 76,
     "metadata": {},
     "output_type": "execute_result"
    }
   ],
   "source": [
    "#Checking the output\n",
    "ct_dep_profile.head()"
   ]
  },
  {
   "cell_type": "code",
   "execution_count": 77,
   "id": "6d40506c",
   "metadata": {},
   "outputs": [
    {
     "data": {
      "image/png": "[encoded data removed]",
      "text/plain": [
       "<Figure size 432x288 with 1 Axes>"
      ]
     },
     "metadata": {
      "needs_background": "light"
     },
     "output_type": "display_data"
    }
   ],
   "source": [
    "# Visualization customer profile by departments\n",
    "bar_dep_profile=ct_dep_profile.plot(kind = 'barh', stacked = True, title = 'Customer profile by department')"
   ]
  },
  {
   "cell_type": "code",
   "execution_count": 78,
   "id": "e2ef33e1",
   "metadata": {},
   "outputs": [],
   "source": [
    "# Export visualization\n",
    "bar_dep_profile = bar_dep_profile.figure.savefig(os.path.join(path, '04 Analysis', 'Visualizations', 'Profile_dep.png'))\n"
   ]
  },
  {
   "cell_type": "code",
   "execution_count": null,
   "id": "6d1080b7",
   "metadata": {},
   "outputs": [],
   "source": []
  }
 ],
 "metadata": {
  "kernelspec": {
   "display_name": "Python 3 (ipykernel)",
   "language": "python",
   "name": "python3"
  },
  "language_info": {
   "codemirror_mode": {
    "name": "ipython",
    "version": 3
   },
   "file_extension": ".py",
   "mimetype": "text/x-python",
   "name": "python",
   "nbconvert_exporter": "python",
   "pygments_lexer": "ipython3",
   "version": "3.9.12"
  }
 },
 "nbformat": 4,
 "nbformat_minor": 5
}
