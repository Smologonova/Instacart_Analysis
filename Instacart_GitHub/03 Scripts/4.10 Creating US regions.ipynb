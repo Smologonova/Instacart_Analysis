{
 "cells": [
  {
   "cell_type": "markdown",
   "id": "dae158dd",
   "metadata": {},
   "source": [
    "## Table of contents"
   ]
  },
  {
   "cell_type": "markdown",
   "id": "775f6525",
   "metadata": {},
   "source": [
    "### 01. Import Data and Libraries"
   ]
  },
  {
   "cell_type": "markdown",
   "id": "27886a32",
   "metadata": {},
   "source": [
    "### 02. Creating the regions"
   ]
  },
  {
   "cell_type": "code",
   "execution_count": null,
   "id": "257b28fa",
   "metadata": {},
   "outputs": [],
   "source": []
  },
  {
   "cell_type": "markdown",
   "id": "19379802",
   "metadata": {},
   "source": [
    "### 01. Import Data and Libraries"
   ]
  },
  {
   "cell_type": "code",
   "execution_count": 1,
   "id": "2fb5a9b2",
   "metadata": {},
   "outputs": [],
   "source": [
    "# Import libraries\n",
    "import pandas as pd\n",
    "import numpy as np\n",
    "import os\n",
    "import matplotlib.pyplot as plt\n",
    "import seaborn as sns\n",
    "import scipy"
   ]
  },
  {
   "cell_type": "code",
   "execution_count": 2,
   "id": "4a30fbc9",
   "metadata": {},
   "outputs": [],
   "source": [
    "# Define path\n",
    "path = r'C:\\Users\\iryna\\Documents\\Data analytics\\Career foundry\\4. Python\\06-2022 Instacart Basket Analysis'"
   ]
  },
  {
   "cell_type": "code",
   "execution_count": 3,
   "id": "12a5e25c",
   "metadata": {},
   "outputs": [],
   "source": [
    "# Import Data\n",
    "ords_prods = pd.read_pickle(os.path.join(path, '02 Data', 'Prepared Data', 'ords_prods_sec_age_income_depend.pkl'))"
   ]
  },
  {
   "cell_type": "code",
   "execution_count": 4,
   "id": "1b2d1153",
   "metadata": {},
   "outputs": [
    {
     "name": "stdout",
     "output_type": "stream",
     "text": [
      "<class 'pandas.core.frame.DataFrame'>\n",
      "Int64Index: 32404859 entries, 0 to 32404858\n",
      "Data columns (total 34 columns):\n",
      " #   Column                         Dtype   \n",
      "---  ------                         -----   \n",
      " 0   order_id                       int32   \n",
      " 1   user_id                        int32   \n",
      " 2   order_number                   int8    \n",
      " 3   order_day_of_week              int8    \n",
      " 4   order_time_of_day              int8    \n",
      " 5   days_since_prior_order         float16 \n",
      " 6   product_id                     float64 \n",
      " 7   add_to_cart_order              float64 \n",
      " 8   reordered                      float64 \n",
      " 9   product_name                   object  \n",
      " 10  aisle_id                       int32   \n",
      " 11  department_id                  int32   \n",
      " 12  prices                         float64 \n",
      " 13  _merge                         category\n",
      " 14  price_range_loc                object  \n",
      " 15  busiest day                    object  \n",
      " 16  busiest days                   object  \n",
      " 17  busiest_period_of_day          object  \n",
      " 18  max_order                      int8    \n",
      " 19  loyalty_flag                   object  \n",
      " 20  avg_price_spent                float64 \n",
      " 21  spender_flag                   object  \n",
      " 22  median_days_since_prior_order  float16 \n",
      " 23  order_frequency_flag           object  \n",
      " 24  gender_identity                object  \n",
      " 25  state                          object  \n",
      " 26  age                            int32   \n",
      " 27  date_joined                    object  \n",
      " 28  dependants_#                   int32   \n",
      " 29  marital_status                 object  \n",
      " 30  income                         int32   \n",
      " 31  age_group                      object  \n",
      " 32  income_level                   object  \n",
      " 33  profile                        object  \n",
      "dtypes: category(1), float16(2), float64(5), int32(7), int8(4), object(15)\n",
      "memory usage: 6.2+ GB\n"
     ]
    }
   ],
   "source": [
    "ords_prods.info()"
   ]
  },
  {
   "cell_type": "code",
   "execution_count": 5,
   "id": "bdc0aa0c",
   "metadata": {},
   "outputs": [],
   "source": [
    "# Changing data type into int32 to reduce the file size\n",
    "ords_prods['product_id'] = ords_prods['product_id'].astype('float16')\n",
    "ords_prods['add_to_cart_order'] = ords_prods['add_to_cart_order'].astype('float16')\n",
    "ords_prods['reordered'] = ords_prods['reordered'].astype('float16')\n",
    "ords_prods['prices'] = ords_prods['prices'].astype('float16')\n",
    "ords_prods['avg_price_spent'] = ords_prods['avg_price_spent'].astype('float16')"
   ]
  },
  {
   "cell_type": "code",
   "execution_count": 6,
   "id": "adc62719",
   "metadata": {},
   "outputs": [
    {
     "name": "stdout",
     "output_type": "stream",
     "text": [
      "<class 'pandas.core.frame.DataFrame'>\n",
      "Int64Index: 32404859 entries, 0 to 32404858\n",
      "Data columns (total 34 columns):\n",
      " #   Column                         Dtype   \n",
      "---  ------                         -----   \n",
      " 0   order_id                       int32   \n",
      " 1   user_id                        int32   \n",
      " 2   order_number                   int8    \n",
      " 3   order_day_of_week              int8    \n",
      " 4   order_time_of_day              int8    \n",
      " 5   days_since_prior_order         float16 \n",
      " 6   product_id                     float16 \n",
      " 7   add_to_cart_order              float16 \n",
      " 8   reordered                      float16 \n",
      " 9   product_name                   object  \n",
      " 10  aisle_id                       int32   \n",
      " 11  department_id                  int32   \n",
      " 12  prices                         float16 \n",
      " 13  _merge                         category\n",
      " 14  price_range_loc                object  \n",
      " 15  busiest day                    object  \n",
      " 16  busiest days                   object  \n",
      " 17  busiest_period_of_day          object  \n",
      " 18  max_order                      int8    \n",
      " 19  loyalty_flag                   object  \n",
      " 20  avg_price_spent                float16 \n",
      " 21  spender_flag                   object  \n",
      " 22  median_days_since_prior_order  float16 \n",
      " 23  order_frequency_flag           object  \n",
      " 24  gender_identity                object  \n",
      " 25  state                          object  \n",
      " 26  age                            int32   \n",
      " 27  date_joined                    object  \n",
      " 28  dependants_#                   int32   \n",
      " 29  marital_status                 object  \n",
      " 30  income                         int32   \n",
      " 31  age_group                      object  \n",
      " 32  income_level                   object  \n",
      " 33  profile                        object  \n",
      "dtypes: category(1), float16(7), int32(7), int8(4), object(15)\n",
      "memory usage: 5.3+ GB\n"
     ]
    }
   ],
   "source": [
    "ords_prods.info()"
   ]
  },
  {
   "cell_type": "markdown",
   "id": "4cf13717",
   "metadata": {},
   "source": [
    "### 02. Creating the regions"
   ]
  },
  {
   "cell_type": "code",
   "execution_count": 7,
   "id": "0c8888d1",
   "metadata": {},
   "outputs": [],
   "source": [
    "# Conditions for 'Region'\n",
    "result_region = []\n",
    "\n",
    "for value in ords_prods['state']:\n",
    " \n",
    "  if (value in ['Maine', 'New Hampshire', 'Vermont','Massachusetts', 'Rhode Island', 'Connecticut', 'New York', 'Pennsylvania', 'New Jersey']):\n",
    "    result_region.append ('Northeast')\n",
    "  elif (value in ['Wisconsin', 'Michigan', 'Illinois', 'Indiana','Ohio', 'North Dakota', 'South Dakota', 'Nebraska', 'Kansas', 'Minnesota', 'Iowa', 'Missouri']):\n",
    "    result_region.append ('Midwest')\n",
    "  elif (value in ['Delaware', 'Maryland', 'District of Columbia', 'Virginia', 'West Virginia', 'North Carolina', 'South Carolina', 'Georgia', 'Florida', 'Kentucky', 'Tennessee', 'Mississippi', 'Alabama']):\n",
    "    result_region.append ('South') \n",
    "  else: result_region.append ('West')"
   ]
  },
  {
   "cell_type": "code",
   "execution_count": 8,
   "id": "558254da",
   "metadata": {},
   "outputs": [],
   "source": [
    "# Creating a new column\n",
    "ords_prods['region']=result_region"
   ]
  },
  {
   "cell_type": "code",
   "execution_count": 9,
   "id": "75734e71",
   "metadata": {},
   "outputs": [
    {
     "data": {
      "text/plain": [
       "West         10858672\n",
       "South         8226126\n",
       "Midwest       7597325\n",
       "Northeast     5722736\n",
       "Name: region, dtype: int64"
      ]
     },
     "execution_count": 9,
     "metadata": {},
     "output_type": "execute_result"
    }
   ],
   "source": [
    "# Checking the output\n",
    "ords_prods['region'].value_counts(dropna = False)"
   ]
  },
  {
   "cell_type": "code",
   "execution_count": 10,
   "id": "bc43c81d",
   "metadata": {},
   "outputs": [
    {
     "data": {
      "text/plain": [
       "(32404859, 35)"
      ]
     },
     "execution_count": 10,
     "metadata": {},
     "output_type": "execute_result"
    }
   ],
   "source": [
    "ords_prods.shape"
   ]
  },
  {
   "cell_type": "code",
   "execution_count": 11,
   "id": "3b239d17",
   "metadata": {},
   "outputs": [
    {
     "name": "stdout",
     "output_type": "stream",
     "text": [
      "<class 'pandas.core.frame.DataFrame'>\n",
      "Int64Index: 32404859 entries, 0 to 32404858\n",
      "Data columns (total 35 columns):\n",
      " #   Column                         Dtype   \n",
      "---  ------                         -----   \n",
      " 0   order_id                       int32   \n",
      " 1   user_id                        int32   \n",
      " 2   order_number                   int8    \n",
      " 3   order_day_of_week              int8    \n",
      " 4   order_time_of_day              int8    \n",
      " 5   days_since_prior_order         float16 \n",
      " 6   product_id                     float16 \n",
      " 7   add_to_cart_order              float16 \n",
      " 8   reordered                      float16 \n",
      " 9   product_name                   object  \n",
      " 10  aisle_id                       int32   \n",
      " 11  department_id                  int32   \n",
      " 12  prices                         float16 \n",
      " 13  _merge                         category\n",
      " 14  price_range_loc                object  \n",
      " 15  busiest day                    object  \n",
      " 16  busiest days                   object  \n",
      " 17  busiest_period_of_day          object  \n",
      " 18  max_order                      int8    \n",
      " 19  loyalty_flag                   object  \n",
      " 20  avg_price_spent                float16 \n",
      " 21  spender_flag                   object  \n",
      " 22  median_days_since_prior_order  float16 \n",
      " 23  order_frequency_flag           object  \n",
      " 24  gender_identity                object  \n",
      " 25  state                          object  \n",
      " 26  age                            int32   \n",
      " 27  date_joined                    object  \n",
      " 28  dependants_#                   int32   \n",
      " 29  marital_status                 object  \n",
      " 30  income                         int32   \n",
      " 31  age_group                      object  \n",
      " 32  income_level                   object  \n",
      " 33  profile                        object  \n",
      " 34  region                         object  \n",
      "dtypes: category(1), float16(7), int32(7), int8(4), object(16)\n",
      "memory usage: 5.5+ GB\n"
     ]
    }
   ],
   "source": [
    "ords_prods.info()"
   ]
  },
  {
   "cell_type": "code",
   "execution_count": 12,
   "id": "17fc77c8",
   "metadata": {},
   "outputs": [],
   "source": [
    "# Exporting the dataset\n",
    "ords_prods.to_pickle(os.path.join(path, '02 Data', 'Prepared Data', 'ords_prods_regions_final.pkl'))"
   ]
  },
  {
   "cell_type": "code",
   "execution_count": null,
   "id": "5c7cbe28",
   "metadata": {},
   "outputs": [],
   "source": []
  }
 ],
 "metadata": {
  "kernelspec": {
   "display_name": "Python 3 (ipykernel)",
   "language": "python",
   "name": "python3"
  },
  "language_info": {
   "codemirror_mode": {
    "name": "ipython",
    "version": 3
   },
   "file_extension": ".py",
   "mimetype": "text/x-python",
   "name": "python",
   "nbconvert_exporter": "python",
   "pygments_lexer": "ipython3",
   "version": "3.9.12"
  }
 },
 "nbformat": 4,
 "nbformat_minor": 5
}
