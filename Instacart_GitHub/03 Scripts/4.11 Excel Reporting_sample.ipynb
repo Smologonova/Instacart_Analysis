{
 "cells": [
  {
   "cell_type": "markdown",
   "id": "9fa17f8f",
   "metadata": {},
   "source": [
    "## Table of contents"
   ]
  },
  {
   "cell_type": "markdown",
   "id": "c7c59111",
   "metadata": {},
   "source": [
    "### 01. Import Data and Libraries"
   ]
  },
  {
   "cell_type": "markdown",
   "id": "cbe0c2b8",
   "metadata": {},
   "source": [
    "### 02. Creating sample (20%)"
   ]
  },
  {
   "cell_type": "markdown",
   "id": "210bcf5a",
   "metadata": {},
   "source": [
    "### 03.Creating charts with a spending flag"
   ]
  },
  {
   "cell_type": "markdown",
   "id": "9f9db7b9",
   "metadata": {},
   "source": [
    "### 04. Creating a product range and visualizations"
   ]
  },
  {
   "cell_type": "markdown",
   "id": "765a875d",
   "metadata": {},
   "source": [
    "### 05. Creating frequent customer flag and visualizations"
   ]
  },
  {
   "cell_type": "markdown",
   "id": "3c0299eb",
   "metadata": {},
   "source": [
    "### 06. Creating stack bar charts"
   ]
  },
  {
   "cell_type": "markdown",
   "id": "4e0f88b3",
   "metadata": {},
   "source": [
    "### 07. Income level distribution"
   ]
  },
  {
   "cell_type": "code",
   "execution_count": null,
   "id": "3fd3f6c8",
   "metadata": {},
   "outputs": [],
   "source": []
  },
  {
   "cell_type": "markdown",
   "id": "05da0598",
   "metadata": {},
   "source": [
    "### 01. Import Data and Libraries"
   ]
  },
  {
   "cell_type": "code",
   "execution_count": 1,
   "id": "157d8831",
   "metadata": {},
   "outputs": [],
   "source": [
    "# Import libraries\n",
    "import pandas as pd\n",
    "import numpy as np\n",
    "import os\n",
    "import matplotlib.pyplot as plt\n",
    "import seaborn as sns\n",
    "import scipy"
   ]
  },
  {
   "cell_type": "code",
   "execution_count": 2,
   "id": "f797766d",
   "metadata": {},
   "outputs": [],
   "source": [
    "# Define path\n",
    "path = r'C:\\Users\\iryna\\Documents\\Data analytics\\Career foundry\\4. Python\\06-2022 Instacart Basket Analysis'"
   ]
  },
  {
   "cell_type": "code",
   "execution_count": 3,
   "id": "f643d5dc",
   "metadata": {},
   "outputs": [],
   "source": [
    "# Import Data\n",
    "ords_prods = pd.read_pickle(os.path.join(path, '02 Data', 'Prepared Data', 'ords_prods_regions_final.pkl'))"
   ]
  },
  {
   "cell_type": "markdown",
   "id": "68e5f648",
   "metadata": {},
   "source": [
    "### 02. Creating sample (20%)"
   ]
  },
  {
   "cell_type": "code",
   "execution_count": 4,
   "id": "3cb916ff",
   "metadata": {},
   "outputs": [],
   "source": [
    "# Set the seed\n",
    "# Create a list holding True/False values to the test np.random.rand() <= 0.8\n",
    "np.random.seed(4)\n",
    "dev = np.random.rand(len(ords_prods)) <= 0.8"
   ]
  },
  {
   "cell_type": "code",
   "execution_count": 9,
   "id": "3f3801f7",
   "metadata": {},
   "outputs": [],
   "source": [
    "# Store 80% of the sample in the dataframe big\n",
    "big=ords_prods[dev]"
   ]
  },
  {
   "cell_type": "code",
   "execution_count": 10,
   "id": "77d96cbe",
   "metadata": {},
   "outputs": [],
   "source": [
    "# Store 20% of the sample in the dataframe small\n",
    "small=ords_prods[~dev]"
   ]
  },
  {
   "cell_type": "code",
   "execution_count": 11,
   "id": "15378c22",
   "metadata": {},
   "outputs": [
    {
     "data": {
      "text/plain": [
       "32404859"
      ]
     },
     "execution_count": 11,
     "metadata": {},
     "output_type": "execute_result"
    }
   ],
   "source": [
    "# Checking the length\n",
    "len(ords_prods)"
   ]
  },
  {
   "cell_type": "code",
   "execution_count": 12,
   "id": "dfef6783",
   "metadata": {},
   "outputs": [
    {
     "data": {
      "text/plain": [
       "32404859"
      ]
     },
     "execution_count": 12,
     "metadata": {},
     "output_type": "execute_result"
    }
   ],
   "source": [
    "len(big)+len(small)"
   ]
  },
  {
   "cell_type": "code",
   "execution_count": 14,
   "id": "d07e82f9",
   "metadata": {},
   "outputs": [],
   "source": [
    "# Exporting small sample and big \n",
    "big.to_pickle(os.path.join(path, '02 Data', 'Prepared Data', 'big_ords_prods.pkl'))\n",
    "small.to_pickle(os.path.join(path, '02 Data', 'Prepared Data', 'small_ords_prods.pkl'))"
   ]
  },
  {
   "cell_type": "markdown",
   "id": "960ff9ab",
   "metadata": {},
   "source": [
    "### 03.Creating charts with a spending flag"
   ]
  },
  {
   "cell_type": "code",
   "execution_count": 15,
   "id": "c1f82254",
   "metadata": {},
   "outputs": [
    {
     "data": {
      "text/html": [
       "<div>\n",
       "<style scoped>\n",
       "    .dataframe tbody tr th:only-of-type {\n",
       "        vertical-align: middle;\n",
       "    }\n",
       "\n",
       "    .dataframe tbody tr th {\n",
       "        vertical-align: top;\n",
       "    }\n",
       "\n",
       "    .dataframe thead th {\n",
       "        text-align: right;\n",
       "    }\n",
       "</style>\n",
       "<table border=\"1\" class=\"dataframe\">\n",
       "  <thead>\n",
       "    <tr style=\"text-align: right;\">\n",
       "      <th></th>\n",
       "      <th>order_id</th>\n",
       "      <th>user_id</th>\n",
       "      <th>order_number</th>\n",
       "      <th>order_day_of_week</th>\n",
       "      <th>order_time_of_day</th>\n",
       "      <th>days_since_prior_order</th>\n",
       "      <th>product_id</th>\n",
       "      <th>add_to_cart_order</th>\n",
       "      <th>reordered</th>\n",
       "      <th>product_name</th>\n",
       "      <th>aisle_id</th>\n",
       "      <th>department_id</th>\n",
       "      <th>prices</th>\n",
       "      <th>_merge</th>\n",
       "      <th>price_range_loc</th>\n",
       "      <th>busiest day</th>\n",
       "      <th>busiest days</th>\n",
       "      <th>busiest_period_of_day</th>\n",
       "      <th>max_order</th>\n",
       "      <th>loyalty_flag</th>\n",
       "      <th>avg_price_spent</th>\n",
       "      <th>spender_flag</th>\n",
       "      <th>median_days_since_prior_order</th>\n",
       "      <th>order_frequency_flag</th>\n",
       "      <th>gender_identity</th>\n",
       "      <th>state</th>\n",
       "      <th>age</th>\n",
       "      <th>date_joined</th>\n",
       "      <th>dependants_#</th>\n",
       "      <th>marital_status</th>\n",
       "      <th>income</th>\n",
       "      <th>age_group</th>\n",
       "      <th>income_level</th>\n",
       "      <th>profile</th>\n",
       "      <th>region</th>\n",
       "    </tr>\n",
       "  </thead>\n",
       "  <tbody>\n",
       "    <tr>\n",
       "      <th>0</th>\n",
       "      <td>2539329</td>\n",
       "      <td>1</td>\n",
       "      <td>1</td>\n",
       "      <td>2</td>\n",
       "      <td>8</td>\n",
       "      <td>NaN</td>\n",
       "      <td>196.0</td>\n",
       "      <td>1.0</td>\n",
       "      <td>0.0</td>\n",
       "      <td>Soda</td>\n",
       "      <td>77</td>\n",
       "      <td>7</td>\n",
       "      <td>9.000000</td>\n",
       "      <td>both</td>\n",
       "      <td>Mid-range product</td>\n",
       "      <td>Regularly busy</td>\n",
       "      <td>Regularly busy</td>\n",
       "      <td>Average orders</td>\n",
       "      <td>10</td>\n",
       "      <td>New customer</td>\n",
       "      <td>6.367188</td>\n",
       "      <td>Low spender</td>\n",
       "      <td>20.5</td>\n",
       "      <td>Non-frequent customer</td>\n",
       "      <td>Female</td>\n",
       "      <td>Alabama</td>\n",
       "      <td>31</td>\n",
       "      <td>2/17/2019</td>\n",
       "      <td>3</td>\n",
       "      <td>married</td>\n",
       "      <td>40423</td>\n",
       "      <td>Young</td>\n",
       "      <td>Middle</td>\n",
       "      <td>Single parent</td>\n",
       "      <td>South</td>\n",
       "    </tr>\n",
       "    <tr>\n",
       "      <th>2</th>\n",
       "      <td>473747</td>\n",
       "      <td>1</td>\n",
       "      <td>3</td>\n",
       "      <td>3</td>\n",
       "      <td>12</td>\n",
       "      <td>21.0</td>\n",
       "      <td>196.0</td>\n",
       "      <td>1.0</td>\n",
       "      <td>1.0</td>\n",
       "      <td>Soda</td>\n",
       "      <td>77</td>\n",
       "      <td>7</td>\n",
       "      <td>9.000000</td>\n",
       "      <td>both</td>\n",
       "      <td>Mid-range product</td>\n",
       "      <td>Regularly busy</td>\n",
       "      <td>Least busy</td>\n",
       "      <td>Most orders</td>\n",
       "      <td>10</td>\n",
       "      <td>New customer</td>\n",
       "      <td>6.367188</td>\n",
       "      <td>Low spender</td>\n",
       "      <td>20.5</td>\n",
       "      <td>Non-frequent customer</td>\n",
       "      <td>Female</td>\n",
       "      <td>Alabama</td>\n",
       "      <td>31</td>\n",
       "      <td>2/17/2019</td>\n",
       "      <td>3</td>\n",
       "      <td>married</td>\n",
       "      <td>40423</td>\n",
       "      <td>Young</td>\n",
       "      <td>Middle</td>\n",
       "      <td>Single parent</td>\n",
       "      <td>South</td>\n",
       "    </tr>\n",
       "    <tr>\n",
       "      <th>6</th>\n",
       "      <td>550135</td>\n",
       "      <td>1</td>\n",
       "      <td>7</td>\n",
       "      <td>1</td>\n",
       "      <td>9</td>\n",
       "      <td>20.0</td>\n",
       "      <td>196.0</td>\n",
       "      <td>1.0</td>\n",
       "      <td>1.0</td>\n",
       "      <td>Soda</td>\n",
       "      <td>77</td>\n",
       "      <td>7</td>\n",
       "      <td>9.000000</td>\n",
       "      <td>both</td>\n",
       "      <td>Mid-range product</td>\n",
       "      <td>Regularly busy</td>\n",
       "      <td>Busiest day</td>\n",
       "      <td>Most orders</td>\n",
       "      <td>10</td>\n",
       "      <td>New customer</td>\n",
       "      <td>6.367188</td>\n",
       "      <td>Low spender</td>\n",
       "      <td>20.5</td>\n",
       "      <td>Non-frequent customer</td>\n",
       "      <td>Female</td>\n",
       "      <td>Alabama</td>\n",
       "      <td>31</td>\n",
       "      <td>2/17/2019</td>\n",
       "      <td>3</td>\n",
       "      <td>married</td>\n",
       "      <td>40423</td>\n",
       "      <td>Young</td>\n",
       "      <td>Middle</td>\n",
       "      <td>Single parent</td>\n",
       "      <td>South</td>\n",
       "    </tr>\n",
       "    <tr>\n",
       "      <th>12</th>\n",
       "      <td>2398795</td>\n",
       "      <td>1</td>\n",
       "      <td>2</td>\n",
       "      <td>3</td>\n",
       "      <td>7</td>\n",
       "      <td>15.0</td>\n",
       "      <td>12424.0</td>\n",
       "      <td>3.0</td>\n",
       "      <td>1.0</td>\n",
       "      <td>Original Beef Jerky</td>\n",
       "      <td>23</td>\n",
       "      <td>19</td>\n",
       "      <td>4.398438</td>\n",
       "      <td>both</td>\n",
       "      <td>Low-range product</td>\n",
       "      <td>Regularly busy</td>\n",
       "      <td>Least busy</td>\n",
       "      <td>Average orders</td>\n",
       "      <td>10</td>\n",
       "      <td>New customer</td>\n",
       "      <td>6.367188</td>\n",
       "      <td>Low spender</td>\n",
       "      <td>20.5</td>\n",
       "      <td>Non-frequent customer</td>\n",
       "      <td>Female</td>\n",
       "      <td>Alabama</td>\n",
       "      <td>31</td>\n",
       "      <td>2/17/2019</td>\n",
       "      <td>3</td>\n",
       "      <td>married</td>\n",
       "      <td>40423</td>\n",
       "      <td>Young</td>\n",
       "      <td>Middle</td>\n",
       "      <td>Single parent</td>\n",
       "      <td>South</td>\n",
       "    </tr>\n",
       "    <tr>\n",
       "      <th>13</th>\n",
       "      <td>473747</td>\n",
       "      <td>1</td>\n",
       "      <td>3</td>\n",
       "      <td>3</td>\n",
       "      <td>12</td>\n",
       "      <td>21.0</td>\n",
       "      <td>12424.0</td>\n",
       "      <td>2.0</td>\n",
       "      <td>1.0</td>\n",
       "      <td>Original Beef Jerky</td>\n",
       "      <td>23</td>\n",
       "      <td>19</td>\n",
       "      <td>4.398438</td>\n",
       "      <td>both</td>\n",
       "      <td>Low-range product</td>\n",
       "      <td>Regularly busy</td>\n",
       "      <td>Least busy</td>\n",
       "      <td>Most orders</td>\n",
       "      <td>10</td>\n",
       "      <td>New customer</td>\n",
       "      <td>6.367188</td>\n",
       "      <td>Low spender</td>\n",
       "      <td>20.5</td>\n",
       "      <td>Non-frequent customer</td>\n",
       "      <td>Female</td>\n",
       "      <td>Alabama</td>\n",
       "      <td>31</td>\n",
       "      <td>2/17/2019</td>\n",
       "      <td>3</td>\n",
       "      <td>married</td>\n",
       "      <td>40423</td>\n",
       "      <td>Young</td>\n",
       "      <td>Middle</td>\n",
       "      <td>Single parent</td>\n",
       "      <td>South</td>\n",
       "    </tr>\n",
       "  </tbody>\n",
       "</table>\n",
       "</div>"
      ],
      "text/plain": [
       "    order_id  user_id  order_number  order_day_of_week  order_time_of_day  \\\n",
       "0    2539329        1             1                  2                  8   \n",
       "2     473747        1             3                  3                 12   \n",
       "6     550135        1             7                  1                  9   \n",
       "12   2398795        1             2                  3                  7   \n",
       "13    473747        1             3                  3                 12   \n",
       "\n",
       "    days_since_prior_order  product_id  add_to_cart_order  reordered  \\\n",
       "0                      NaN       196.0                1.0        0.0   \n",
       "2                     21.0       196.0                1.0        1.0   \n",
       "6                     20.0       196.0                1.0        1.0   \n",
       "12                    15.0     12424.0                3.0        1.0   \n",
       "13                    21.0     12424.0                2.0        1.0   \n",
       "\n",
       "           product_name  aisle_id  department_id    prices _merge  \\\n",
       "0                  Soda        77              7  9.000000   both   \n",
       "2                  Soda        77              7  9.000000   both   \n",
       "6                  Soda        77              7  9.000000   both   \n",
       "12  Original Beef Jerky        23             19  4.398438   both   \n",
       "13  Original Beef Jerky        23             19  4.398438   both   \n",
       "\n",
       "      price_range_loc     busiest day    busiest days busiest_period_of_day  \\\n",
       "0   Mid-range product  Regularly busy  Regularly busy        Average orders   \n",
       "2   Mid-range product  Regularly busy      Least busy           Most orders   \n",
       "6   Mid-range product  Regularly busy     Busiest day           Most orders   \n",
       "12  Low-range product  Regularly busy      Least busy        Average orders   \n",
       "13  Low-range product  Regularly busy      Least busy           Most orders   \n",
       "\n",
       "    max_order  loyalty_flag  avg_price_spent spender_flag  \\\n",
       "0          10  New customer         6.367188  Low spender   \n",
       "2          10  New customer         6.367188  Low spender   \n",
       "6          10  New customer         6.367188  Low spender   \n",
       "12         10  New customer         6.367188  Low spender   \n",
       "13         10  New customer         6.367188  Low spender   \n",
       "\n",
       "    median_days_since_prior_order   order_frequency_flag gender_identity  \\\n",
       "0                            20.5  Non-frequent customer          Female   \n",
       "2                            20.5  Non-frequent customer          Female   \n",
       "6                            20.5  Non-frequent customer          Female   \n",
       "12                           20.5  Non-frequent customer          Female   \n",
       "13                           20.5  Non-frequent customer          Female   \n",
       "\n",
       "      state  age date_joined  dependants_# marital_status  income age_group  \\\n",
       "0   Alabama   31   2/17/2019             3        married   40423     Young   \n",
       "2   Alabama   31   2/17/2019             3        married   40423     Young   \n",
       "6   Alabama   31   2/17/2019             3        married   40423     Young   \n",
       "12  Alabama   31   2/17/2019             3        married   40423     Young   \n",
       "13  Alabama   31   2/17/2019             3        married   40423     Young   \n",
       "\n",
       "   income_level        profile region  \n",
       "0        Middle  Single parent  South  \n",
       "2        Middle  Single parent  South  \n",
       "6        Middle  Single parent  South  \n",
       "12       Middle  Single parent  South  \n",
       "13       Middle  Single parent  South  "
      ]
     },
     "execution_count": 15,
     "metadata": {},
     "output_type": "execute_result"
    }
   ],
   "source": [
    "#Checking the dataframe\n",
    "pd.options.display.max_columns = None\n",
    "small.head()"
   ]
  },
  {
   "cell_type": "code",
   "execution_count": 16,
   "id": "7020bd2f",
   "metadata": {},
   "outputs": [
    {
     "name": "stdout",
     "output_type": "stream",
     "text": [
      "<class 'pandas.core.frame.DataFrame'>\n",
      "Int64Index: 6481475 entries, 0 to 32404850\n",
      "Data columns (total 35 columns):\n",
      " #   Column                         Dtype   \n",
      "---  ------                         -----   \n",
      " 0   order_id                       int32   \n",
      " 1   user_id                        int32   \n",
      " 2   order_number                   int8    \n",
      " 3   order_day_of_week              int8    \n",
      " 4   order_time_of_day              int8    \n",
      " 5   days_since_prior_order         float16 \n",
      " 6   product_id                     float16 \n",
      " 7   add_to_cart_order              float16 \n",
      " 8   reordered                      float16 \n",
      " 9   product_name                   object  \n",
      " 10  aisle_id                       int32   \n",
      " 11  department_id                  int32   \n",
      " 12  prices                         float16 \n",
      " 13  _merge                         category\n",
      " 14  price_range_loc                object  \n",
      " 15  busiest day                    object  \n",
      " 16  busiest days                   object  \n",
      " 17  busiest_period_of_day          object  \n",
      " 18  max_order                      int8    \n",
      " 19  loyalty_flag                   object  \n",
      " 20  avg_price_spent                float16 \n",
      " 21  spender_flag                   object  \n",
      " 22  median_days_since_prior_order  float16 \n",
      " 23  order_frequency_flag           object  \n",
      " 24  gender_identity                object  \n",
      " 25  state                          object  \n",
      " 26  age                            int32   \n",
      " 27  date_joined                    object  \n",
      " 28  dependants_#                   int32   \n",
      " 29  marital_status                 object  \n",
      " 30  income                         int32   \n",
      " 31  age_group                      object  \n",
      " 32  income_level                   object  \n",
      " 33  profile                        object  \n",
      " 34  region                         object  \n",
      "dtypes: category(1), float16(7), int32(7), int8(4), object(16)\n",
      "memory usage: 1.1+ GB\n"
     ]
    }
   ],
   "source": [
    "small.info()"
   ]
  },
  {
   "cell_type": "code",
   "execution_count": 17,
   "id": "889896ee",
   "metadata": {},
   "outputs": [
    {
     "name": "stdout",
     "output_type": "stream",
     "text": [
      "{0: 'Saturday', 1: 'Sunday', 2: 'Monday', 3: 'Tuesday', 4: 'Wednesday', 5: 'Thursday', 6: 'Friday'}\n"
     ]
    }
   ],
   "source": [
    "# mapping day of the week\n",
    "day_of_week = {0 : \"Saturday\",\n",
    "                1 : \"Sunday\",\n",
    "                2 : \"Monday\",\n",
    "                3 : \"Tuesday\",\n",
    "                4 : \"Wednesday\",\n",
    "                5 : \"Thursday\",\n",
    "                6 : \"Friday\"}\n",
    "print(day_of_week)"
   ]
  },
  {
   "cell_type": "code",
   "execution_count": 18,
   "id": "ee6e5dd6",
   "metadata": {},
   "outputs": [
    {
     "name": "stderr",
     "output_type": "stream",
     "text": [
      "C:\\Users\\iryna\\AppData\\Local\\Temp\\ipykernel_1176\\2573985059.py:1: SettingWithCopyWarning: \n",
      "A value is trying to be set on a copy of a slice from a DataFrame.\n",
      "Try using .loc[row_indexer,col_indexer] = value instead\n",
      "\n",
      "See the caveats in the documentation: https://pandas.pydata.org/pandas-docs/stable/user_guide/indexing.html#returning-a-view-versus-a-copy\n",
      "  small['day_of_week'] = small['order_day_of_week'].map(day_of_week)\n"
     ]
    }
   ],
   "source": [
    "small['day_of_week'] = small['order_day_of_week'].map(day_of_week)"
   ]
  },
  {
   "cell_type": "code",
   "execution_count": 19,
   "id": "391098b7",
   "metadata": {},
   "outputs": [],
   "source": [
    "# map the meaning of days 0-6 to days Sat-Fri\n",
    "days = pd.DataFrame(data={'days':['Sat', 'Sun', 'Mon', 'Tue', 'Wed', 'Thu', 'Fri']})"
   ]
  },
  {
   "cell_type": "code",
   "execution_count": 21,
   "id": "28ac26db",
   "metadata": {},
   "outputs": [
    {
     "data": {
      "text/plain": [
       "Text(0.5, 1.0, 'Days of the week when orders are placed')"
      ]
     },
     "execution_count": 21,
     "metadata": {},
     "output_type": "execute_result"
    },
    {
     "data": {
      "image/png": "[encoded data removed]",
      "text/plain": [
       "<Figure size 432x288 with 1 Axes>"
      ]
     },
     "metadata": {
      "needs_background": "light"
     },
     "output_type": "display_data"
    }
   ],
   "source": [
    "# Orders placed on each day of the week\n",
    "data = ords_prods['order_day_of_week'].value_counts().sort_index(ascending=False).to_frame()\n",
    "data = data.merge(days, how='inner', left_index=True, right_index=True).set_index('days')\n",
    "bar_dow = data.plot.barh(color = sns.color_palette(\"muted\")[2], \n",
    "                         legend=None)\n",
    "plt.xlabel('Number of orders placed')\n",
    "plt.ylabel('')\n",
    "plt.title('Days of the week when orders are placed')"
   ]
  },
  {
   "cell_type": "code",
   "execution_count": 22,
   "id": "272930bf",
   "metadata": {},
   "outputs": [
    {
     "data": {
      "text/plain": [
       "Saturday     1241199\n",
       "Sunday       1130517\n",
       "Friday        898834\n",
       "Monday        842805\n",
       "Thursday      841845\n",
       "Tuesday       768824\n",
       "Wednesday     757451\n",
       "Name: day_of_week, dtype: int64"
      ]
     },
     "execution_count": 22,
     "metadata": {},
     "output_type": "execute_result"
    }
   ],
   "source": [
    "#checking the output\n",
    "small['day_of_week'].value_counts(dropna=False)"
   ]
  },
  {
   "cell_type": "code",
   "execution_count": 23,
   "id": "8fda851e",
   "metadata": {},
   "outputs": [
    {
     "data": {
      "text/html": [
       "<div>\n",
       "<style scoped>\n",
       "    .dataframe tbody tr th:only-of-type {\n",
       "        vertical-align: middle;\n",
       "    }\n",
       "\n",
       "    .dataframe tbody tr th {\n",
       "        vertical-align: top;\n",
       "    }\n",
       "\n",
       "    .dataframe thead th {\n",
       "        text-align: right;\n",
       "    }\n",
       "</style>\n",
       "<table border=\"1\" class=\"dataframe\">\n",
       "  <thead>\n",
       "    <tr style=\"text-align: right;\">\n",
       "      <th></th>\n",
       "      <th>order_id</th>\n",
       "      <th>user_id</th>\n",
       "      <th>order_number</th>\n",
       "      <th>order_day_of_week</th>\n",
       "      <th>order_time_of_day</th>\n",
       "      <th>days_since_prior_order</th>\n",
       "      <th>product_id</th>\n",
       "      <th>add_to_cart_order</th>\n",
       "      <th>reordered</th>\n",
       "      <th>product_name</th>\n",
       "      <th>aisle_id</th>\n",
       "      <th>department_id</th>\n",
       "      <th>prices</th>\n",
       "      <th>_merge</th>\n",
       "      <th>price_range_loc</th>\n",
       "      <th>busiest day</th>\n",
       "      <th>busiest days</th>\n",
       "      <th>busiest_period_of_day</th>\n",
       "      <th>max_order</th>\n",
       "      <th>loyalty_flag</th>\n",
       "      <th>avg_price_spent</th>\n",
       "      <th>spender_flag</th>\n",
       "      <th>median_days_since_prior_order</th>\n",
       "      <th>order_frequency_flag</th>\n",
       "      <th>gender_identity</th>\n",
       "      <th>state</th>\n",
       "      <th>age</th>\n",
       "      <th>date_joined</th>\n",
       "      <th>dependants_#</th>\n",
       "      <th>marital_status</th>\n",
       "      <th>income</th>\n",
       "      <th>age_group</th>\n",
       "      <th>income_level</th>\n",
       "      <th>profile</th>\n",
       "      <th>region</th>\n",
       "      <th>day_of_week</th>\n",
       "    </tr>\n",
       "  </thead>\n",
       "  <tbody>\n",
       "    <tr>\n",
       "      <th>0</th>\n",
       "      <td>2539329</td>\n",
       "      <td>1</td>\n",
       "      <td>1</td>\n",
       "      <td>2</td>\n",
       "      <td>8</td>\n",
       "      <td>NaN</td>\n",
       "      <td>196.0</td>\n",
       "      <td>1.0</td>\n",
       "      <td>0.0</td>\n",
       "      <td>Soda</td>\n",
       "      <td>77</td>\n",
       "      <td>7</td>\n",
       "      <td>9.000000</td>\n",
       "      <td>both</td>\n",
       "      <td>Mid-range product</td>\n",
       "      <td>Regularly busy</td>\n",
       "      <td>Regularly busy</td>\n",
       "      <td>Average orders</td>\n",
       "      <td>10</td>\n",
       "      <td>New customer</td>\n",
       "      <td>6.367188</td>\n",
       "      <td>Low spender</td>\n",
       "      <td>20.5</td>\n",
       "      <td>Non-frequent customer</td>\n",
       "      <td>Female</td>\n",
       "      <td>Alabama</td>\n",
       "      <td>31</td>\n",
       "      <td>2/17/2019</td>\n",
       "      <td>3</td>\n",
       "      <td>married</td>\n",
       "      <td>40423</td>\n",
       "      <td>Young</td>\n",
       "      <td>Middle</td>\n",
       "      <td>Single parent</td>\n",
       "      <td>South</td>\n",
       "      <td>Monday</td>\n",
       "    </tr>\n",
       "    <tr>\n",
       "      <th>2</th>\n",
       "      <td>473747</td>\n",
       "      <td>1</td>\n",
       "      <td>3</td>\n",
       "      <td>3</td>\n",
       "      <td>12</td>\n",
       "      <td>21.0</td>\n",
       "      <td>196.0</td>\n",
       "      <td>1.0</td>\n",
       "      <td>1.0</td>\n",
       "      <td>Soda</td>\n",
       "      <td>77</td>\n",
       "      <td>7</td>\n",
       "      <td>9.000000</td>\n",
       "      <td>both</td>\n",
       "      <td>Mid-range product</td>\n",
       "      <td>Regularly busy</td>\n",
       "      <td>Least busy</td>\n",
       "      <td>Most orders</td>\n",
       "      <td>10</td>\n",
       "      <td>New customer</td>\n",
       "      <td>6.367188</td>\n",
       "      <td>Low spender</td>\n",
       "      <td>20.5</td>\n",
       "      <td>Non-frequent customer</td>\n",
       "      <td>Female</td>\n",
       "      <td>Alabama</td>\n",
       "      <td>31</td>\n",
       "      <td>2/17/2019</td>\n",
       "      <td>3</td>\n",
       "      <td>married</td>\n",
       "      <td>40423</td>\n",
       "      <td>Young</td>\n",
       "      <td>Middle</td>\n",
       "      <td>Single parent</td>\n",
       "      <td>South</td>\n",
       "      <td>Tuesday</td>\n",
       "    </tr>\n",
       "    <tr>\n",
       "      <th>6</th>\n",
       "      <td>550135</td>\n",
       "      <td>1</td>\n",
       "      <td>7</td>\n",
       "      <td>1</td>\n",
       "      <td>9</td>\n",
       "      <td>20.0</td>\n",
       "      <td>196.0</td>\n",
       "      <td>1.0</td>\n",
       "      <td>1.0</td>\n",
       "      <td>Soda</td>\n",
       "      <td>77</td>\n",
       "      <td>7</td>\n",
       "      <td>9.000000</td>\n",
       "      <td>both</td>\n",
       "      <td>Mid-range product</td>\n",
       "      <td>Regularly busy</td>\n",
       "      <td>Busiest day</td>\n",
       "      <td>Most orders</td>\n",
       "      <td>10</td>\n",
       "      <td>New customer</td>\n",
       "      <td>6.367188</td>\n",
       "      <td>Low spender</td>\n",
       "      <td>20.5</td>\n",
       "      <td>Non-frequent customer</td>\n",
       "      <td>Female</td>\n",
       "      <td>Alabama</td>\n",
       "      <td>31</td>\n",
       "      <td>2/17/2019</td>\n",
       "      <td>3</td>\n",
       "      <td>married</td>\n",
       "      <td>40423</td>\n",
       "      <td>Young</td>\n",
       "      <td>Middle</td>\n",
       "      <td>Single parent</td>\n",
       "      <td>South</td>\n",
       "      <td>Sunday</td>\n",
       "    </tr>\n",
       "    <tr>\n",
       "      <th>12</th>\n",
       "      <td>2398795</td>\n",
       "      <td>1</td>\n",
       "      <td>2</td>\n",
       "      <td>3</td>\n",
       "      <td>7</td>\n",
       "      <td>15.0</td>\n",
       "      <td>12424.0</td>\n",
       "      <td>3.0</td>\n",
       "      <td>1.0</td>\n",
       "      <td>Original Beef Jerky</td>\n",
       "      <td>23</td>\n",
       "      <td>19</td>\n",
       "      <td>4.398438</td>\n",
       "      <td>both</td>\n",
       "      <td>Low-range product</td>\n",
       "      <td>Regularly busy</td>\n",
       "      <td>Least busy</td>\n",
       "      <td>Average orders</td>\n",
       "      <td>10</td>\n",
       "      <td>New customer</td>\n",
       "      <td>6.367188</td>\n",
       "      <td>Low spender</td>\n",
       "      <td>20.5</td>\n",
       "      <td>Non-frequent customer</td>\n",
       "      <td>Female</td>\n",
       "      <td>Alabama</td>\n",
       "      <td>31</td>\n",
       "      <td>2/17/2019</td>\n",
       "      <td>3</td>\n",
       "      <td>married</td>\n",
       "      <td>40423</td>\n",
       "      <td>Young</td>\n",
       "      <td>Middle</td>\n",
       "      <td>Single parent</td>\n",
       "      <td>South</td>\n",
       "      <td>Tuesday</td>\n",
       "    </tr>\n",
       "    <tr>\n",
       "      <th>13</th>\n",
       "      <td>473747</td>\n",
       "      <td>1</td>\n",
       "      <td>3</td>\n",
       "      <td>3</td>\n",
       "      <td>12</td>\n",
       "      <td>21.0</td>\n",
       "      <td>12424.0</td>\n",
       "      <td>2.0</td>\n",
       "      <td>1.0</td>\n",
       "      <td>Original Beef Jerky</td>\n",
       "      <td>23</td>\n",
       "      <td>19</td>\n",
       "      <td>4.398438</td>\n",
       "      <td>both</td>\n",
       "      <td>Low-range product</td>\n",
       "      <td>Regularly busy</td>\n",
       "      <td>Least busy</td>\n",
       "      <td>Most orders</td>\n",
       "      <td>10</td>\n",
       "      <td>New customer</td>\n",
       "      <td>6.367188</td>\n",
       "      <td>Low spender</td>\n",
       "      <td>20.5</td>\n",
       "      <td>Non-frequent customer</td>\n",
       "      <td>Female</td>\n",
       "      <td>Alabama</td>\n",
       "      <td>31</td>\n",
       "      <td>2/17/2019</td>\n",
       "      <td>3</td>\n",
       "      <td>married</td>\n",
       "      <td>40423</td>\n",
       "      <td>Young</td>\n",
       "      <td>Middle</td>\n",
       "      <td>Single parent</td>\n",
       "      <td>South</td>\n",
       "      <td>Tuesday</td>\n",
       "    </tr>\n",
       "  </tbody>\n",
       "</table>\n",
       "</div>"
      ],
      "text/plain": [
       "    order_id  user_id  order_number  order_day_of_week  order_time_of_day  \\\n",
       "0    2539329        1             1                  2                  8   \n",
       "2     473747        1             3                  3                 12   \n",
       "6     550135        1             7                  1                  9   \n",
       "12   2398795        1             2                  3                  7   \n",
       "13    473747        1             3                  3                 12   \n",
       "\n",
       "    days_since_prior_order  product_id  add_to_cart_order  reordered  \\\n",
       "0                      NaN       196.0                1.0        0.0   \n",
       "2                     21.0       196.0                1.0        1.0   \n",
       "6                     20.0       196.0                1.0        1.0   \n",
       "12                    15.0     12424.0                3.0        1.0   \n",
       "13                    21.0     12424.0                2.0        1.0   \n",
       "\n",
       "           product_name  aisle_id  department_id    prices _merge  \\\n",
       "0                  Soda        77              7  9.000000   both   \n",
       "2                  Soda        77              7  9.000000   both   \n",
       "6                  Soda        77              7  9.000000   both   \n",
       "12  Original Beef Jerky        23             19  4.398438   both   \n",
       "13  Original Beef Jerky        23             19  4.398438   both   \n",
       "\n",
       "      price_range_loc     busiest day    busiest days busiest_period_of_day  \\\n",
       "0   Mid-range product  Regularly busy  Regularly busy        Average orders   \n",
       "2   Mid-range product  Regularly busy      Least busy           Most orders   \n",
       "6   Mid-range product  Regularly busy     Busiest day           Most orders   \n",
       "12  Low-range product  Regularly busy      Least busy        Average orders   \n",
       "13  Low-range product  Regularly busy      Least busy           Most orders   \n",
       "\n",
       "    max_order  loyalty_flag  avg_price_spent spender_flag  \\\n",
       "0          10  New customer         6.367188  Low spender   \n",
       "2          10  New customer         6.367188  Low spender   \n",
       "6          10  New customer         6.367188  Low spender   \n",
       "12         10  New customer         6.367188  Low spender   \n",
       "13         10  New customer         6.367188  Low spender   \n",
       "\n",
       "    median_days_since_prior_order   order_frequency_flag gender_identity  \\\n",
       "0                            20.5  Non-frequent customer          Female   \n",
       "2                            20.5  Non-frequent customer          Female   \n",
       "6                            20.5  Non-frequent customer          Female   \n",
       "12                           20.5  Non-frequent customer          Female   \n",
       "13                           20.5  Non-frequent customer          Female   \n",
       "\n",
       "      state  age date_joined  dependants_# marital_status  income age_group  \\\n",
       "0   Alabama   31   2/17/2019             3        married   40423     Young   \n",
       "2   Alabama   31   2/17/2019             3        married   40423     Young   \n",
       "6   Alabama   31   2/17/2019             3        married   40423     Young   \n",
       "12  Alabama   31   2/17/2019             3        married   40423     Young   \n",
       "13  Alabama   31   2/17/2019             3        married   40423     Young   \n",
       "\n",
       "   income_level        profile region day_of_week  \n",
       "0        Middle  Single parent  South      Monday  \n",
       "2        Middle  Single parent  South     Tuesday  \n",
       "6        Middle  Single parent  South      Sunday  \n",
       "12       Middle  Single parent  South     Tuesday  \n",
       "13       Middle  Single parent  South     Tuesday  "
      ]
     },
     "execution_count": 23,
     "metadata": {},
     "output_type": "execute_result"
    }
   ],
   "source": [
    "small.head()"
   ]
  },
  {
   "cell_type": "code",
   "execution_count": 24,
   "id": "267624dd",
   "metadata": {},
   "outputs": [
    {
     "name": "stderr",
     "output_type": "stream",
     "text": [
      "C:\\Users\\iryna\\AppData\\Local\\Temp\\ipykernel_1176\\3983017027.py:2: SettingWithCopyWarning: \n",
      "A value is trying to be set on a copy of a slice from a DataFrame.\n",
      "Try using .loc[row_indexer,col_indexer] = value instead\n",
      "\n",
      "See the caveats in the documentation: https://pandas.pydata.org/pandas-docs/stable/user_guide/indexing.html#returning-a-view-versus-a-copy\n",
      "  small['spending_flag'] = small['prices'].apply(lambda x: 'low spender' if x<8 else 'high spender')\n"
     ]
    }
   ],
   "source": [
    "# creating a spending flag High and Low spender\n",
    "small['spending_flag'] = small['prices'].apply(lambda x: 'low spender' if x<8 else 'high spender')"
   ]
  },
  {
   "cell_type": "code",
   "execution_count": 26,
   "id": "84ce8b9a",
   "metadata": {},
   "outputs": [
    {
     "data": {
      "text/html": [
       "<div>\n",
       "<style scoped>\n",
       "    .dataframe tbody tr th:only-of-type {\n",
       "        vertical-align: middle;\n",
       "    }\n",
       "\n",
       "    .dataframe tbody tr th {\n",
       "        vertical-align: top;\n",
       "    }\n",
       "\n",
       "    .dataframe thead th {\n",
       "        text-align: right;\n",
       "    }\n",
       "</style>\n",
       "<table border=\"1\" class=\"dataframe\">\n",
       "  <thead>\n",
       "    <tr style=\"text-align: right;\">\n",
       "      <th></th>\n",
       "      <th>order_id</th>\n",
       "      <th>user_id</th>\n",
       "      <th>order_number</th>\n",
       "      <th>order_day_of_week</th>\n",
       "      <th>order_time_of_day</th>\n",
       "      <th>days_since_prior_order</th>\n",
       "      <th>product_id</th>\n",
       "      <th>add_to_cart_order</th>\n",
       "      <th>reordered</th>\n",
       "      <th>product_name</th>\n",
       "      <th>aisle_id</th>\n",
       "      <th>department_id</th>\n",
       "      <th>prices</th>\n",
       "      <th>_merge</th>\n",
       "      <th>price_range_loc</th>\n",
       "      <th>busiest day</th>\n",
       "      <th>busiest days</th>\n",
       "      <th>busiest_period_of_day</th>\n",
       "      <th>max_order</th>\n",
       "      <th>loyalty_flag</th>\n",
       "      <th>avg_price_spent</th>\n",
       "      <th>spender_flag</th>\n",
       "      <th>median_days_since_prior_order</th>\n",
       "      <th>order_frequency_flag</th>\n",
       "      <th>gender_identity</th>\n",
       "      <th>state</th>\n",
       "      <th>age</th>\n",
       "      <th>date_joined</th>\n",
       "      <th>dependants_#</th>\n",
       "      <th>marital_status</th>\n",
       "      <th>income</th>\n",
       "      <th>age_group</th>\n",
       "      <th>income_level</th>\n",
       "      <th>profile</th>\n",
       "      <th>region</th>\n",
       "      <th>day_of_week</th>\n",
       "      <th>spending_flag</th>\n",
       "    </tr>\n",
       "  </thead>\n",
       "  <tbody>\n",
       "    <tr>\n",
       "      <th>0</th>\n",
       "      <td>2539329</td>\n",
       "      <td>1</td>\n",
       "      <td>1</td>\n",
       "      <td>2</td>\n",
       "      <td>8</td>\n",
       "      <td>NaN</td>\n",
       "      <td>196.0</td>\n",
       "      <td>1.0</td>\n",
       "      <td>0.0</td>\n",
       "      <td>Soda</td>\n",
       "      <td>77</td>\n",
       "      <td>7</td>\n",
       "      <td>9.000000</td>\n",
       "      <td>both</td>\n",
       "      <td>Mid-range product</td>\n",
       "      <td>Regularly busy</td>\n",
       "      <td>Regularly busy</td>\n",
       "      <td>Average orders</td>\n",
       "      <td>10</td>\n",
       "      <td>New customer</td>\n",
       "      <td>6.367188</td>\n",
       "      <td>Low spender</td>\n",
       "      <td>20.5</td>\n",
       "      <td>Non-frequent customer</td>\n",
       "      <td>Female</td>\n",
       "      <td>Alabama</td>\n",
       "      <td>31</td>\n",
       "      <td>2/17/2019</td>\n",
       "      <td>3</td>\n",
       "      <td>married</td>\n",
       "      <td>40423</td>\n",
       "      <td>Young</td>\n",
       "      <td>Middle</td>\n",
       "      <td>Single parent</td>\n",
       "      <td>South</td>\n",
       "      <td>Monday</td>\n",
       "      <td>high spender</td>\n",
       "    </tr>\n",
       "    <tr>\n",
       "      <th>2</th>\n",
       "      <td>473747</td>\n",
       "      <td>1</td>\n",
       "      <td>3</td>\n",
       "      <td>3</td>\n",
       "      <td>12</td>\n",
       "      <td>21.0</td>\n",
       "      <td>196.0</td>\n",
       "      <td>1.0</td>\n",
       "      <td>1.0</td>\n",
       "      <td>Soda</td>\n",
       "      <td>77</td>\n",
       "      <td>7</td>\n",
       "      <td>9.000000</td>\n",
       "      <td>both</td>\n",
       "      <td>Mid-range product</td>\n",
       "      <td>Regularly busy</td>\n",
       "      <td>Least busy</td>\n",
       "      <td>Most orders</td>\n",
       "      <td>10</td>\n",
       "      <td>New customer</td>\n",
       "      <td>6.367188</td>\n",
       "      <td>Low spender</td>\n",
       "      <td>20.5</td>\n",
       "      <td>Non-frequent customer</td>\n",
       "      <td>Female</td>\n",
       "      <td>Alabama</td>\n",
       "      <td>31</td>\n",
       "      <td>2/17/2019</td>\n",
       "      <td>3</td>\n",
       "      <td>married</td>\n",
       "      <td>40423</td>\n",
       "      <td>Young</td>\n",
       "      <td>Middle</td>\n",
       "      <td>Single parent</td>\n",
       "      <td>South</td>\n",
       "      <td>Tuesday</td>\n",
       "      <td>high spender</td>\n",
       "    </tr>\n",
       "    <tr>\n",
       "      <th>6</th>\n",
       "      <td>550135</td>\n",
       "      <td>1</td>\n",
       "      <td>7</td>\n",
       "      <td>1</td>\n",
       "      <td>9</td>\n",
       "      <td>20.0</td>\n",
       "      <td>196.0</td>\n",
       "      <td>1.0</td>\n",
       "      <td>1.0</td>\n",
       "      <td>Soda</td>\n",
       "      <td>77</td>\n",
       "      <td>7</td>\n",
       "      <td>9.000000</td>\n",
       "      <td>both</td>\n",
       "      <td>Mid-range product</td>\n",
       "      <td>Regularly busy</td>\n",
       "      <td>Busiest day</td>\n",
       "      <td>Most orders</td>\n",
       "      <td>10</td>\n",
       "      <td>New customer</td>\n",
       "      <td>6.367188</td>\n",
       "      <td>Low spender</td>\n",
       "      <td>20.5</td>\n",
       "      <td>Non-frequent customer</td>\n",
       "      <td>Female</td>\n",
       "      <td>Alabama</td>\n",
       "      <td>31</td>\n",
       "      <td>2/17/2019</td>\n",
       "      <td>3</td>\n",
       "      <td>married</td>\n",
       "      <td>40423</td>\n",
       "      <td>Young</td>\n",
       "      <td>Middle</td>\n",
       "      <td>Single parent</td>\n",
       "      <td>South</td>\n",
       "      <td>Sunday</td>\n",
       "      <td>high spender</td>\n",
       "    </tr>\n",
       "    <tr>\n",
       "      <th>12</th>\n",
       "      <td>2398795</td>\n",
       "      <td>1</td>\n",
       "      <td>2</td>\n",
       "      <td>3</td>\n",
       "      <td>7</td>\n",
       "      <td>15.0</td>\n",
       "      <td>12424.0</td>\n",
       "      <td>3.0</td>\n",
       "      <td>1.0</td>\n",
       "      <td>Original Beef Jerky</td>\n",
       "      <td>23</td>\n",
       "      <td>19</td>\n",
       "      <td>4.398438</td>\n",
       "      <td>both</td>\n",
       "      <td>Low-range product</td>\n",
       "      <td>Regularly busy</td>\n",
       "      <td>Least busy</td>\n",
       "      <td>Average orders</td>\n",
       "      <td>10</td>\n",
       "      <td>New customer</td>\n",
       "      <td>6.367188</td>\n",
       "      <td>Low spender</td>\n",
       "      <td>20.5</td>\n",
       "      <td>Non-frequent customer</td>\n",
       "      <td>Female</td>\n",
       "      <td>Alabama</td>\n",
       "      <td>31</td>\n",
       "      <td>2/17/2019</td>\n",
       "      <td>3</td>\n",
       "      <td>married</td>\n",
       "      <td>40423</td>\n",
       "      <td>Young</td>\n",
       "      <td>Middle</td>\n",
       "      <td>Single parent</td>\n",
       "      <td>South</td>\n",
       "      <td>Tuesday</td>\n",
       "      <td>low spender</td>\n",
       "    </tr>\n",
       "    <tr>\n",
       "      <th>13</th>\n",
       "      <td>473747</td>\n",
       "      <td>1</td>\n",
       "      <td>3</td>\n",
       "      <td>3</td>\n",
       "      <td>12</td>\n",
       "      <td>21.0</td>\n",
       "      <td>12424.0</td>\n",
       "      <td>2.0</td>\n",
       "      <td>1.0</td>\n",
       "      <td>Original Beef Jerky</td>\n",
       "      <td>23</td>\n",
       "      <td>19</td>\n",
       "      <td>4.398438</td>\n",
       "      <td>both</td>\n",
       "      <td>Low-range product</td>\n",
       "      <td>Regularly busy</td>\n",
       "      <td>Least busy</td>\n",
       "      <td>Most orders</td>\n",
       "      <td>10</td>\n",
       "      <td>New customer</td>\n",
       "      <td>6.367188</td>\n",
       "      <td>Low spender</td>\n",
       "      <td>20.5</td>\n",
       "      <td>Non-frequent customer</td>\n",
       "      <td>Female</td>\n",
       "      <td>Alabama</td>\n",
       "      <td>31</td>\n",
       "      <td>2/17/2019</td>\n",
       "      <td>3</td>\n",
       "      <td>married</td>\n",
       "      <td>40423</td>\n",
       "      <td>Young</td>\n",
       "      <td>Middle</td>\n",
       "      <td>Single parent</td>\n",
       "      <td>South</td>\n",
       "      <td>Tuesday</td>\n",
       "      <td>low spender</td>\n",
       "    </tr>\n",
       "  </tbody>\n",
       "</table>\n",
       "</div>"
      ],
      "text/plain": [
       "    order_id  user_id  order_number  order_day_of_week  order_time_of_day  \\\n",
       "0    2539329        1             1                  2                  8   \n",
       "2     473747        1             3                  3                 12   \n",
       "6     550135        1             7                  1                  9   \n",
       "12   2398795        1             2                  3                  7   \n",
       "13    473747        1             3                  3                 12   \n",
       "\n",
       "    days_since_prior_order  product_id  add_to_cart_order  reordered  \\\n",
       "0                      NaN       196.0                1.0        0.0   \n",
       "2                     21.0       196.0                1.0        1.0   \n",
       "6                     20.0       196.0                1.0        1.0   \n",
       "12                    15.0     12424.0                3.0        1.0   \n",
       "13                    21.0     12424.0                2.0        1.0   \n",
       "\n",
       "           product_name  aisle_id  department_id    prices _merge  \\\n",
       "0                  Soda        77              7  9.000000   both   \n",
       "2                  Soda        77              7  9.000000   both   \n",
       "6                  Soda        77              7  9.000000   both   \n",
       "12  Original Beef Jerky        23             19  4.398438   both   \n",
       "13  Original Beef Jerky        23             19  4.398438   both   \n",
       "\n",
       "      price_range_loc     busiest day    busiest days busiest_period_of_day  \\\n",
       "0   Mid-range product  Regularly busy  Regularly busy        Average orders   \n",
       "2   Mid-range product  Regularly busy      Least busy           Most orders   \n",
       "6   Mid-range product  Regularly busy     Busiest day           Most orders   \n",
       "12  Low-range product  Regularly busy      Least busy        Average orders   \n",
       "13  Low-range product  Regularly busy      Least busy           Most orders   \n",
       "\n",
       "    max_order  loyalty_flag  avg_price_spent spender_flag  \\\n",
       "0          10  New customer         6.367188  Low spender   \n",
       "2          10  New customer         6.367188  Low spender   \n",
       "6          10  New customer         6.367188  Low spender   \n",
       "12         10  New customer         6.367188  Low spender   \n",
       "13         10  New customer         6.367188  Low spender   \n",
       "\n",
       "    median_days_since_prior_order   order_frequency_flag gender_identity  \\\n",
       "0                            20.5  Non-frequent customer          Female   \n",
       "2                            20.5  Non-frequent customer          Female   \n",
       "6                            20.5  Non-frequent customer          Female   \n",
       "12                           20.5  Non-frequent customer          Female   \n",
       "13                           20.5  Non-frequent customer          Female   \n",
       "\n",
       "      state  age date_joined  dependants_# marital_status  income age_group  \\\n",
       "0   Alabama   31   2/17/2019             3        married   40423     Young   \n",
       "2   Alabama   31   2/17/2019             3        married   40423     Young   \n",
       "6   Alabama   31   2/17/2019             3        married   40423     Young   \n",
       "12  Alabama   31   2/17/2019             3        married   40423     Young   \n",
       "13  Alabama   31   2/17/2019             3        married   40423     Young   \n",
       "\n",
       "   income_level        profile region day_of_week spending_flag  \n",
       "0        Middle  Single parent  South      Monday  high spender  \n",
       "2        Middle  Single parent  South     Tuesday  high spender  \n",
       "6        Middle  Single parent  South      Sunday  high spender  \n",
       "12       Middle  Single parent  South     Tuesday   low spender  \n",
       "13       Middle  Single parent  South     Tuesday   low spender  "
      ]
     },
     "execution_count": 26,
     "metadata": {},
     "output_type": "execute_result"
    }
   ],
   "source": [
    "#checking the output\n",
    "small.head()"
   ]
  },
  {
   "cell_type": "code",
   "execution_count": 27,
   "id": "5624f8d8",
   "metadata": {},
   "outputs": [
    {
     "data": {
      "text/plain": [
       "low spender     3494637\n",
       "high spender    2986838\n",
       "Name: spending_flag, dtype: int64"
      ]
     },
     "execution_count": 27,
     "metadata": {},
     "output_type": "execute_result"
    }
   ],
   "source": [
    "small['spending_flag'].value_counts(dropna=False)"
   ]
  },
  {
   "cell_type": "code",
   "execution_count": 43,
   "id": "4fdb8dea",
   "metadata": {},
   "outputs": [],
   "source": [
    "# Creating a crosstab\n",
    "crosstab_day_spending = pd.crosstab(small['order_day_of_week'], small['spending_flag'], dropna = False )"
   ]
  },
  {
   "cell_type": "code",
   "execution_count": 44,
   "id": "2d217e04",
   "metadata": {},
   "outputs": [
    {
     "data": {
      "image/png": "[encoded data removed]",
      "text/plain": [
       "<Figure size 432x288 with 1 Axes>"
      ]
     },
     "metadata": {
      "needs_background": "light"
     },
     "output_type": "display_data"
    }
   ],
   "source": [
    "#Visualization spending by day\n",
    "crosstab_day_spending = crosstab_day_spending.plot(kind = 'line', stacked = True, title = 'Spending by day')"
   ]
  },
  {
   "cell_type": "code",
   "execution_count": 45,
   "id": "dee4471f",
   "metadata": {},
   "outputs": [],
   "source": [
    "#Exporting the visualization\n",
    "crosstab_day_spending.figure.savefig(os.path.join(path, '04 Analysis','Visualizations', 'f2_2_high_low_spender.png'))"
   ]
  },
  {
   "cell_type": "code",
   "execution_count": 46,
   "id": "78ebacc5",
   "metadata": {},
   "outputs": [],
   "source": [
    "# Creating a crosstab loyal customers and spending flag \n",
    "crosstab_loy_spend = pd.crosstab(small['loyalty_flag'], small['spending_flag'], dropna = False )"
   ]
  },
  {
   "cell_type": "code",
   "execution_count": 47,
   "id": "7974f2fd",
   "metadata": {},
   "outputs": [
    {
     "data": {
      "image/png": "[encoded data removed]",
      "text/plain": [
       "<Figure size 432x288 with 1 Axes>"
      ]
     },
     "metadata": {
      "needs_background": "light"
     },
     "output_type": "display_data"
    }
   ],
   "source": [
    "crosstab_loy_spend = crosstab_loy_spend.plot(kind = 'bar', stacked = True)"
   ]
  },
  {
   "cell_type": "code",
   "execution_count": 48,
   "id": "cf97224e",
   "metadata": {},
   "outputs": [],
   "source": [
    "#Exporting the visualization\n",
    "crosstab_day_spending.figure.savefig(os.path.join(path, '04 Analysis','Visualizations', 'f6_1_loyal_high_low_spender.png'))"
   ]
  },
  {
   "cell_type": "code",
   "execution_count": 49,
   "id": "2246e9b1",
   "metadata": {},
   "outputs": [],
   "source": [
    "#creating a crosstab spending flag and age group\n",
    "crosstab_age_spend = pd.crosstab(small['age_group'], small['spending_flag'], dropna = False )"
   ]
  },
  {
   "cell_type": "code",
   "execution_count": 50,
   "id": "4e940999",
   "metadata": {},
   "outputs": [
    {
     "data": {
      "image/png": "[encoded data removed]",
      "text/plain": [
       "<Figure size 432x288 with 1 Axes>"
      ]
     },
     "metadata": {
      "needs_background": "light"
     },
     "output_type": "display_data"
    }
   ],
   "source": [
    "crosstab_age_spend = crosstab_age_spend.plot(kind = 'bar', stacked = True)"
   ]
  },
  {
   "cell_type": "code",
   "execution_count": 51,
   "id": "4356c45a",
   "metadata": {},
   "outputs": [],
   "source": [
    "#Exporting the visualization\n",
    "crosstab_day_spending.figure.savefig(os.path.join(path, '04 Analysis','Visualizations', 'f8_1_agegroup_high_low_spender.png'))"
   ]
  },
  {
   "cell_type": "markdown",
   "id": "c1e36ea7",
   "metadata": {},
   "source": [
    "### 04. Creating a product range and visualizations"
   ]
  },
  {
   "cell_type": "code",
   "execution_count": 56,
   "id": "3393009c",
   "metadata": {},
   "outputs": [],
   "source": [
    "# Creating product price range categories\n",
    "small.loc[small['prices'] > 15, 'price_range_loc'] = 'High-range product'\n",
    "small.loc[(small['prices'] <= 15) & (small['prices'] > 10), 'price_range_loc'] = 'Mid-high range' \n",
    "small.loc[(small['prices'] <= 10) & (small['prices'] > 5), 'price_range_loc'] = 'Mid-low range' \n",
    "small.loc[small['prices'] <= 5, 'price_range_loc'] = 'Low range product'"
   ]
  },
  {
   "cell_type": "code",
   "execution_count": 57,
   "id": "fa050597",
   "metadata": {},
   "outputs": [
    {
     "data": {
      "text/plain": [
       "Mid-low range         2351855\n",
       "Low range product     2026337\n",
       "Mid-high range        2019722\n",
       "High-range product      83561\n",
       "Name: price_range_loc, dtype: int64"
      ]
     },
     "execution_count": 57,
     "metadata": {},
     "output_type": "execute_result"
    }
   ],
   "source": [
    "# Checking the output\n",
    "small['price_range_loc'].value_counts(dropna=False)"
   ]
  },
  {
   "cell_type": "code",
   "execution_count": 58,
   "id": "f83a9f4b",
   "metadata": {},
   "outputs": [
    {
     "data": {
      "text/plain": [
       "(6481475, 37)"
      ]
     },
     "execution_count": 58,
     "metadata": {},
     "output_type": "execute_result"
    }
   ],
   "source": [
    "small.shape"
   ]
  },
  {
   "cell_type": "code",
   "execution_count": 68,
   "id": "d6113838",
   "metadata": {},
   "outputs": [
    {
     "data": {
      "image/png": "[encoded data removed]",
      "text/plain": [
       "<Figure size 432x288 with 1 Axes>"
      ]
     },
     "metadata": {},
     "output_type": "display_data"
    }
   ],
   "source": [
    "#pie chart for price range distribution\n",
    "labels = 'Mid-low range', 'Low-range product', 'Mid-high range', 'High-range product'\n",
    "sizes = small['price_range_loc'].value_counts()\n",
    "colors = ['#65DFF6','#00478F','#1A83CC', '#CBEBF5']\n",
    "textprops = {\"fontsize\":8}\n",
    "\n",
    "fig, ax = plt.subplots()\n",
    "ax.pie(sizes,labels=labels,colors=colors,autopct='%1.1f%%', startangle=180, textprops=textprops)\n",
    "ax.axis('equal')\n",
    "ax.set_title('Price range distribution', fontsize=20)\n",
    "\n",
    "plt.legend(loc=\"lower right\", fontsize=8)\n",
    "plt.show()"
   ]
  },
  {
   "cell_type": "code",
   "execution_count": 69,
   "id": "be5cce7b",
   "metadata": {},
   "outputs": [],
   "source": [
    "# exporting price range pie chart\n",
    "fig.figure.savefig(os.path.join(path, '04 Analysis','Visualizations', 'f3_1_price_pie.png'))"
   ]
  },
  {
   "cell_type": "markdown",
   "id": "e11fbbb5",
   "metadata": {},
   "source": [
    "### 05. Creating frequent customer flag and visualizations"
   ]
  },
  {
   "cell_type": "code",
   "execution_count": 70,
   "id": "54994fcd",
   "metadata": {},
   "outputs": [],
   "source": [
    "# Derriving a column with frequency customer flag\n",
    "small.loc[small['median_days_since_prior_order'] > 20, 'order_frequency_flag'] = 'Non-frequent customer'\n",
    "small.loc[(small['median_days_since_prior_order'] > 10) & (small['median_days_since_prior_order'] <= 20), 'order_frequency_flag'] = 'Recurring customer'\n",
    "small.loc[small['median_days_since_prior_order'] <= 10, 'order_frequency_flag'] = 'Frequent customer'"
   ]
  },
  {
   "cell_type": "code",
   "execution_count": 72,
   "id": "78375c30",
   "metadata": {},
   "outputs": [
    {
     "data": {
      "text/plain": [
       "Frequent customer        4310393\n",
       "Recurring customer       1443716\n",
       "Non-frequent customer     727365\n",
       "NaN                            1\n",
       "Name: order_frequency_flag, dtype: int64"
      ]
     },
     "execution_count": 72,
     "metadata": {},
     "output_type": "execute_result"
    }
   ],
   "source": [
    "# Checking the output\n",
    "small['order_frequency_flag'].value_counts(dropna = False)"
   ]
  },
  {
   "cell_type": "code",
   "execution_count": 76,
   "id": "14ac09e9",
   "metadata": {},
   "outputs": [],
   "source": [
    "#creating crosstab frequency flag and region\n",
    "crosstab_freq_spend = pd.crosstab(small['region'], small['order_frequency_flag'], dropna = False )"
   ]
  },
  {
   "cell_type": "code",
   "execution_count": 77,
   "id": "623bea00",
   "metadata": {},
   "outputs": [
    {
     "data": {
      "image/png": "[encoded data removed]",
      "text/plain": [
       "<Figure size 432x288 with 1 Axes>"
      ]
     },
     "metadata": {
      "needs_background": "light"
     },
     "output_type": "display_data"
    }
   ],
   "source": [
    "crosstab_freq_spend = crosstab_freq_spend.plot(kind = 'barh', stacked = True, color = ['#81B622','#59981A','#3D550C'], title = 'Frequency by Region')"
   ]
  },
  {
   "cell_type": "code",
   "execution_count": 78,
   "id": "f0404b6f",
   "metadata": {},
   "outputs": [
    {
     "data": {
      "image/png": "[encoded data removed]",
      "text/plain": [
       "<Figure size 432x288 with 1 Axes>"
      ]
     },
     "metadata": {
      "needs_background": "light"
     },
     "output_type": "display_data"
    }
   ],
   "source": [
    "order_by_region = small['region'].value_counts().sort_values().plot.barh(color = '#81B622', title = 'Order by Region')"
   ]
  },
  {
   "cell_type": "code",
   "execution_count": 79,
   "id": "11065da7",
   "metadata": {},
   "outputs": [],
   "source": [
    "#exporting the bar chart\n",
    "crosstab_freq_spend.figure.savefig(os.path.join(path, '04 Analysis','Visualizations', 'fs7_2_region_frequency.png'))\n",
    "order_by_region.figure.savefig(os.path.join(path, '04 Analysis','Visualizations', 'fs7_1_region_order.png'))"
   ]
  },
  {
   "cell_type": "markdown",
   "id": "ba71508b",
   "metadata": {},
   "source": [
    "### 06. Creating stack bar charts"
   ]
  },
  {
   "cell_type": "code",
   "execution_count": 80,
   "id": "dcbbf045",
   "metadata": {},
   "outputs": [],
   "source": [
    "#100% stacked bar chart for days since prior order by loyalty flag\n",
    "\n",
    "#creating crosstab for days since prior order and loyalty flag\n",
    "\n",
    "days_loyalty = pd.crosstab(index=small['days_since_prior_order'], columns=small['loyalty_flag'], normalize=\"index\")\n",
    "\n",
    "#creating cross tab to display labels\n",
    "\n",
    "days_loyalty_labels = pd.crosstab(index=small['days_since_prior_order'],columns=small['loyalty_flag'])"
   ]
  },
  {
   "cell_type": "code",
   "execution_count": 83,
   "id": "293b569e",
   "metadata": {},
   "outputs": [
    {
     "data": {
      "image/png": "[encoded data removed]",
      "text/plain": [
       "<Figure size 720x576 with 1 Axes>"
      ]
     },
     "metadata": {
      "needs_background": "light"
     },
     "output_type": "display_data"
    }
   ],
   "source": [
    "#plotting chart\n",
    "days_loyalty_dist=days_loyalty.plot(kind='bar', \n",
    "                        stacked=True, \n",
    "                        color=['#0B0BFF','#6666FF','#9494FF'], \n",
    "                        figsize=(10,8))\n",
    "\n",
    "plt.legend(loc=\"upper center\", ncol=3)\n",
    "plt.ylabel(\"proportion\")\n",
    "plt.xlabel(\"days since prior order\")\n",
    "\n",
    "\n",
    "plt.show()"
   ]
  },
  {
   "cell_type": "code",
   "execution_count": 84,
   "id": "c22069c5",
   "metadata": {},
   "outputs": [],
   "source": [
    "#100% stacked bar chart for income level for each profile\n",
    "\n",
    "#creating crosstab for income level and profile\n",
    "\n",
    "profile_income = pd.crosstab(index=small['profile'], columns=small['income_level'], normalize=\"index\")\n",
    "\n",
    "#creating cross tab to display labels\n",
    "\n",
    "profile_income_labels = pd.crosstab(index=small['profile'],columns=small['income_level'])"
   ]
  },
  {
   "cell_type": "code",
   "execution_count": 86,
   "id": "86cc2bd2",
   "metadata": {},
   "outputs": [
    {
     "data": {
      "image/png": "[encoded data removed]",
      "text/plain": [
       "<Figure size 1008x720 with 1 Axes>"
      ]
     },
     "metadata": {
      "needs_background": "light"
     },
     "output_type": "display_data"
    }
   ],
   "source": [
    "#plotting chart\n",
    "profile_income_dist=profile_income.plot(kind='bar', \n",
    "                        stacked=True, \n",
    "                        color=['#A92420', '#D1913E', '#0E3160','#135390'], \n",
    "                        figsize=(14,10))\n",
    "\n",
    "plt.legend(loc=\"upper center\", ncol=4)\n",
    "plt.ylabel(\"proportion\")\n",
    "plt.xlabel(\"profile\")\n",
    "\n",
    "\n",
    "for n, y in enumerate([*profile_income_labels.index.values]):\n",
    "    for (proportion, count, x_loc) in zip(profile_income.loc[y],\n",
    "                                         profile_income_labels.loc[y],\n",
    "                                          profile_income.loc[y].cumsum()):\n",
    "                \n",
    "        plt.text(y=(x_loc - proportion) + (proportion / 2),\n",
    "                 x=n - 0.11,            \n",
    "                 s=f'{np.round(proportion * 100, 1)}%', \n",
    "                 color=\"white\",\n",
    "                 fontsize=8)\n",
    "\n",
    "plt.show()"
   ]
  },
  {
   "cell_type": "code",
   "execution_count": 87,
   "id": "311bf2f4",
   "metadata": {},
   "outputs": [],
   "source": [
    "#100% stacked bar chart for income level by age group\n",
    "\n",
    "#creating crosstab for income level and age group\n",
    "\n",
    "age_income = pd.crosstab(index=small['age_group'], columns=small['income_level'], normalize=\"index\")\n",
    "\n",
    "#creating cross tab to display labels\n",
    "\n",
    "age_income_labels = pd.crosstab(index=small['age_group'],columns=small['income_level'])"
   ]
  },
  {
   "cell_type": "code",
   "execution_count": 88,
   "id": "1f6e625f",
   "metadata": {},
   "outputs": [
    {
     "data": {
      "image/png": "[encoded data removed]",
      "text/plain": [
       "<Figure size 1008x720 with 1 Axes>"
      ]
     },
     "metadata": {
      "needs_background": "light"
     },
     "output_type": "display_data"
    }
   ],
   "source": [
    "#plotting chart\n",
    "age_income_dist=age_income.plot(kind='bar', \n",
    "                        stacked=True, \n",
    "                        color=['#A92420', '#D1913E', '#0E3160','#135390'], \n",
    "                        figsize=(14,10))\n",
    "\n",
    "plt.legend(loc=\"upper center\", ncol=4)\n",
    "plt.ylabel(\"proportion\")\n",
    "plt.xlabel(\"age group\")\n",
    "\n",
    "\n",
    "for n, y in enumerate([*age_income_labels.index.values]):\n",
    "    for (proportion, count, x_loc) in zip(age_income.loc[y],\n",
    "                                         age_income_labels.loc[y],\n",
    "                                          age_income.loc[y].cumsum()):\n",
    "                \n",
    "        plt.text(y=(x_loc - proportion) + (proportion / 2),\n",
    "                 x=n - 0.11,            \n",
    "                 s=f'{np.round(proportion * 100, 1)}%', \n",
    "                 color=\"white\",\n",
    "                 fontsize=8)\n",
    "\n",
    "plt.show()"
   ]
  },
  {
   "cell_type": "code",
   "execution_count": 89,
   "id": "920a953b",
   "metadata": {},
   "outputs": [],
   "source": [
    "#100% stacked bar chart for income level by marital status\n",
    "\n",
    "#creating crosstab for income level and marital status\n",
    "\n",
    "marital_income = pd.crosstab(index=small['marital_status'], columns=small['income_level'], normalize=\"index\")\n",
    "\n",
    "#creating cross tab to display labels\n",
    "\n",
    "marital_income_labels = pd.crosstab(index=small['marital_status'],columns=small['income_level'])"
   ]
  },
  {
   "cell_type": "code",
   "execution_count": 90,
   "id": "b0949b63",
   "metadata": {},
   "outputs": [
    {
     "data": {
      "image/png": "[encoded data removed]",
      "text/plain": [
       "<Figure size 1008x720 with 1 Axes>"
      ]
     },
     "metadata": {
      "needs_background": "light"
     },
     "output_type": "display_data"
    }
   ],
   "source": [
    "#plotting chart\n",
    "marital_income_dist=marital_income.plot(kind='bar', \n",
    "                        stacked=True, \n",
    "                        color=['#A92420', '#D1913E', '#0E3160','#135390'], \n",
    "                        figsize=(14,10))\n",
    "\n",
    "plt.legend(loc=\"upper center\", ncol=4)\n",
    "plt.ylabel(\"proportion\")\n",
    "plt.xlabel(\"marital status\")\n",
    "\n",
    "\n",
    "for n, y in enumerate([*marital_income_labels.index.values]):\n",
    "    for (proportion, count, x_loc) in zip(marital_income.loc[y],\n",
    "                                         marital_income_labels.loc[y],\n",
    "                                          marital_income.loc[y].cumsum()):\n",
    "                \n",
    "        plt.text(y=(x_loc - proportion) + (proportion / 2),\n",
    "                 x=n - 0.11,            \n",
    "                 s=f'{np.round(proportion * 100, 1)}%', \n",
    "                 color=\"white\",\n",
    "                 fontsize=8)\n",
    "\n",
    "plt.show()"
   ]
  },
  {
   "cell_type": "code",
   "execution_count": 91,
   "id": "f38772e8",
   "metadata": {},
   "outputs": [],
   "source": [
    "#importing departments dataset\n",
    "departments=pd.read_csv(os.path.join(path, '02 Data', 'Prepared Data', 'departments_wrangled.csv'),index_col=False)"
   ]
  },
  {
   "cell_type": "code",
   "execution_count": 92,
   "id": "edc0357a",
   "metadata": {},
   "outputs": [
    {
     "data": {
      "text/plain": [
       "{1: 'frozen',\n",
       " 2: 'other',\n",
       " 3: 'bakery',\n",
       " 4: 'produce',\n",
       " 5: 'alcohol',\n",
       " 6: 'international',\n",
       " 7: 'beverages',\n",
       " 8: 'pets',\n",
       " 9: 'dry goods pasta',\n",
       " 10: 'bulk',\n",
       " 11: 'personal care',\n",
       " 12: 'meat seafood',\n",
       " 13: 'pantry',\n",
       " 14: 'breakfast',\n",
       " 15: 'canned goods',\n",
       " 16: 'dairy eggs',\n",
       " 17: 'household',\n",
       " 18: 'babies',\n",
       " 19: 'snacks',\n",
       " 20: 'deli',\n",
       " 21: 'missing'}"
      ]
     },
     "execution_count": 92,
     "metadata": {},
     "output_type": "execute_result"
    }
   ],
   "source": [
    "#creating data dictionary for department id\n",
    "zipped=zip(departments['Unnamed: 0'], departments['department'])\n",
    "data_dict=dict(zipped)\n",
    "data_dict"
   ]
  },
  {
   "cell_type": "code",
   "execution_count": 93,
   "id": "fc4fa86b",
   "metadata": {},
   "outputs": [
    {
     "name": "stderr",
     "output_type": "stream",
     "text": [
      "C:\\Users\\iryna\\AppData\\Local\\Temp\\ipykernel_1176\\2194054592.py:2: SettingWithCopyWarning: \n",
      "A value is trying to be set on a copy of a slice from a DataFrame.\n",
      "Try using .loc[row_indexer,col_indexer] = value instead\n",
      "\n",
      "See the caveats in the documentation: https://pandas.pydata.org/pandas-docs/stable/user_guide/indexing.html#returning-a-view-versus-a-copy\n",
      "  small['department'] = small['department_id'].map(data_dict)\n"
     ]
    },
    {
     "data": {
      "text/html": [
       "<div>\n",
       "<style scoped>\n",
       "    .dataframe tbody tr th:only-of-type {\n",
       "        vertical-align: middle;\n",
       "    }\n",
       "\n",
       "    .dataframe tbody tr th {\n",
       "        vertical-align: top;\n",
       "    }\n",
       "\n",
       "    .dataframe thead th {\n",
       "        text-align: right;\n",
       "    }\n",
       "</style>\n",
       "<table border=\"1\" class=\"dataframe\">\n",
       "  <thead>\n",
       "    <tr style=\"text-align: right;\">\n",
       "      <th></th>\n",
       "      <th>order_id</th>\n",
       "      <th>user_id</th>\n",
       "      <th>order_number</th>\n",
       "      <th>order_day_of_week</th>\n",
       "      <th>order_time_of_day</th>\n",
       "      <th>days_since_prior_order</th>\n",
       "      <th>product_id</th>\n",
       "      <th>add_to_cart_order</th>\n",
       "      <th>reordered</th>\n",
       "      <th>product_name</th>\n",
       "      <th>aisle_id</th>\n",
       "      <th>department_id</th>\n",
       "      <th>prices</th>\n",
       "      <th>_merge</th>\n",
       "      <th>price_range_loc</th>\n",
       "      <th>busiest day</th>\n",
       "      <th>busiest days</th>\n",
       "      <th>busiest_period_of_day</th>\n",
       "      <th>max_order</th>\n",
       "      <th>loyalty_flag</th>\n",
       "      <th>avg_price_spent</th>\n",
       "      <th>spender_flag</th>\n",
       "      <th>median_days_since_prior_order</th>\n",
       "      <th>order_frequency_flag</th>\n",
       "      <th>gender_identity</th>\n",
       "      <th>state</th>\n",
       "      <th>age</th>\n",
       "      <th>date_joined</th>\n",
       "      <th>dependants_#</th>\n",
       "      <th>marital_status</th>\n",
       "      <th>income</th>\n",
       "      <th>age_group</th>\n",
       "      <th>income_level</th>\n",
       "      <th>profile</th>\n",
       "      <th>region</th>\n",
       "      <th>day_of_week</th>\n",
       "      <th>spending_flag</th>\n",
       "      <th>department</th>\n",
       "    </tr>\n",
       "  </thead>\n",
       "  <tbody>\n",
       "    <tr>\n",
       "      <th>0</th>\n",
       "      <td>2539329</td>\n",
       "      <td>1</td>\n",
       "      <td>1</td>\n",
       "      <td>2</td>\n",
       "      <td>8</td>\n",
       "      <td>NaN</td>\n",
       "      <td>196.0</td>\n",
       "      <td>1.0</td>\n",
       "      <td>0.0</td>\n",
       "      <td>Soda</td>\n",
       "      <td>77</td>\n",
       "      <td>7</td>\n",
       "      <td>9.000000</td>\n",
       "      <td>both</td>\n",
       "      <td>Mid-low range</td>\n",
       "      <td>Regularly busy</td>\n",
       "      <td>Regularly busy</td>\n",
       "      <td>Average orders</td>\n",
       "      <td>10</td>\n",
       "      <td>New customer</td>\n",
       "      <td>6.367188</td>\n",
       "      <td>Low spender</td>\n",
       "      <td>20.5</td>\n",
       "      <td>Non-frequent customer</td>\n",
       "      <td>Female</td>\n",
       "      <td>Alabama</td>\n",
       "      <td>31</td>\n",
       "      <td>2/17/2019</td>\n",
       "      <td>3</td>\n",
       "      <td>married</td>\n",
       "      <td>40423</td>\n",
       "      <td>Young</td>\n",
       "      <td>Middle</td>\n",
       "      <td>Single parent</td>\n",
       "      <td>South</td>\n",
       "      <td>Monday</td>\n",
       "      <td>high spender</td>\n",
       "      <td>beverages</td>\n",
       "    </tr>\n",
       "    <tr>\n",
       "      <th>2</th>\n",
       "      <td>473747</td>\n",
       "      <td>1</td>\n",
       "      <td>3</td>\n",
       "      <td>3</td>\n",
       "      <td>12</td>\n",
       "      <td>21.0</td>\n",
       "      <td>196.0</td>\n",
       "      <td>1.0</td>\n",
       "      <td>1.0</td>\n",
       "      <td>Soda</td>\n",
       "      <td>77</td>\n",
       "      <td>7</td>\n",
       "      <td>9.000000</td>\n",
       "      <td>both</td>\n",
       "      <td>Mid-low range</td>\n",
       "      <td>Regularly busy</td>\n",
       "      <td>Least busy</td>\n",
       "      <td>Most orders</td>\n",
       "      <td>10</td>\n",
       "      <td>New customer</td>\n",
       "      <td>6.367188</td>\n",
       "      <td>Low spender</td>\n",
       "      <td>20.5</td>\n",
       "      <td>Non-frequent customer</td>\n",
       "      <td>Female</td>\n",
       "      <td>Alabama</td>\n",
       "      <td>31</td>\n",
       "      <td>2/17/2019</td>\n",
       "      <td>3</td>\n",
       "      <td>married</td>\n",
       "      <td>40423</td>\n",
       "      <td>Young</td>\n",
       "      <td>Middle</td>\n",
       "      <td>Single parent</td>\n",
       "      <td>South</td>\n",
       "      <td>Tuesday</td>\n",
       "      <td>high spender</td>\n",
       "      <td>beverages</td>\n",
       "    </tr>\n",
       "    <tr>\n",
       "      <th>6</th>\n",
       "      <td>550135</td>\n",
       "      <td>1</td>\n",
       "      <td>7</td>\n",
       "      <td>1</td>\n",
       "      <td>9</td>\n",
       "      <td>20.0</td>\n",
       "      <td>196.0</td>\n",
       "      <td>1.0</td>\n",
       "      <td>1.0</td>\n",
       "      <td>Soda</td>\n",
       "      <td>77</td>\n",
       "      <td>7</td>\n",
       "      <td>9.000000</td>\n",
       "      <td>both</td>\n",
       "      <td>Mid-low range</td>\n",
       "      <td>Regularly busy</td>\n",
       "      <td>Busiest day</td>\n",
       "      <td>Most orders</td>\n",
       "      <td>10</td>\n",
       "      <td>New customer</td>\n",
       "      <td>6.367188</td>\n",
       "      <td>Low spender</td>\n",
       "      <td>20.5</td>\n",
       "      <td>Non-frequent customer</td>\n",
       "      <td>Female</td>\n",
       "      <td>Alabama</td>\n",
       "      <td>31</td>\n",
       "      <td>2/17/2019</td>\n",
       "      <td>3</td>\n",
       "      <td>married</td>\n",
       "      <td>40423</td>\n",
       "      <td>Young</td>\n",
       "      <td>Middle</td>\n",
       "      <td>Single parent</td>\n",
       "      <td>South</td>\n",
       "      <td>Sunday</td>\n",
       "      <td>high spender</td>\n",
       "      <td>beverages</td>\n",
       "    </tr>\n",
       "    <tr>\n",
       "      <th>12</th>\n",
       "      <td>2398795</td>\n",
       "      <td>1</td>\n",
       "      <td>2</td>\n",
       "      <td>3</td>\n",
       "      <td>7</td>\n",
       "      <td>15.0</td>\n",
       "      <td>12424.0</td>\n",
       "      <td>3.0</td>\n",
       "      <td>1.0</td>\n",
       "      <td>Original Beef Jerky</td>\n",
       "      <td>23</td>\n",
       "      <td>19</td>\n",
       "      <td>4.398438</td>\n",
       "      <td>both</td>\n",
       "      <td>Low range product</td>\n",
       "      <td>Regularly busy</td>\n",
       "      <td>Least busy</td>\n",
       "      <td>Average orders</td>\n",
       "      <td>10</td>\n",
       "      <td>New customer</td>\n",
       "      <td>6.367188</td>\n",
       "      <td>Low spender</td>\n",
       "      <td>20.5</td>\n",
       "      <td>Non-frequent customer</td>\n",
       "      <td>Female</td>\n",
       "      <td>Alabama</td>\n",
       "      <td>31</td>\n",
       "      <td>2/17/2019</td>\n",
       "      <td>3</td>\n",
       "      <td>married</td>\n",
       "      <td>40423</td>\n",
       "      <td>Young</td>\n",
       "      <td>Middle</td>\n",
       "      <td>Single parent</td>\n",
       "      <td>South</td>\n",
       "      <td>Tuesday</td>\n",
       "      <td>low spender</td>\n",
       "      <td>snacks</td>\n",
       "    </tr>\n",
       "    <tr>\n",
       "      <th>13</th>\n",
       "      <td>473747</td>\n",
       "      <td>1</td>\n",
       "      <td>3</td>\n",
       "      <td>3</td>\n",
       "      <td>12</td>\n",
       "      <td>21.0</td>\n",
       "      <td>12424.0</td>\n",
       "      <td>2.0</td>\n",
       "      <td>1.0</td>\n",
       "      <td>Original Beef Jerky</td>\n",
       "      <td>23</td>\n",
       "      <td>19</td>\n",
       "      <td>4.398438</td>\n",
       "      <td>both</td>\n",
       "      <td>Low range product</td>\n",
       "      <td>Regularly busy</td>\n",
       "      <td>Least busy</td>\n",
       "      <td>Most orders</td>\n",
       "      <td>10</td>\n",
       "      <td>New customer</td>\n",
       "      <td>6.367188</td>\n",
       "      <td>Low spender</td>\n",
       "      <td>20.5</td>\n",
       "      <td>Non-frequent customer</td>\n",
       "      <td>Female</td>\n",
       "      <td>Alabama</td>\n",
       "      <td>31</td>\n",
       "      <td>2/17/2019</td>\n",
       "      <td>3</td>\n",
       "      <td>married</td>\n",
       "      <td>40423</td>\n",
       "      <td>Young</td>\n",
       "      <td>Middle</td>\n",
       "      <td>Single parent</td>\n",
       "      <td>South</td>\n",
       "      <td>Tuesday</td>\n",
       "      <td>low spender</td>\n",
       "      <td>snacks</td>\n",
       "    </tr>\n",
       "  </tbody>\n",
       "</table>\n",
       "</div>"
      ],
      "text/plain": [
       "    order_id  user_id  order_number  order_day_of_week  order_time_of_day  \\\n",
       "0    2539329        1             1                  2                  8   \n",
       "2     473747        1             3                  3                 12   \n",
       "6     550135        1             7                  1                  9   \n",
       "12   2398795        1             2                  3                  7   \n",
       "13    473747        1             3                  3                 12   \n",
       "\n",
       "    days_since_prior_order  product_id  add_to_cart_order  reordered  \\\n",
       "0                      NaN       196.0                1.0        0.0   \n",
       "2                     21.0       196.0                1.0        1.0   \n",
       "6                     20.0       196.0                1.0        1.0   \n",
       "12                    15.0     12424.0                3.0        1.0   \n",
       "13                    21.0     12424.0                2.0        1.0   \n",
       "\n",
       "           product_name  aisle_id  department_id    prices _merge  \\\n",
       "0                  Soda        77              7  9.000000   both   \n",
       "2                  Soda        77              7  9.000000   both   \n",
       "6                  Soda        77              7  9.000000   both   \n",
       "12  Original Beef Jerky        23             19  4.398438   both   \n",
       "13  Original Beef Jerky        23             19  4.398438   both   \n",
       "\n",
       "      price_range_loc     busiest day    busiest days busiest_period_of_day  \\\n",
       "0       Mid-low range  Regularly busy  Regularly busy        Average orders   \n",
       "2       Mid-low range  Regularly busy      Least busy           Most orders   \n",
       "6       Mid-low range  Regularly busy     Busiest day           Most orders   \n",
       "12  Low range product  Regularly busy      Least busy        Average orders   \n",
       "13  Low range product  Regularly busy      Least busy           Most orders   \n",
       "\n",
       "    max_order  loyalty_flag  avg_price_spent spender_flag  \\\n",
       "0          10  New customer         6.367188  Low spender   \n",
       "2          10  New customer         6.367188  Low spender   \n",
       "6          10  New customer         6.367188  Low spender   \n",
       "12         10  New customer         6.367188  Low spender   \n",
       "13         10  New customer         6.367188  Low spender   \n",
       "\n",
       "    median_days_since_prior_order   order_frequency_flag gender_identity  \\\n",
       "0                            20.5  Non-frequent customer          Female   \n",
       "2                            20.5  Non-frequent customer          Female   \n",
       "6                            20.5  Non-frequent customer          Female   \n",
       "12                           20.5  Non-frequent customer          Female   \n",
       "13                           20.5  Non-frequent customer          Female   \n",
       "\n",
       "      state  age date_joined  dependants_# marital_status  income age_group  \\\n",
       "0   Alabama   31   2/17/2019             3        married   40423     Young   \n",
       "2   Alabama   31   2/17/2019             3        married   40423     Young   \n",
       "6   Alabama   31   2/17/2019             3        married   40423     Young   \n",
       "12  Alabama   31   2/17/2019             3        married   40423     Young   \n",
       "13  Alabama   31   2/17/2019             3        married   40423     Young   \n",
       "\n",
       "   income_level        profile region day_of_week spending_flag department  \n",
       "0        Middle  Single parent  South      Monday  high spender  beverages  \n",
       "2        Middle  Single parent  South     Tuesday  high spender  beverages  \n",
       "6        Middle  Single parent  South      Sunday  high spender  beverages  \n",
       "12       Middle  Single parent  South     Tuesday   low spender     snacks  \n",
       "13       Middle  Single parent  South     Tuesday   low spender     snacks  "
      ]
     },
     "execution_count": 93,
     "metadata": {},
     "output_type": "execute_result"
    }
   ],
   "source": [
    "# mapping  department names to department id in dataframe\n",
    "small['department'] = small['department_id'].map(data_dict)\n",
    "small.head()"
   ]
  },
  {
   "cell_type": "code",
   "execution_count": 94,
   "id": "145eda54",
   "metadata": {},
   "outputs": [],
   "source": [
    "#100% stacked bar chart for income level by department\n",
    "\n",
    "#creating crosstab for income level and department\n",
    "\n",
    "dep_income = pd.crosstab(index=small['department'], columns=small['income_level'], normalize=\"index\")\n",
    "\n",
    "#creating cross tab to display labels\n",
    "\n",
    "dep_income_labels = pd.crosstab(index=small['department'],columns=small['income_level'])"
   ]
  },
  {
   "cell_type": "code",
   "execution_count": 111,
   "id": "1e5412b3",
   "metadata": {},
   "outputs": [
    {
     "data": {
      "image/png": "[encoded data removed]",
      "text/plain": [
       "<Figure size 1296x1008 with 1 Axes>"
      ]
     },
     "metadata": {
      "needs_background": "light"
     },
     "output_type": "display_data"
    }
   ],
   "source": [
    "#plotting chart\n",
    "dep_income_dist=dep_income.plot(kind='bar', \n",
    "                                width=(0.9),\n",
    "                        stacked=True, \n",
    "                        color=['#A92420', '#D1913E', '#0E3160','#135390'], \n",
    "                        figsize=(18,14))\n",
    "\n",
    "plt.legend(loc=\"upper center\", ncol=4)\n",
    "plt.ylabel(\"proportion\")\n",
    "plt.xlabel(\"department\")\n",
    "\n",
    "\n",
    "for n, y in enumerate([*dep_income_labels.index.values]):\n",
    "    for (proportion, count, x_loc) in zip(dep_income.loc[y],\n",
    "                                         dep_income_labels.loc[y],\n",
    "                                          dep_income.loc[y].cumsum()):\n",
    "                \n",
    "        plt.text(y=(x_loc - proportion) + (proportion / 2),\n",
    "                 x=n - 0.2,            \n",
    "                 s=f'{np.round(proportion * 100,1)}%', \n",
    "                 color=\"white\",\n",
    "                 fontsize=10)\n",
    "\n",
    "plt.show()"
   ]
  },
  {
   "cell_type": "markdown",
   "id": "193b16e2",
   "metadata": {},
   "source": [
    "### 07. Income level distribution"
   ]
  },
  {
   "cell_type": "code",
   "execution_count": 112,
   "id": "93703763",
   "metadata": {},
   "outputs": [
    {
     "data": {
      "text/plain": [
       "Middle      4221717\n",
       "Affluent    1862395\n",
       "Low          345957\n",
       "High          51406\n",
       "Name: income_level, dtype: int64"
      ]
     },
     "execution_count": 112,
     "metadata": {},
     "output_type": "execute_result"
    }
   ],
   "source": [
    "# Dictribution of income level\n",
    "small['income_level'].value_counts(dropna=False)"
   ]
  },
  {
   "cell_type": "code",
   "execution_count": 113,
   "id": "90163872",
   "metadata": {},
   "outputs": [
    {
     "data": {
      "image/png": "[encoded data removed]",
      "text/plain": [
       "<Figure size 432x288 with 1 Axes>"
      ]
     },
     "metadata": {},
     "output_type": "display_data"
    }
   ],
   "source": [
    "#pie chart for income level distribution\n",
    "labels = 'Middle', 'Affluent', 'Low', 'High'\n",
    "sizes = small['income_level'].value_counts()\n",
    "colors = ['#A92420', '#D1913E', '#0E3160','#135390']\n",
    "textprops = {\"fontsize\":8}\n",
    "\n",
    "fig, ax = plt.subplots()\n",
    "ax.pie(sizes,labels=labels,colors=colors,autopct='%1.1f%%', startangle=180, textprops=textprops)\n",
    "ax.axis('equal')\n",
    "ax.set_title('Income Level distribution', fontsize=20)\n",
    "\n",
    "plt.legend(loc=\"lower right\", fontsize=8)\n",
    "plt.show()"
   ]
  },
  {
   "cell_type": "code",
   "execution_count": null,
   "id": "53a9095f",
   "metadata": {},
   "outputs": [],
   "source": []
  }
 ],
 "metadata": {
  "kernelspec": {
   "display_name": "Python 3 (ipykernel)",
   "language": "python",
   "name": "python3"
  },
  "language_info": {
   "codemirror_mode": {
    "name": "ipython",
    "version": 3
   },
   "file_extension": ".py",
   "mimetype": "text/x-python",
   "name": "python",
   "nbconvert_exporter": "python",
   "pygments_lexer": "ipython3",
   "version": "3.9.12"
  }
 },
 "nbformat": 4,
 "nbformat_minor": 5
}
