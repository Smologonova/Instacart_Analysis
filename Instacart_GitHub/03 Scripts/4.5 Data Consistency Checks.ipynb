{
 "cells": [
  {
   "cell_type": "markdown",
   "id": "9123d0a1",
   "metadata": {},
   "source": [
    "## Table of contents"
   ]
  },
  {
   "cell_type": "markdown",
   "id": "9ca39b0c",
   "metadata": {},
   "source": [
    "## 01. Importing Libraries"
   ]
  },
  {
   "cell_type": "markdown",
   "id": "cc9fb6a7",
   "metadata": {},
   "source": [
    "## 02 Importing Data"
   ]
  },
  {
   "cell_type": "markdown",
   "id": "783ddf2e",
   "metadata": {},
   "source": [
    "## 03 Data Consistency Check"
   ]
  },
  {
   "cell_type": "markdown",
   "id": "61b56111",
   "metadata": {},
   "source": [
    "## 04 Mix data checking"
   ]
  },
  {
   "cell_type": "markdown",
   "id": "c1bb9ca3",
   "metadata": {},
   "source": [
    "## 05 Addressing missing values"
   ]
  },
  {
   "cell_type": "markdown",
   "id": "62d38d88",
   "metadata": {},
   "source": [
    "## 06 Checking duplicates"
   ]
  },
  {
   "cell_type": "markdown",
   "id": "25dd6ff9",
   "metadata": {},
   "source": [
    "## TASK 4.5"
   ]
  },
  {
   "cell_type": "code",
   "execution_count": null,
   "id": "431202b9",
   "metadata": {},
   "outputs": [],
   "source": []
  },
  {
   "cell_type": "markdown",
   "id": "27b9a414",
   "metadata": {},
   "source": [
    "## 01. Importing Libraries"
   ]
  },
  {
   "cell_type": "code",
   "execution_count": 5,
   "id": "5784e1fd",
   "metadata": {},
   "outputs": [],
   "source": [
    "# Import librarieshttp://localhost:8888/notebooks/Documents/Data%20analytics/Career%20foundry/4.%20Python/06-2022%20Instacart%20Basket%20Analysis/03%20Scripts/4.4%20Data%20Wrangling%20%26%20Subsetting.ipynb#01.-Importing-Libraries\n",
    "import pandas as pd\n",
    "import numpy as np\n",
    "import os"
   ]
  },
  {
   "cell_type": "markdown",
   "id": "7d9b7c1f",
   "metadata": {},
   "source": [
    "## 02 Importing Data"
   ]
  },
  {
   "cell_type": "code",
   "execution_count": 6,
   "id": "be2c3896",
   "metadata": {},
   "outputs": [],
   "source": [
    "path = r'C:\\Users\\iryna\\Documents\\Data analytics\\Career foundry\\4. Python\\06-2022 Instacart Basket Analysis'"
   ]
  },
  {
   "cell_type": "code",
   "execution_count": 7,
   "id": "42269f40",
   "metadata": {},
   "outputs": [],
   "source": [
    "df_ords = pd.read_csv(os.path.join(path, '02 Data', 'Original Data', 'orders.csv'), index_col = False)"
   ]
  },
  {
   "cell_type": "code",
   "execution_count": 8,
   "id": "839fef75",
   "metadata": {},
   "outputs": [],
   "source": [
    "df_prods = pd.read_csv(os.path.join(path, '02 Data', 'Original Data', 'products.csv'), index_col = False)"
   ]
  },
  {
   "cell_type": "markdown",
   "id": "21943776",
   "metadata": {},
   "source": [
    "## 03 Data Consistency Check"
   ]
  },
  {
   "cell_type": "code",
   "execution_count": 9,
   "id": "d5d1ded1",
   "metadata": {},
   "outputs": [
    {
     "data": {
      "text/html": [
       "<div>\n",
       "<style scoped>\n",
       "    .dataframe tbody tr th:only-of-type {\n",
       "        vertical-align: middle;\n",
       "    }\n",
       "\n",
       "    .dataframe tbody tr th {\n",
       "        vertical-align: top;\n",
       "    }\n",
       "\n",
       "    .dataframe thead th {\n",
       "        text-align: right;\n",
       "    }\n",
       "</style>\n",
       "<table border=\"1\" class=\"dataframe\">\n",
       "  <thead>\n",
       "    <tr style=\"text-align: right;\">\n",
       "      <th></th>\n",
       "      <th>order_id</th>\n",
       "      <th>user_id</th>\n",
       "      <th>order_number</th>\n",
       "      <th>order_dow</th>\n",
       "      <th>order_hour_of_day</th>\n",
       "      <th>days_since_prior_order</th>\n",
       "    </tr>\n",
       "  </thead>\n",
       "  <tbody>\n",
       "    <tr>\n",
       "      <th>count</th>\n",
       "      <td>3.421083e+06</td>\n",
       "      <td>3.421083e+06</td>\n",
       "      <td>3.421083e+06</td>\n",
       "      <td>3.421083e+06</td>\n",
       "      <td>3.421083e+06</td>\n",
       "      <td>3.214874e+06</td>\n",
       "    </tr>\n",
       "    <tr>\n",
       "      <th>mean</th>\n",
       "      <td>1.710542e+06</td>\n",
       "      <td>1.029782e+05</td>\n",
       "      <td>1.715486e+01</td>\n",
       "      <td>2.776219e+00</td>\n",
       "      <td>1.345202e+01</td>\n",
       "      <td>1.111484e+01</td>\n",
       "    </tr>\n",
       "    <tr>\n",
       "      <th>std</th>\n",
       "      <td>9.875817e+05</td>\n",
       "      <td>5.953372e+04</td>\n",
       "      <td>1.773316e+01</td>\n",
       "      <td>2.046829e+00</td>\n",
       "      <td>4.226088e+00</td>\n",
       "      <td>9.206737e+00</td>\n",
       "    </tr>\n",
       "    <tr>\n",
       "      <th>min</th>\n",
       "      <td>1.000000e+00</td>\n",
       "      <td>1.000000e+00</td>\n",
       "      <td>1.000000e+00</td>\n",
       "      <td>0.000000e+00</td>\n",
       "      <td>0.000000e+00</td>\n",
       "      <td>0.000000e+00</td>\n",
       "    </tr>\n",
       "    <tr>\n",
       "      <th>25%</th>\n",
       "      <td>8.552715e+05</td>\n",
       "      <td>5.139400e+04</td>\n",
       "      <td>5.000000e+00</td>\n",
       "      <td>1.000000e+00</td>\n",
       "      <td>1.000000e+01</td>\n",
       "      <td>4.000000e+00</td>\n",
       "    </tr>\n",
       "    <tr>\n",
       "      <th>50%</th>\n",
       "      <td>1.710542e+06</td>\n",
       "      <td>1.026890e+05</td>\n",
       "      <td>1.100000e+01</td>\n",
       "      <td>3.000000e+00</td>\n",
       "      <td>1.300000e+01</td>\n",
       "      <td>7.000000e+00</td>\n",
       "    </tr>\n",
       "    <tr>\n",
       "      <th>75%</th>\n",
       "      <td>2.565812e+06</td>\n",
       "      <td>1.543850e+05</td>\n",
       "      <td>2.300000e+01</td>\n",
       "      <td>5.000000e+00</td>\n",
       "      <td>1.600000e+01</td>\n",
       "      <td>1.500000e+01</td>\n",
       "    </tr>\n",
       "    <tr>\n",
       "      <th>max</th>\n",
       "      <td>3.421083e+06</td>\n",
       "      <td>2.062090e+05</td>\n",
       "      <td>1.000000e+02</td>\n",
       "      <td>6.000000e+00</td>\n",
       "      <td>2.300000e+01</td>\n",
       "      <td>3.000000e+01</td>\n",
       "    </tr>\n",
       "  </tbody>\n",
       "</table>\n",
       "</div>"
      ],
      "text/plain": [
       "           order_id       user_id  order_number     order_dow  \\\n",
       "count  3.421083e+06  3.421083e+06  3.421083e+06  3.421083e+06   \n",
       "mean   1.710542e+06  1.029782e+05  1.715486e+01  2.776219e+00   \n",
       "std    9.875817e+05  5.953372e+04  1.773316e+01  2.046829e+00   \n",
       "min    1.000000e+00  1.000000e+00  1.000000e+00  0.000000e+00   \n",
       "25%    8.552715e+05  5.139400e+04  5.000000e+00  1.000000e+00   \n",
       "50%    1.710542e+06  1.026890e+05  1.100000e+01  3.000000e+00   \n",
       "75%    2.565812e+06  1.543850e+05  2.300000e+01  5.000000e+00   \n",
       "max    3.421083e+06  2.062090e+05  1.000000e+02  6.000000e+00   \n",
       "\n",
       "       order_hour_of_day  days_since_prior_order  \n",
       "count       3.421083e+06            3.214874e+06  \n",
       "mean        1.345202e+01            1.111484e+01  \n",
       "std         4.226088e+00            9.206737e+00  \n",
       "min         0.000000e+00            0.000000e+00  \n",
       "25%         1.000000e+01            4.000000e+00  \n",
       "50%         1.300000e+01            7.000000e+00  \n",
       "75%         1.600000e+01            1.500000e+01  \n",
       "max         2.300000e+01            3.000000e+01  "
      ]
     },
     "execution_count": 9,
     "metadata": {},
     "output_type": "execute_result"
    }
   ],
   "source": [
    "df_ords.describe()"
   ]
  },
  {
   "cell_type": "markdown",
   "id": "127321bf",
   "metadata": {},
   "source": [
    "## 04 Mix data checking"
   ]
  },
  {
   "cell_type": "code",
   "execution_count": 10,
   "id": "93bdcccb",
   "metadata": {},
   "outputs": [],
   "source": [
    "# Create a dataframe\n",
    "df_test = pd.DataFrame()"
   ]
  },
  {
   "cell_type": "code",
   "execution_count": 11,
   "id": "66834878",
   "metadata": {},
   "outputs": [],
   "source": [
    "# Create a mixed type column\n",
    "df_test['mix'] = ['a', 'b', 1, True]"
   ]
  },
  {
   "cell_type": "code",
   "execution_count": 12,
   "id": "d6901480",
   "metadata": {},
   "outputs": [
    {
     "data": {
      "text/html": [
       "<div>\n",
       "<style scoped>\n",
       "    .dataframe tbody tr th:only-of-type {\n",
       "        vertical-align: middle;\n",
       "    }\n",
       "\n",
       "    .dataframe tbody tr th {\n",
       "        vertical-align: top;\n",
       "    }\n",
       "\n",
       "    .dataframe thead th {\n",
       "        text-align: right;\n",
       "    }\n",
       "</style>\n",
       "<table border=\"1\" class=\"dataframe\">\n",
       "  <thead>\n",
       "    <tr style=\"text-align: right;\">\n",
       "      <th></th>\n",
       "      <th>mix</th>\n",
       "    </tr>\n",
       "  </thead>\n",
       "  <tbody>\n",
       "    <tr>\n",
       "      <th>0</th>\n",
       "      <td>a</td>\n",
       "    </tr>\n",
       "    <tr>\n",
       "      <th>1</th>\n",
       "      <td>b</td>\n",
       "    </tr>\n",
       "    <tr>\n",
       "      <th>2</th>\n",
       "      <td>1</td>\n",
       "    </tr>\n",
       "    <tr>\n",
       "      <th>3</th>\n",
       "      <td>True</td>\n",
       "    </tr>\n",
       "  </tbody>\n",
       "</table>\n",
       "</div>"
      ],
      "text/plain": [
       "    mix\n",
       "0     a\n",
       "1     b\n",
       "2     1\n",
       "3  True"
      ]
     },
     "execution_count": 12,
     "metadata": {},
     "output_type": "execute_result"
    }
   ],
   "source": [
    "df_test.head()"
   ]
  },
  {
   "cell_type": "code",
   "execution_count": 13,
   "id": "e0468686",
   "metadata": {},
   "outputs": [
    {
     "name": "stdout",
     "output_type": "stream",
     "text": [
      "mix\n"
     ]
    }
   ],
   "source": [
    "# Check for mixed types\n",
    "for col in df_test.columns.tolist():\n",
    "  weird = (df_test[[col]].applymap(type) != df_test[[col]].iloc[0].apply(type)).any(axis = 1)\n",
    "  if len (df_test[weird]) > 0:\n",
    "    print (col)"
   ]
  },
  {
   "cell_type": "code",
   "execution_count": 14,
   "id": "c0000847",
   "metadata": {},
   "outputs": [],
   "source": [
    "df_test['mix'] = df_test['mix'].astype('str')"
   ]
  },
  {
   "cell_type": "markdown",
   "id": "34cce624",
   "metadata": {},
   "source": [
    "## 05 Addressing missing values"
   ]
  },
  {
   "cell_type": "code",
   "execution_count": 15,
   "id": "f6d477de",
   "metadata": {},
   "outputs": [
    {
     "data": {
      "text/plain": [
       "product_id        0\n",
       "product_name     16\n",
       "aisle_id          0\n",
       "department_id     0\n",
       "prices            0\n",
       "dtype: int64"
      ]
     },
     "execution_count": 15,
     "metadata": {},
     "output_type": "execute_result"
    }
   ],
   "source": [
    "# Finding missing values\n",
    "df_prods.isnull().sum()"
   ]
  },
  {
   "cell_type": "code",
   "execution_count": 16,
   "id": "5b4288fa",
   "metadata": {},
   "outputs": [],
   "source": [
    "df_nan = df_prods [df_prods['product_name'].isnull()==True]"
   ]
  },
  {
   "cell_type": "code",
   "execution_count": 17,
   "id": "39be8cbd",
   "metadata": {},
   "outputs": [
    {
     "data": {
      "text/html": [
       "<div>\n",
       "<style scoped>\n",
       "    .dataframe tbody tr th:only-of-type {\n",
       "        vertical-align: middle;\n",
       "    }\n",
       "\n",
       "    .dataframe tbody tr th {\n",
       "        vertical-align: top;\n",
       "    }\n",
       "\n",
       "    .dataframe thead th {\n",
       "        text-align: right;\n",
       "    }\n",
       "</style>\n",
       "<table border=\"1\" class=\"dataframe\">\n",
       "  <thead>\n",
       "    <tr style=\"text-align: right;\">\n",
       "      <th></th>\n",
       "      <th>product_id</th>\n",
       "      <th>product_name</th>\n",
       "      <th>aisle_id</th>\n",
       "      <th>department_id</th>\n",
       "      <th>prices</th>\n",
       "    </tr>\n",
       "  </thead>\n",
       "  <tbody>\n",
       "    <tr>\n",
       "      <th>33</th>\n",
       "      <td>34</td>\n",
       "      <td>NaN</td>\n",
       "      <td>121</td>\n",
       "      <td>14</td>\n",
       "      <td>12.2</td>\n",
       "    </tr>\n",
       "    <tr>\n",
       "      <th>68</th>\n",
       "      <td>69</td>\n",
       "      <td>NaN</td>\n",
       "      <td>26</td>\n",
       "      <td>7</td>\n",
       "      <td>11.8</td>\n",
       "    </tr>\n",
       "    <tr>\n",
       "      <th>115</th>\n",
       "      <td>116</td>\n",
       "      <td>NaN</td>\n",
       "      <td>93</td>\n",
       "      <td>3</td>\n",
       "      <td>10.8</td>\n",
       "    </tr>\n",
       "    <tr>\n",
       "      <th>261</th>\n",
       "      <td>262</td>\n",
       "      <td>NaN</td>\n",
       "      <td>110</td>\n",
       "      <td>13</td>\n",
       "      <td>12.1</td>\n",
       "    </tr>\n",
       "    <tr>\n",
       "      <th>525</th>\n",
       "      <td>525</td>\n",
       "      <td>NaN</td>\n",
       "      <td>109</td>\n",
       "      <td>11</td>\n",
       "      <td>1.2</td>\n",
       "    </tr>\n",
       "    <tr>\n",
       "      <th>1511</th>\n",
       "      <td>1511</td>\n",
       "      <td>NaN</td>\n",
       "      <td>84</td>\n",
       "      <td>16</td>\n",
       "      <td>14.3</td>\n",
       "    </tr>\n",
       "    <tr>\n",
       "      <th>1780</th>\n",
       "      <td>1780</td>\n",
       "      <td>NaN</td>\n",
       "      <td>126</td>\n",
       "      <td>11</td>\n",
       "      <td>12.3</td>\n",
       "    </tr>\n",
       "    <tr>\n",
       "      <th>2240</th>\n",
       "      <td>2240</td>\n",
       "      <td>NaN</td>\n",
       "      <td>52</td>\n",
       "      <td>1</td>\n",
       "      <td>14.2</td>\n",
       "    </tr>\n",
       "    <tr>\n",
       "      <th>2586</th>\n",
       "      <td>2586</td>\n",
       "      <td>NaN</td>\n",
       "      <td>104</td>\n",
       "      <td>13</td>\n",
       "      <td>12.4</td>\n",
       "    </tr>\n",
       "    <tr>\n",
       "      <th>3159</th>\n",
       "      <td>3159</td>\n",
       "      <td>NaN</td>\n",
       "      <td>126</td>\n",
       "      <td>11</td>\n",
       "      <td>13.1</td>\n",
       "    </tr>\n",
       "    <tr>\n",
       "      <th>3230</th>\n",
       "      <td>3230</td>\n",
       "      <td>NaN</td>\n",
       "      <td>120</td>\n",
       "      <td>16</td>\n",
       "      <td>14.4</td>\n",
       "    </tr>\n",
       "    <tr>\n",
       "      <th>3736</th>\n",
       "      <td>3736</td>\n",
       "      <td>NaN</td>\n",
       "      <td>41</td>\n",
       "      <td>8</td>\n",
       "      <td>14.8</td>\n",
       "    </tr>\n",
       "    <tr>\n",
       "      <th>4283</th>\n",
       "      <td>4283</td>\n",
       "      <td>NaN</td>\n",
       "      <td>77</td>\n",
       "      <td>7</td>\n",
       "      <td>14.4</td>\n",
       "    </tr>\n",
       "    <tr>\n",
       "      <th>4790</th>\n",
       "      <td>4790</td>\n",
       "      <td>NaN</td>\n",
       "      <td>91</td>\n",
       "      <td>16</td>\n",
       "      <td>14.5</td>\n",
       "    </tr>\n",
       "    <tr>\n",
       "      <th>38187</th>\n",
       "      <td>38183</td>\n",
       "      <td>NaN</td>\n",
       "      <td>39</td>\n",
       "      <td>12</td>\n",
       "      <td>20.9</td>\n",
       "    </tr>\n",
       "    <tr>\n",
       "      <th>40444</th>\n",
       "      <td>40440</td>\n",
       "      <td>NaN</td>\n",
       "      <td>120</td>\n",
       "      <td>16</td>\n",
       "      <td>14.8</td>\n",
       "    </tr>\n",
       "  </tbody>\n",
       "</table>\n",
       "</div>"
      ],
      "text/plain": [
       "       product_id product_name  aisle_id  department_id  prices\n",
       "33             34          NaN       121             14    12.2\n",
       "68             69          NaN        26              7    11.8\n",
       "115           116          NaN        93              3    10.8\n",
       "261           262          NaN       110             13    12.1\n",
       "525           525          NaN       109             11     1.2\n",
       "1511         1511          NaN        84             16    14.3\n",
       "1780         1780          NaN       126             11    12.3\n",
       "2240         2240          NaN        52              1    14.2\n",
       "2586         2586          NaN       104             13    12.4\n",
       "3159         3159          NaN       126             11    13.1\n",
       "3230         3230          NaN       120             16    14.4\n",
       "3736         3736          NaN        41              8    14.8\n",
       "4283         4283          NaN        77              7    14.4\n",
       "4790         4790          NaN        91             16    14.5\n",
       "38187       38183          NaN        39             12    20.9\n",
       "40444       40440          NaN       120             16    14.8"
      ]
     },
     "execution_count": 17,
     "metadata": {},
     "output_type": "execute_result"
    }
   ],
   "source": [
    "#creating a subset of the dataframe containing only the missing values\n",
    "df_nan"
   ]
  },
  {
   "cell_type": "code",
   "execution_count": 18,
   "id": "37451e68",
   "metadata": {},
   "outputs": [
    {
     "data": {
      "text/plain": [
       "(49693, 5)"
      ]
     },
     "execution_count": 18,
     "metadata": {},
     "output_type": "execute_result"
    }
   ],
   "source": [
    "df_prods.shape"
   ]
  },
  {
   "cell_type": "code",
   "execution_count": 19,
   "id": "a739ce3d",
   "metadata": {},
   "outputs": [],
   "source": [
    "#Filtering out missing values\n",
    "df_prods_clean = df_prods[df_prods['product_name'].isnull()==False]"
   ]
  },
  {
   "cell_type": "code",
   "execution_count": 20,
   "id": "2798b7aa",
   "metadata": {},
   "outputs": [
    {
     "data": {
      "text/plain": [
       "(49677, 5)"
      ]
     },
     "execution_count": 20,
     "metadata": {},
     "output_type": "execute_result"
    }
   ],
   "source": [
    "df_prods_clean.shape"
   ]
  },
  {
   "cell_type": "code",
   "execution_count": 21,
   "id": "79fcf5fa",
   "metadata": {},
   "outputs": [],
   "source": [
    "#Removing missing values \n",
    "df_prods.dropna(subset = ['product_name'], inplace = True)"
   ]
  },
  {
   "cell_type": "markdown",
   "id": "8af689df",
   "metadata": {},
   "source": [
    "## 06 Checking duplicates"
   ]
  },
  {
   "cell_type": "code",
   "execution_count": 22,
   "id": "18eb385b",
   "metadata": {},
   "outputs": [],
   "source": [
    "#Finding duplicates\n",
    "df_dups = df_prods_clean[df_prods_clean.duplicated()]"
   ]
  },
  {
   "cell_type": "code",
   "execution_count": 23,
   "id": "4b98f4be",
   "metadata": {},
   "outputs": [
    {
     "data": {
      "text/html": [
       "<div>\n",
       "<style scoped>\n",
       "    .dataframe tbody tr th:only-of-type {\n",
       "        vertical-align: middle;\n",
       "    }\n",
       "\n",
       "    .dataframe tbody tr th {\n",
       "        vertical-align: top;\n",
       "    }\n",
       "\n",
       "    .dataframe thead th {\n",
       "        text-align: right;\n",
       "    }\n",
       "</style>\n",
       "<table border=\"1\" class=\"dataframe\">\n",
       "  <thead>\n",
       "    <tr style=\"text-align: right;\">\n",
       "      <th></th>\n",
       "      <th>product_id</th>\n",
       "      <th>product_name</th>\n",
       "      <th>aisle_id</th>\n",
       "      <th>department_id</th>\n",
       "      <th>prices</th>\n",
       "    </tr>\n",
       "  </thead>\n",
       "  <tbody>\n",
       "    <tr>\n",
       "      <th>462</th>\n",
       "      <td>462</td>\n",
       "      <td>Fiber 4g Gummy Dietary Supplement</td>\n",
       "      <td>70</td>\n",
       "      <td>11</td>\n",
       "      <td>4.8</td>\n",
       "    </tr>\n",
       "    <tr>\n",
       "      <th>18459</th>\n",
       "      <td>18458</td>\n",
       "      <td>Ranger IPA</td>\n",
       "      <td>27</td>\n",
       "      <td>5</td>\n",
       "      <td>9.2</td>\n",
       "    </tr>\n",
       "    <tr>\n",
       "      <th>26810</th>\n",
       "      <td>26808</td>\n",
       "      <td>Black House Coffee Roasty Stout Beer</td>\n",
       "      <td>27</td>\n",
       "      <td>5</td>\n",
       "      <td>13.4</td>\n",
       "    </tr>\n",
       "    <tr>\n",
       "      <th>35309</th>\n",
       "      <td>35306</td>\n",
       "      <td>Gluten Free Organic Peanut Butter &amp; Chocolate ...</td>\n",
       "      <td>121</td>\n",
       "      <td>14</td>\n",
       "      <td>6.8</td>\n",
       "    </tr>\n",
       "    <tr>\n",
       "      <th>35495</th>\n",
       "      <td>35491</td>\n",
       "      <td>Adore Forever Body Wash</td>\n",
       "      <td>127</td>\n",
       "      <td>11</td>\n",
       "      <td>9.9</td>\n",
       "    </tr>\n",
       "  </tbody>\n",
       "</table>\n",
       "</div>"
      ],
      "text/plain": [
       "       product_id                                       product_name  \\\n",
       "462           462                  Fiber 4g Gummy Dietary Supplement   \n",
       "18459       18458                                         Ranger IPA   \n",
       "26810       26808               Black House Coffee Roasty Stout Beer   \n",
       "35309       35306  Gluten Free Organic Peanut Butter & Chocolate ...   \n",
       "35495       35491                            Adore Forever Body Wash   \n",
       "\n",
       "       aisle_id  department_id  prices  \n",
       "462          70             11     4.8  \n",
       "18459        27              5     9.2  \n",
       "26810        27              5    13.4  \n",
       "35309       121             14     6.8  \n",
       "35495       127             11     9.9  "
      ]
     },
     "execution_count": 23,
     "metadata": {},
     "output_type": "execute_result"
    }
   ],
   "source": [
    "df_dups"
   ]
  },
  {
   "cell_type": "code",
   "execution_count": 24,
   "id": "5040de54",
   "metadata": {},
   "outputs": [],
   "source": [
    "# Removing duplicates\n",
    "df_prods_clean_no_dups = df_prods_clean.drop_duplicates()"
   ]
  },
  {
   "cell_type": "code",
   "execution_count": 25,
   "id": "6a34ed54",
   "metadata": {},
   "outputs": [
    {
     "data": {
      "text/plain": [
       "(49672, 5)"
      ]
     },
     "execution_count": 25,
     "metadata": {},
     "output_type": "execute_result"
    }
   ],
   "source": [
    "df_prods_clean_no_dups.shape"
   ]
  },
  {
   "cell_type": "code",
   "execution_count": 26,
   "id": "2c2b9dbb",
   "metadata": {},
   "outputs": [],
   "source": [
    "#Exporting\n",
    "df_prods_clean_no_dups.to_csv(os.path.join(path, '02 Data','Prepared Data', 'products_checked.csv'))"
   ]
  },
  {
   "cell_type": "markdown",
   "id": "4a7dfa16",
   "metadata": {},
   "source": [
    "## TASK 4.5"
   ]
  },
  {
   "cell_type": "code",
   "execution_count": 29,
   "id": "861765ee",
   "metadata": {},
   "outputs": [],
   "source": [
    "#1 Import products_checked.csv\n",
    "df_prods = pd.read_csv(os.path.join(path, '02 Data', 'Prepared Data', 'products_checked.csv'), index_col = False)"
   ]
  },
  {
   "cell_type": "code",
   "execution_count": 30,
   "id": "85ffeb95",
   "metadata": {
    "scrolled": true
   },
   "outputs": [
    {
     "data": {
      "text/html": [
       "<div>\n",
       "<style scoped>\n",
       "    .dataframe tbody tr th:only-of-type {\n",
       "        vertical-align: middle;\n",
       "    }\n",
       "\n",
       "    .dataframe tbody tr th {\n",
       "        vertical-align: top;\n",
       "    }\n",
       "\n",
       "    .dataframe thead th {\n",
       "        text-align: right;\n",
       "    }\n",
       "</style>\n",
       "<table border=\"1\" class=\"dataframe\">\n",
       "  <thead>\n",
       "    <tr style=\"text-align: right;\">\n",
       "      <th></th>\n",
       "      <th>product_id</th>\n",
       "      <th>aisle_id</th>\n",
       "      <th>department_id</th>\n",
       "      <th>prices</th>\n",
       "    </tr>\n",
       "  </thead>\n",
       "  <tbody>\n",
       "    <tr>\n",
       "      <th>count</th>\n",
       "      <td>49672.000000</td>\n",
       "      <td>49672.000000</td>\n",
       "      <td>49672.000000</td>\n",
       "      <td>49672.000000</td>\n",
       "    </tr>\n",
       "    <tr>\n",
       "      <th>mean</th>\n",
       "      <td>24850.349775</td>\n",
       "      <td>67.762442</td>\n",
       "      <td>11.728942</td>\n",
       "      <td>9.993282</td>\n",
       "    </tr>\n",
       "    <tr>\n",
       "      <th>std</th>\n",
       "      <td>14340.705287</td>\n",
       "      <td>38.315784</td>\n",
       "      <td>5.850779</td>\n",
       "      <td>453.615536</td>\n",
       "    </tr>\n",
       "    <tr>\n",
       "      <th>min</th>\n",
       "      <td>1.000000</td>\n",
       "      <td>1.000000</td>\n",
       "      <td>1.000000</td>\n",
       "      <td>1.000000</td>\n",
       "    </tr>\n",
       "    <tr>\n",
       "      <th>25%</th>\n",
       "      <td>12432.750000</td>\n",
       "      <td>35.000000</td>\n",
       "      <td>7.000000</td>\n",
       "      <td>4.100000</td>\n",
       "    </tr>\n",
       "    <tr>\n",
       "      <th>50%</th>\n",
       "      <td>24850.500000</td>\n",
       "      <td>69.000000</td>\n",
       "      <td>13.000000</td>\n",
       "      <td>7.100000</td>\n",
       "    </tr>\n",
       "    <tr>\n",
       "      <th>75%</th>\n",
       "      <td>37268.250000</td>\n",
       "      <td>100.000000</td>\n",
       "      <td>17.000000</td>\n",
       "      <td>11.100000</td>\n",
       "    </tr>\n",
       "    <tr>\n",
       "      <th>max</th>\n",
       "      <td>49688.000000</td>\n",
       "      <td>134.000000</td>\n",
       "      <td>21.000000</td>\n",
       "      <td>99999.000000</td>\n",
       "    </tr>\n",
       "  </tbody>\n",
       "</table>\n",
       "</div>"
      ],
      "text/plain": [
       "         product_id      aisle_id  department_id        prices\n",
       "count  49672.000000  49672.000000   49672.000000  49672.000000\n",
       "mean   24850.349775     67.762442      11.728942      9.993282\n",
       "std    14340.705287     38.315784       5.850779    453.615536\n",
       "min        1.000000      1.000000       1.000000      1.000000\n",
       "25%    12432.750000     35.000000       7.000000      4.100000\n",
       "50%    24850.500000     69.000000      13.000000      7.100000\n",
       "75%    37268.250000    100.000000      17.000000     11.100000\n",
       "max    49688.000000    134.000000      21.000000  99999.000000"
      ]
     },
     "execution_count": 30,
     "metadata": {},
     "output_type": "execute_result"
    }
   ],
   "source": [
    "#2 Run the df.describe() function on your df_prods dataframe. \n",
    "df_prods.describe()"
   ]
  },
  {
   "cell_type": "markdown",
   "id": "e2e04eaf",
   "metadata": {},
   "source": [
    "#### Min values are consistent, however, the maximum price is unexpected high and it might be an error which should be investigated further. "
   ]
  },
  {
   "cell_type": "code",
   "execution_count": 31,
   "id": "8732ab0e",
   "metadata": {},
   "outputs": [],
   "source": [
    "#3 Check for mixed types\n",
    "for col in df_ords.columns.tolist():\n",
    "  weird = (df_ords[[col]].applymap(type) != df_ords[[col]].iloc[0].apply(type)).any(axis = 1)\n",
    "  if len (df_ords[weird]) > 0:\n",
    "    print (col)"
   ]
  },
  {
   "cell_type": "markdown",
   "id": "5f565ac8",
   "metadata": {},
   "source": [
    "####  #4 The df_ords doesn't have mixed-type data."
   ]
  },
  {
   "cell_type": "code",
   "execution_count": 32,
   "id": "ab7dbe7c",
   "metadata": {},
   "outputs": [
    {
     "data": {
      "text/plain": [
       "order_id                       0\n",
       "user_id                        0\n",
       "eval_set                       0\n",
       "order_number                   0\n",
       "order_dow                      0\n",
       "order_hour_of_day              0\n",
       "days_since_prior_order    206209\n",
       "dtype: int64"
      ]
     },
     "execution_count": 32,
     "metadata": {},
     "output_type": "execute_result"
    }
   ],
   "source": [
    "#5 Run a check for missing values in your df_ords dataframe.\n",
    "df_ords.isnull().sum()"
   ]
  },
  {
   "cell_type": "markdown",
   "id": "14507b54",
   "metadata": {},
   "source": [
    "#### There are 206209 missing values in days_since_prior_order column. It might happen because new customers placed their first order. To distinguish between new and repeating customers, a new column is necessary to create."
   ]
  },
  {
   "cell_type": "code",
   "execution_count": 33,
   "id": "532b6512",
   "metadata": {},
   "outputs": [],
   "source": [
    "#6 Address the missing values using an appropriate method.\n",
    "df_ords_new = df_ords"
   ]
  },
  {
   "cell_type": "code",
   "execution_count": 34,
   "id": "456e5104",
   "metadata": {},
   "outputs": [],
   "source": [
    "df_ords_new['new_customer'] = df_ords['days_since_prior_order'].isnull() == True"
   ]
  },
  {
   "cell_type": "code",
   "execution_count": 35,
   "id": "dfe17db4",
   "metadata": {},
   "outputs": [
    {
     "data": {
      "text/html": [
       "<div>\n",
       "<style scoped>\n",
       "    .dataframe tbody tr th:only-of-type {\n",
       "        vertical-align: middle;\n",
       "    }\n",
       "\n",
       "    .dataframe tbody tr th {\n",
       "        vertical-align: top;\n",
       "    }\n",
       "\n",
       "    .dataframe thead th {\n",
       "        text-align: right;\n",
       "    }\n",
       "</style>\n",
       "<table border=\"1\" class=\"dataframe\">\n",
       "  <thead>\n",
       "    <tr style=\"text-align: right;\">\n",
       "      <th></th>\n",
       "      <th>order_id</th>\n",
       "      <th>user_id</th>\n",
       "      <th>eval_set</th>\n",
       "      <th>order_number</th>\n",
       "      <th>order_dow</th>\n",
       "      <th>order_hour_of_day</th>\n",
       "      <th>days_since_prior_order</th>\n",
       "      <th>new_customer</th>\n",
       "    </tr>\n",
       "  </thead>\n",
       "  <tbody>\n",
       "    <tr>\n",
       "      <th>0</th>\n",
       "      <td>2539329</td>\n",
       "      <td>1</td>\n",
       "      <td>prior</td>\n",
       "      <td>1</td>\n",
       "      <td>2</td>\n",
       "      <td>8</td>\n",
       "      <td>NaN</td>\n",
       "      <td>True</td>\n",
       "    </tr>\n",
       "    <tr>\n",
       "      <th>1</th>\n",
       "      <td>2398795</td>\n",
       "      <td>1</td>\n",
       "      <td>prior</td>\n",
       "      <td>2</td>\n",
       "      <td>3</td>\n",
       "      <td>7</td>\n",
       "      <td>15.0</td>\n",
       "      <td>False</td>\n",
       "    </tr>\n",
       "    <tr>\n",
       "      <th>2</th>\n",
       "      <td>473747</td>\n",
       "      <td>1</td>\n",
       "      <td>prior</td>\n",
       "      <td>3</td>\n",
       "      <td>3</td>\n",
       "      <td>12</td>\n",
       "      <td>21.0</td>\n",
       "      <td>False</td>\n",
       "    </tr>\n",
       "    <tr>\n",
       "      <th>3</th>\n",
       "      <td>2254736</td>\n",
       "      <td>1</td>\n",
       "      <td>prior</td>\n",
       "      <td>4</td>\n",
       "      <td>4</td>\n",
       "      <td>7</td>\n",
       "      <td>29.0</td>\n",
       "      <td>False</td>\n",
       "    </tr>\n",
       "    <tr>\n",
       "      <th>4</th>\n",
       "      <td>431534</td>\n",
       "      <td>1</td>\n",
       "      <td>prior</td>\n",
       "      <td>5</td>\n",
       "      <td>4</td>\n",
       "      <td>15</td>\n",
       "      <td>28.0</td>\n",
       "      <td>False</td>\n",
       "    </tr>\n",
       "    <tr>\n",
       "      <th>...</th>\n",
       "      <td>...</td>\n",
       "      <td>...</td>\n",
       "      <td>...</td>\n",
       "      <td>...</td>\n",
       "      <td>...</td>\n",
       "      <td>...</td>\n",
       "      <td>...</td>\n",
       "      <td>...</td>\n",
       "    </tr>\n",
       "    <tr>\n",
       "      <th>3421078</th>\n",
       "      <td>2266710</td>\n",
       "      <td>206209</td>\n",
       "      <td>prior</td>\n",
       "      <td>10</td>\n",
       "      <td>5</td>\n",
       "      <td>18</td>\n",
       "      <td>29.0</td>\n",
       "      <td>False</td>\n",
       "    </tr>\n",
       "    <tr>\n",
       "      <th>3421079</th>\n",
       "      <td>1854736</td>\n",
       "      <td>206209</td>\n",
       "      <td>prior</td>\n",
       "      <td>11</td>\n",
       "      <td>4</td>\n",
       "      <td>10</td>\n",
       "      <td>30.0</td>\n",
       "      <td>False</td>\n",
       "    </tr>\n",
       "    <tr>\n",
       "      <th>3421080</th>\n",
       "      <td>626363</td>\n",
       "      <td>206209</td>\n",
       "      <td>prior</td>\n",
       "      <td>12</td>\n",
       "      <td>1</td>\n",
       "      <td>12</td>\n",
       "      <td>18.0</td>\n",
       "      <td>False</td>\n",
       "    </tr>\n",
       "    <tr>\n",
       "      <th>3421081</th>\n",
       "      <td>2977660</td>\n",
       "      <td>206209</td>\n",
       "      <td>prior</td>\n",
       "      <td>13</td>\n",
       "      <td>1</td>\n",
       "      <td>12</td>\n",
       "      <td>7.0</td>\n",
       "      <td>False</td>\n",
       "    </tr>\n",
       "    <tr>\n",
       "      <th>3421082</th>\n",
       "      <td>272231</td>\n",
       "      <td>206209</td>\n",
       "      <td>train</td>\n",
       "      <td>14</td>\n",
       "      <td>6</td>\n",
       "      <td>14</td>\n",
       "      <td>30.0</td>\n",
       "      <td>False</td>\n",
       "    </tr>\n",
       "  </tbody>\n",
       "</table>\n",
       "<p>3421083 rows × 8 columns</p>\n",
       "</div>"
      ],
      "text/plain": [
       "         order_id  user_id eval_set  order_number  order_dow  \\\n",
       "0         2539329        1    prior             1          2   \n",
       "1         2398795        1    prior             2          3   \n",
       "2          473747        1    prior             3          3   \n",
       "3         2254736        1    prior             4          4   \n",
       "4          431534        1    prior             5          4   \n",
       "...           ...      ...      ...           ...        ...   \n",
       "3421078   2266710   206209    prior            10          5   \n",
       "3421079   1854736   206209    prior            11          4   \n",
       "3421080    626363   206209    prior            12          1   \n",
       "3421081   2977660   206209    prior            13          1   \n",
       "3421082    272231   206209    train            14          6   \n",
       "\n",
       "         order_hour_of_day  days_since_prior_order  new_customer  \n",
       "0                        8                     NaN          True  \n",
       "1                        7                    15.0         False  \n",
       "2                       12                    21.0         False  \n",
       "3                        7                    29.0         False  \n",
       "4                       15                    28.0         False  \n",
       "...                    ...                     ...           ...  \n",
       "3421078                 18                    29.0         False  \n",
       "3421079                 10                    30.0         False  \n",
       "3421080                 12                    18.0         False  \n",
       "3421081                 12                     7.0         False  \n",
       "3421082                 14                    30.0         False  \n",
       "\n",
       "[3421083 rows x 8 columns]"
      ]
     },
     "execution_count": 35,
     "metadata": {},
     "output_type": "execute_result"
    }
   ],
   "source": [
    "df_ords_new"
   ]
  },
  {
   "cell_type": "markdown",
   "id": "9604cbc8",
   "metadata": {},
   "source": [
    "#### The 'new_customer' column allows identify new and repeating customers."
   ]
  },
  {
   "cell_type": "code",
   "execution_count": 36,
   "id": "334f02a6",
   "metadata": {},
   "outputs": [],
   "source": [
    "#7 Run a check for duplicate values in your df_ords data.\n",
    "df_ords_dups = df_ords_new[df_ords_new.duplicated()]"
   ]
  },
  {
   "cell_type": "code",
   "execution_count": 37,
   "id": "58efbf0e",
   "metadata": {},
   "outputs": [
    {
     "data": {
      "text/html": [
       "<div>\n",
       "<style scoped>\n",
       "    .dataframe tbody tr th:only-of-type {\n",
       "        vertical-align: middle;\n",
       "    }\n",
       "\n",
       "    .dataframe tbody tr th {\n",
       "        vertical-align: top;\n",
       "    }\n",
       "\n",
       "    .dataframe thead th {\n",
       "        text-align: right;\n",
       "    }\n",
       "</style>\n",
       "<table border=\"1\" class=\"dataframe\">\n",
       "  <thead>\n",
       "    <tr style=\"text-align: right;\">\n",
       "      <th></th>\n",
       "      <th>order_id</th>\n",
       "      <th>user_id</th>\n",
       "      <th>eval_set</th>\n",
       "      <th>order_number</th>\n",
       "      <th>order_dow</th>\n",
       "      <th>order_hour_of_day</th>\n",
       "      <th>days_since_prior_order</th>\n",
       "      <th>new_customer</th>\n",
       "    </tr>\n",
       "  </thead>\n",
       "  <tbody>\n",
       "  </tbody>\n",
       "</table>\n",
       "</div>"
      ],
      "text/plain": [
       "Empty DataFrame\n",
       "Columns: [order_id, user_id, eval_set, order_number, order_dow, order_hour_of_day, days_since_prior_order, new_customer]\n",
       "Index: []"
      ]
     },
     "execution_count": 37,
     "metadata": {},
     "output_type": "execute_result"
    }
   ],
   "source": [
    "df_ords_dups"
   ]
  },
  {
   "cell_type": "markdown",
   "id": "0bddc7c8",
   "metadata": {},
   "source": [
    "#### #8 No duplicates in df_ords_new"
   ]
  },
  {
   "cell_type": "code",
   "execution_count": 38,
   "id": "f18042c8",
   "metadata": {},
   "outputs": [],
   "source": [
    "#9 Export your final, cleaned df_prods and df_ords data as “.csv” files in your “Prepared Data” folder\n",
    "df_prods.to_csv(os.path.join(path, '02 Data','Prepared Data', 'products_checked.csv'))"
   ]
  },
  {
   "cell_type": "code",
   "execution_count": 41,
   "id": "1a20f818",
   "metadata": {},
   "outputs": [],
   "source": [
    "df_ords_new.to_csv(os.path.join(path, '02 Data','Prepared Data', 'orders_checked.csv'))"
   ]
  }
 ],
 "metadata": {
  "kernelspec": {
   "display_name": "Python 3 (ipykernel)",
   "language": "python",
   "name": "python3"
  },
  "language_info": {
   "codemirror_mode": {
    "name": "ipython",
    "version": 3
   },
   "file_extension": ".py",
   "mimetype": "text/x-python",
   "name": "python",
   "nbconvert_exporter": "python",
   "pygments_lexer": "ipython3",
   "version": "3.9.12"
  }
 },
 "nbformat": 4,
 "nbformat_minor": 5
}
